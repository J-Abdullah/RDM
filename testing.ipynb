{
 "cells": [
  {
   "cell_type": "code",
   "execution_count": 1,
   "metadata": {},
   "outputs": [
    {
     "name": "stderr",
     "output_type": "stream",
     "text": [
      "c:\\Users\\J.Abdullah\\AppData\\Local\\Programs\\Python\\Python311\\Lib\\site-packages\\keras\\initializers\\initializers.py:120: UserWarning: The initializer GlorotNormal is unseeded and being called multiple times, which will return identical values each time (even if the initializer is unseeded). Please update your code to provide a seed to the initializer, or avoid using the same initalizer instance more than once.\n",
      "  warnings.warn(\n",
      "c:\\Users\\J.Abdullah\\AppData\\Local\\Programs\\Python\\Python311\\Lib\\site-packages\\tqdm\\auto.py:21: TqdmWarning: IProgress not found. Please update jupyter and ipywidgets. See https://ipywidgets.readthedocs.io/en/stable/user_install.html\n",
      "  from .autonotebook import tqdm as notebook_tqdm\n"
     ]
    }
   ],
   "source": [
    "from model_functions import *\n",
    "from input_functions import *\n",
    "import librosa\n",
    "import pickle\n",
    "import numpy as np\n",
    "import pandas as pd"
   ]
  },
  {
   "cell_type": "code",
   "execution_count": 3,
   "metadata": {},
   "outputs": [
    {
     "name": "stdout",
     "output_type": "stream",
     "text": [
      "The patient is diagnosed with COPD\n",
      "The patient is prescribed with [['Tiotropium' '1 puff (18 mcg)' 'Once daily']]\n"
     ]
    }
   ],
   "source": [
    "user_data={}\n",
    "user_data['Age']=25 #input('Enter the age of the patient: ')\n",
    "user_data['Gender']='Male' #input('Enter Gender of the patient: ')\n",
    "user_data['Smoking Status']='Ex-smoker' #input('Enter Smoking Status of the patient: ')\n",
    "\n",
    "\n",
    "\n",
    "file=r'E:\\Lea!n\\RDM\\Respiratory_Sound_Database\\audio_and_txt_files\\107_2b4_Al_mc_AKGC417L.wav'\n",
    "disease=diagnoser(file)\n",
    "\n",
    "user_data['Disease']= disease\n",
    "\n",
    "print('The patient is diagnosed with',disease)\n",
    "\n",
    "\n",
    "if disease!='Healthy':\n",
    "    medicine=medicine_presciber(user_data)\n",
    "    print('The patient is prescribed with',medicine)\n",
    "    \n",
    "    \n",
    "\n"
   ]
  },
  {
   "cell_type": "code",
   "execution_count": 5,
   "metadata": {},
   "outputs": [],
   "source": [
    "import tkinter as tk\n",
    "from tkinter import filedialog\n",
    "\n",
    "def select_file():\n",
    "    root=tk.Tk()\n",
    "    root.withdraw()\n",
    "    return filedialog.askopenfilename()\n",
    "\n",
    "    "
   ]
  },
  {
   "cell_type": "code",
   "execution_count": 6,
   "metadata": {},
   "outputs": [],
   "source": [
    "file2=select_file()\n",
    "file2"
   ]
  },
  {
   "cell_type": "code",
   "execution_count": 11,
   "metadata": {},
   "outputs": [
    {
     "name": "stdout",
     "output_type": "stream",
     "text": [
      "Audio: [-0.18224417 -0.21167447 -0.22361559 ...  0.01515224  0.00853474\n",
      "  0.00290917]\n",
      "Sample Rate: 22050\n"
     ]
    }
   ],
   "source": [
    "file=r'E:\\Lea!n\\RDM\\Respiratory_Sound_Database\\audio_and_txt_files\\157_1b1_Ar_sc_Meditron.wav'\n",
    "audio1, sample_rate1 = librosa.load(file)\n",
    "print('Audio:',audio1)\n",
    "print('Sample Rate:',sample_rate1)"
   ]
  },
  {
   "cell_type": "code",
   "execution_count": 8,
   "metadata": {},
   "outputs": [
    {
     "data": {
      "text/plain": [
       "(441000,)"
      ]
     },
     "execution_count": 8,
     "metadata": {},
     "output_type": "execute_result"
    }
   ],
   "source": [
    "audio1.shape"
   ]
  },
  {
   "cell_type": "code",
   "execution_count": 2,
   "metadata": {},
   "outputs": [
    {
     "name": "stdout",
     "output_type": "stream",
     "text": [
      "Recording...\n",
      "Recording stopped\n",
      "Audio: [ 0.0000000e+00  0.0000000e+00 -3.0517578e-05 ...  1.8615723e-03\n",
      "  1.5258789e-03  1.4343262e-03]\n",
      "Sample Rate: 22050\n"
     ]
    }
   ],
   "source": [
    "audio, sample_rate = record_audio()\n",
    "print('Audio:',audio)\n",
    "print('Sample Rate:',sample_rate)"
   ]
  },
  {
   "cell_type": "code",
   "execution_count": 6,
   "metadata": {},
   "outputs": [],
   "source": [
    "sd.play(audio1, sample_rate1)\n",
    "sd.wait()"
   ]
  },
  {
   "cell_type": "code",
   "execution_count": 14,
   "metadata": {},
   "outputs": [
    {
     "data": {
      "text/plain": [
       "(array([-0.18224417, -0.21167447, -0.22361559, ...,  0.01515224,\n",
       "         0.00853474,  0.00290917], dtype=float32),\n",
       " 22050)"
      ]
     },
     "execution_count": 14,
     "metadata": {},
     "output_type": "execute_result"
    }
   ],
   "source": [
    "file=audio1, sample_rate1\n",
    "file"
   ]
  },
  {
   "cell_type": "code",
   "execution_count": 12,
   "metadata": {},
   "outputs": [
    {
     "data": {
      "text/plain": [
       "'COPD'"
      ]
     },
     "execution_count": 12,
     "metadata": {},
     "output_type": "execute_result"
    }
   ],
   "source": [
    "disease=diagnoser((audio1, sample_rate1))\n",
    "disease"
   ]
  }
 ],
 "metadata": {
  "kernelspec": {
   "display_name": "Python 3",
   "language": "python",
   "name": "python3"
  },
  "language_info": {
   "codemirror_mode": {
    "name": "ipython",
    "version": 3
   },
   "file_extension": ".py",
   "mimetype": "text/x-python",
   "name": "python",
   "nbconvert_exporter": "python",
   "pygments_lexer": "ipython3",
   "version": "3.11.1"
  }
 },
 "nbformat": 4,
 "nbformat_minor": 2
}
