{
 "cells": [
  {
   "cell_type": "code",
   "execution_count": 7,
   "metadata": {},
   "outputs": [
    {
     "name": "stderr",
     "output_type": "stream",
     "text": [
      "c:\\Users\\J.Abdullah\\AppData\\Local\\Programs\\Python\\Python311\\Lib\\site-packages\\keras\\initializers\\initializers.py:120: UserWarning: The initializer GlorotNormal is unseeded and being called multiple times, which will return identical values each time (even if the initializer is unseeded). Please update your code to provide a seed to the initializer, or avoid using the same initalizer instance more than once.\n",
      "  warnings.warn(\n"
     ]
    }
   ],
   "source": [
    "from model_functions import *\n",
    "import librosa\n",
    "import pickle\n",
    "import numpy as np\n",
    "import pandas as pd"
   ]
  },
  {
   "cell_type": "code",
   "execution_count": 4,
   "metadata": {},
   "outputs": [
    {
     "name": "stdout",
     "output_type": "stream",
     "text": [
      "The patient is diagnosed with COPD\n",
      "The patient is prescribed with [['Tiotropium' '1 puff (18 mcg)' 'Once daily']]\n"
     ]
    }
   ],
   "source": [
    "user_data={}\n",
    "user_data['Age']=25 #input('Enter the age of the patient: ')\n",
    "user_data['Gender']='Male' #input('Enter Gender of the patient: ')\n",
    "user_data['Smoking Status']='Ex-smoker' #input('Enter Smoking Status of the patient: ')\n",
    "\n",
    "\n",
    "\n",
    "file=r'E:\\Lea!n\\RDM\\Respiratory_Sound_Database\\audio_and_txt_files\\107_2b4_Al_mc_AKGC417L.wav'\n",
    "disease=diagnoser(file)\n",
    "\n",
    "user_data['Disease']= disease\n",
    "\n",
    "print('The patient is diagnosed with',disease)\n",
    "\n",
    "\n",
    "if disease!='Healthy':\n",
    "    medicine=medicine_presciber(user_data)\n",
    "    print('The patient is prescribed with',medicine)\n",
    "    \n",
    "    \n",
    "\n"
   ]
  },
  {
   "cell_type": "code",
   "execution_count": 6,
   "metadata": {},
   "outputs": [
    {
     "data": {
      "text/plain": [
       "'Tiotropium'"
      ]
     },
     "execution_count": 6,
     "metadata": {},
     "output_type": "execute_result"
    }
   ],
   "source": [
    "\n",
    "\n"
   ]
  }
 ],
 "metadata": {
  "kernelspec": {
   "display_name": "Python 3",
   "language": "python",
   "name": "python3"
  },
  "language_info": {
   "codemirror_mode": {
    "name": "ipython",
    "version": 3
   },
   "file_extension": ".py",
   "mimetype": "text/x-python",
   "name": "python",
   "nbconvert_exporter": "python",
   "pygments_lexer": "ipython3",
   "version": "3.11.1"
  }
 },
 "nbformat": 4,
 "nbformat_minor": 2
}
