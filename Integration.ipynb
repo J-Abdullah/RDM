{
 "cells": [
  {
   "cell_type": "code",
   "execution_count": 51,
   "metadata": {},
   "outputs": [
    {
     "ename": "ImportError",
     "evalue": "cannot import name 'preprocessing' from 'important_functions' (e:\\Lea!n\\RDM\\important_functions.py)",
     "output_type": "error",
     "traceback": [
      "\u001b[1;31m---------------------------------------------------------------------------\u001b[0m",
      "\u001b[1;31mImportError\u001b[0m                               Traceback (most recent call last)",
      "Cell \u001b[1;32mIn[51], line 7\u001b[0m\n\u001b[0;32m      5\u001b[0m \u001b[38;5;28;01mimport\u001b[39;00m \u001b[38;5;21;01mlibrosa\u001b[39;00m\n\u001b[0;32m      6\u001b[0m \u001b[38;5;28;01mimport\u001b[39;00m \u001b[38;5;21;01mpickle\u001b[39;00m\n\u001b[1;32m----> 7\u001b[0m \u001b[38;5;28;01mfrom\u001b[39;00m \u001b[38;5;21;01mimportant_functions\u001b[39;00m \u001b[38;5;28;01mimport\u001b[39;00m feature_extraction,preprocessing\n\u001b[0;32m      8\u001b[0m \u001b[38;5;28;01mimport\u001b[39;00m \u001b[38;5;21;01mnumpy\u001b[39;00m \u001b[38;5;28;01mas\u001b[39;00m \u001b[38;5;21;01mnp\u001b[39;00m\n\u001b[0;32m      9\u001b[0m \u001b[38;5;28;01mimport\u001b[39;00m \u001b[38;5;21;01mpandas\u001b[39;00m \u001b[38;5;28;01mas\u001b[39;00m \u001b[38;5;21;01mpd\u001b[39;00m\n",
      "\u001b[1;31mImportError\u001b[0m: cannot import name 'preprocessing' from 'important_functions' (e:\\Lea!n\\RDM\\important_functions.py)"
     ]
    }
   ],
   "source": [
    "from tensorflow.keras.models import load_model\n",
    "from keras_self_attention import SeqSelfAttention\n",
    "from sklearn.preprocessing import LabelEncoder\n",
    "from tensorflow.keras.layers import LSTM, Dense, Dropout, Conv1D, MaxPooling1D, Input, BatchNormalization\n",
    "import librosa\n",
    "import pickle\n",
    "from important_functions import feature_extraction\n",
    "import numpy as np\n",
    "import pandas as pd"
   ]
  },
  {
   "cell_type": "code",
   "execution_count": 13,
   "metadata": {},
   "outputs": [
    {
     "name": "stderr",
     "output_type": "stream",
     "text": [
      "c:\\Users\\J.Abdullah\\AppData\\Local\\Programs\\Python\\Python311\\Lib\\site-packages\\keras\\initializers\\initializers.py:120: UserWarning: The initializer GlorotNormal is unseeded and being called multiple times, which will return identical values each time (even if the initializer is unseeded). Please update your code to provide a seed to the initializer, or avoid using the same initalizer instance more than once.\n",
      "  warnings.warn(\n"
     ]
    },
    {
     "name": "stdout",
     "output_type": "stream",
     "text": [
      "The disease is COPD\n"
     ]
    }
   ],
   "source": [
    "label_encoder=pickle.load(open(r'Serialized_objects\\disease_encoder.pkl','rb'))\n",
    "\n",
    "diagnoser=load_model(r'Serialized_objects\\RDM_Diagnose.h5',custom_objects={'SeqSelfAttention': SeqSelfAttention})\n",
    "\n",
    "file=r'E:\\Lea!n\\RDM\\Respiratory_Sound_Database\\audio_and_txt_files\\107_2b4_Al_mc_AKGC417L.wav'\n",
    "\n",
    "mfcc=feature_extraction(file)\n",
    "disease=diagnoser(mfcc)\n",
    "disease=label_encoder.inverse_transform(np.argmax(disease,axis=1))[0]\n",
    "\n",
    "print (f'The disease is {disease}')"
   ]
  },
  {
   "cell_type": "code",
   "execution_count": 33,
   "metadata": {},
   "outputs": [],
   "source": [
    "encoder=pickle.load(open(r'Serialized_objects\\user_data_encoder.pkl','rb'))\n",
    "\n",
    "s_model=pickle.load(open(r'Serialized_objects\\medication_prescription.pkl','rb'))"
   ]
  },
  {
   "cell_type": "code",
   "execution_count": 34,
   "metadata": {},
   "outputs": [],
   "source": [
    "def predict_medication(user_data):\n",
    "    #convert the user data to a dataframe\n",
    "    user_df=pd.DataFrame([user_data])\n",
    "\n",
    "    #encode the user data\n",
    "    categorical_data=user_df[['Gender','Smoking Status','Disease']]\n",
    "    numeric_data=user_df[['Age']]\n",
    "\n",
    "    categorical_data=encoder.transform(categorical_data).toarray()\n",
    "    features = np.hstack([numeric_data, categorical_data])\n",
    "    prediction=s_model.predict(features)\n",
    "    return prediction"
   ]
  },
  {
   "cell_type": "code",
   "execution_count": 52,
   "metadata": {},
   "outputs": [
    {
     "data": {
      "text/plain": [
       "array([['Ibuprofen', '400-600 mg', 'Every 6 to 8 hours as needed']],\n",
       "      dtype=object)"
      ]
     },
     "execution_count": 52,
     "metadata": {},
     "output_type": "execute_result"
    }
   ],
   "source": [
    "user_data={}\n",
    "user_data['Age']=25 #input('Enter the age of the patient: ')\n",
    "user_data['Gender']='Male' #input('Enter Gender of the patient: ')\n",
    "user_data['Smoking Status']='Ex-smoker' #input('Enter Smoking Status of the patient: ')\n",
    "user_data['Disease']='URTI' #input('Enter the Disease of the patient: ')\n",
    "\n",
    "pred=predict_medication(user_data)\n",
    "pred"
   ]
  },
  {
   "cell_type": "code",
   "execution_count": null,
   "metadata": {},
   "outputs": [],
   "source": [
    "from important_functions import prep"
   ]
  }
 ],
 "metadata": {
  "kernelspec": {
   "display_name": "Python 3",
   "language": "python",
   "name": "python3"
  },
  "language_info": {
   "codemirror_mode": {
    "name": "ipython",
    "version": 3
   },
   "file_extension": ".py",
   "mimetype": "text/x-python",
   "name": "python",
   "nbconvert_exporter": "python",
   "pygments_lexer": "ipython3",
   "version": "3.11.1"
  }
 },
 "nbformat": 4,
 "nbformat_minor": 2
}
