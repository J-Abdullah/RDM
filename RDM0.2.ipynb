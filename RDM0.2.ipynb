{
 "cells": [
  {
   "cell_type": "code",
   "execution_count": 33,
   "metadata": {},
   "outputs": [],
   "source": [
    "import pandas as pd\n",
    "import numpy as np\n",
    "import matplotlib.pyplot as plt\n",
    "import seaborn as sns\n",
    "import glob\n",
    "import os\n",
    "import librosa\n",
    "import soundfile as sf\n",
    "from sklearn.model_selection import train_test_split\n",
    "from sklearn.preprocessing import LabelEncoder\n",
    "from tensorflow.keras.models import Sequential\n",
    "from tensorflow.keras.layers import LSTM, Dense, Dropout, Conv1D, MaxPooling1D, Input, BatchNormalization\n",
    "from tensorflow.keras.utils import to_categorical\n",
    "from keras_self_attention import SeqSelfAttention \n",
    "from tensorflow.keras.callbacks import EarlyStopping\n",
    "from sklearn.metrics import classification_report\n",
    "from sklearn.metrics import roc_curve, auc\n",
    "from sklearn.preprocessing import label_binarize\n",
    "from itertools import cycle\n"
   ]
  },
  {
   "cell_type": "code",
   "execution_count": 3,
   "metadata": {},
   "outputs": [],
   "source": [
    "import warnings\n",
    "warnings.filterwarnings('ignore')"
   ]
  },
  {
   "cell_type": "code",
   "execution_count": 4,
   "metadata": {},
   "outputs": [
    {
     "data": {
      "text/html": [
       "<div>\n",
       "<style scoped>\n",
       "    .dataframe tbody tr th:only-of-type {\n",
       "        vertical-align: middle;\n",
       "    }\n",
       "\n",
       "    .dataframe tbody tr th {\n",
       "        vertical-align: top;\n",
       "    }\n",
       "\n",
       "    .dataframe thead th {\n",
       "        text-align: right;\n",
       "    }\n",
       "</style>\n",
       "<table border=\"1\" class=\"dataframe\">\n",
       "  <thead>\n",
       "    <tr style=\"text-align: right;\">\n",
       "      <th></th>\n",
       "      <th>patient_id</th>\n",
       "      <th>diagnosis</th>\n",
       "      <th>recording_index</th>\n",
       "      <th>chest_location</th>\n",
       "      <th>acquisition_mode</th>\n",
       "      <th>recording_equipment</th>\n",
       "    </tr>\n",
       "  </thead>\n",
       "  <tbody>\n",
       "    <tr>\n",
       "      <th>0</th>\n",
       "      <td>101</td>\n",
       "      <td>URTI</td>\n",
       "      <td>1b1</td>\n",
       "      <td>Al</td>\n",
       "      <td>sc</td>\n",
       "      <td>Meditron</td>\n",
       "    </tr>\n",
       "    <tr>\n",
       "      <th>1</th>\n",
       "      <td>101</td>\n",
       "      <td>URTI</td>\n",
       "      <td>1b1</td>\n",
       "      <td>Pr</td>\n",
       "      <td>sc</td>\n",
       "      <td>Meditron</td>\n",
       "    </tr>\n",
       "    <tr>\n",
       "      <th>2</th>\n",
       "      <td>102</td>\n",
       "      <td>Healthy</td>\n",
       "      <td>1b1</td>\n",
       "      <td>Ar</td>\n",
       "      <td>sc</td>\n",
       "      <td>Meditron</td>\n",
       "    </tr>\n",
       "    <tr>\n",
       "      <th>3</th>\n",
       "      <td>103</td>\n",
       "      <td>Asthma</td>\n",
       "      <td>2b2</td>\n",
       "      <td>Ar</td>\n",
       "      <td>mc</td>\n",
       "      <td>LittC2SE</td>\n",
       "    </tr>\n",
       "    <tr>\n",
       "      <th>4</th>\n",
       "      <td>104</td>\n",
       "      <td>COPD</td>\n",
       "      <td>1b1</td>\n",
       "      <td>Al</td>\n",
       "      <td>sc</td>\n",
       "      <td>Litt3200</td>\n",
       "    </tr>\n",
       "  </tbody>\n",
       "</table>\n",
       "</div>"
      ],
      "text/plain": [
       "   patient_id diagnosis recording_index chest_location acquisition_mode  \\\n",
       "0         101      URTI             1b1             Al               sc   \n",
       "1         101      URTI             1b1             Pr               sc   \n",
       "2         102   Healthy             1b1             Ar               sc   \n",
       "3         103    Asthma             2b2             Ar               mc   \n",
       "4         104      COPD             1b1             Al               sc   \n",
       "\n",
       "  recording_equipment  \n",
       "0            Meditron  \n",
       "1            Meditron  \n",
       "2            Meditron  \n",
       "3            LittC2SE  \n",
       "4            Litt3200  "
      ]
     },
     "execution_count": 4,
     "metadata": {},
     "output_type": "execute_result"
    }
   ],
   "source": [
    "df=pd.read_csv(r'Respiratory_Sound_Database\\diagnosis_details.csv')\n",
    "df.head()"
   ]
  },
  {
   "cell_type": "code",
   "execution_count": 5,
   "metadata": {},
   "outputs": [
    {
     "data": {
      "text/plain": [
       "patient_id             0\n",
       "diagnosis              0\n",
       "recording_index        0\n",
       "chest_location         0\n",
       "acquisition_mode       0\n",
       "recording_equipment    0\n",
       "dtype: int64"
      ]
     },
     "execution_count": 5,
     "metadata": {},
     "output_type": "execute_result"
    }
   ],
   "source": [
    "df.isnull().sum()"
   ]
  },
  {
   "cell_type": "code",
   "execution_count": 6,
   "metadata": {},
   "outputs": [
    {
     "name": "stdout",
     "output_type": "stream",
     "text": [
      "<class 'pandas.core.frame.DataFrame'>\n",
      "RangeIndex: 920 entries, 0 to 919\n",
      "Data columns (total 6 columns):\n",
      " #   Column               Non-Null Count  Dtype \n",
      "---  ------               --------------  ----- \n",
      " 0   patient_id           920 non-null    int64 \n",
      " 1   diagnosis            920 non-null    object\n",
      " 2   recording_index      920 non-null    object\n",
      " 3   chest_location       920 non-null    object\n",
      " 4   acquisition_mode     920 non-null    object\n",
      " 5   recording_equipment  920 non-null    object\n",
      "dtypes: int64(1), object(5)\n",
      "memory usage: 43.2+ KB\n"
     ]
    }
   ],
   "source": [
    "df.info()"
   ]
  },
  {
   "cell_type": "code",
   "execution_count": 7,
   "metadata": {},
   "outputs": [
    {
     "data": {
      "text/html": [
       "<div>\n",
       "<style scoped>\n",
       "    .dataframe tbody tr th:only-of-type {\n",
       "        vertical-align: middle;\n",
       "    }\n",
       "\n",
       "    .dataframe tbody tr th {\n",
       "        vertical-align: top;\n",
       "    }\n",
       "\n",
       "    .dataframe thead th {\n",
       "        text-align: right;\n",
       "    }\n",
       "</style>\n",
       "<table border=\"1\" class=\"dataframe\">\n",
       "  <thead>\n",
       "    <tr style=\"text-align: right;\">\n",
       "      <th></th>\n",
       "      <th>patient_id</th>\n",
       "      <th>diagnosis</th>\n",
       "    </tr>\n",
       "  </thead>\n",
       "  <tbody>\n",
       "    <tr>\n",
       "      <th>0</th>\n",
       "      <td>101</td>\n",
       "      <td>URTI</td>\n",
       "    </tr>\n",
       "  </tbody>\n",
       "</table>\n",
       "</div>"
      ],
      "text/plain": [
       "   patient_id diagnosis\n",
       "0         101      URTI"
      ]
     },
     "execution_count": 7,
     "metadata": {},
     "output_type": "execute_result"
    }
   ],
   "source": [
    "#for prediction we only need first wo columns\n",
    "df=df.iloc[:,:2]\n",
    "df.head(1)"
   ]
  },
  {
   "cell_type": "code",
   "execution_count": 8,
   "metadata": {},
   "outputs": [
    {
     "data": {
      "text/plain": [
       "COPD              793\n",
       "Pneumonia          37\n",
       "Healthy            35\n",
       "URTI               23\n",
       "Bronchiectasis     16\n",
       "Bronchiolitis      13\n",
       "LRTI                2\n",
       "Asthma              1\n",
       "Name: diagnosis, dtype: int64"
      ]
     },
     "execution_count": 8,
     "metadata": {},
     "output_type": "execute_result"
    }
   ],
   "source": [
    "count=df['diagnosis'].value_counts()\n",
    "count"
   ]
  },
  {
   "cell_type": "code",
   "execution_count": 9,
   "metadata": {},
   "outputs": [
    {
     "data": {
      "text/plain": [
       "(array([0, 1, 2, 3, 4, 5, 6, 7]),\n",
       " [Text(0, 0, 'COPD'),\n",
       "  Text(1, 0, 'Pneumonia'),\n",
       "  Text(2, 0, 'Healthy'),\n",
       "  Text(3, 0, 'URTI'),\n",
       "  Text(4, 0, 'Bronchiectasis'),\n",
       "  Text(5, 0, 'Bronchiolitis'),\n",
       "  Text(6, 0, 'LRTI'),\n",
       "  Text(7, 0, 'Asthma')])"
      ]
     },
     "execution_count": 9,
     "metadata": {},
     "output_type": "execute_result"
    },
    {
     "data": {
      "image/png": "[encoded data removed]",
      "text/plain": [
       "<Figure size 640x480 with 1 Axes>"
      ]
     },
     "metadata": {},
     "output_type": "display_data"
    }
   ],
   "source": [
    "#we have to deal with the imbalance in our dataset\n",
    "sns.countplot(x='diagnosis',data=df,order=count.index)\n",
    "plt.xticks(rotation=45)"
   ]
  },
  {
   "cell_type": "code",
   "execution_count": 10,
   "metadata": {},
   "outputs": [
    {
     "name": "stdout",
     "output_type": "stream",
     "text": [
      "101\n"
     ]
    }
   ],
   "source": [
    "audio_files=glob.glob(r'Respiratory_Sound_Database\\audio_and_txt_files\\*.wav')\n",
    "print(os.path.basename(audio_files[0]).split('_')[0])"
   ]
  },
  {
   "cell_type": "code",
   "execution_count": 11,
   "metadata": {},
   "outputs": [
    {
     "name": "stdout",
     "output_type": "stream",
     "text": [
      "Respiratory_Sound_Database\\audio_and_txt_files\\101_1b1_Al_sc_Meditron_aug_4.wav\n"
     ]
    }
   ],
   "source": [
    "#new_file_name = f\"{os.path.splitext(audio_files[0])[0]}_aug_{np.random.randint(1000)}{os.path.splitext(audio_files[0])[1]}\"\n",
    "new_file_name=f\"{os.path.splitext(audio_files[0])[0]}_aug_{4}{os.path.splitext(audio_files[0])[1]}\"\n",
    "print(new_file_name)"
   ]
  },
  {
   "cell_type": "markdown",
   "metadata": {},
   "source": [
    "## Data Augmantation"
   ]
  },
  {
   "cell_type": "code",
   "execution_count": 12,
   "metadata": {},
   "outputs": [],
   "source": [
    "# we will apply four types of augmentation techniques\n",
    "def add_noise(data,noise_level=0.005):\n",
    "    noise=np.random.random(len(data))\n",
    "    augmented_data=data+noise*noise_level\n",
    "    #Cast baskc data to the same data type\n",
    "    augmented_data=augmented_data.astype(type(data[0]))\n",
    "    return augmented_data\n",
    "\n",
    "\n",
    "def stretch(data,r=1.5):\n",
    "    return librosa.effects.time_stretch(data,rate=r)\n",
    "\n",
    "\n",
    "def change_pitch(data,sample_rate,semitones=2):\n",
    "    return librosa.effects.pitch_shift(data,sr=sample_rate,n_steps=semitones)\n",
    "\n",
    "def change_volume(data,factor=0.5):\n",
    "    return data*factor"
   ]
  },
  {
   "cell_type": "code",
   "execution_count": null,
   "metadata": {},
   "outputs": [],
   "source": [
    "# augmentations = np.random.choice(['noise', 'stretch', 'pitch', 'volume'], size=2, replace=False)\n",
    "# augmentations\n",
    "augmentation_multipliers = {cls: int(np.ceil(target_samples / count)) for cls, count in class_distribution.items()}\n",
    "augmentation_multipliers"
   ]
  },
  {
   "cell_type": "code",
   "execution_count": 13,
   "metadata": {},
   "outputs": [
    {
     "data": {
      "text/plain": [
       "{'COPD': 1,\n",
       " 'Pneumonia': 22,\n",
       " 'Healthy': 23,\n",
       " 'URTI': 35,\n",
       " 'Bronchiectasis': 50,\n",
       " 'Bronchiolitis': 61,\n",
       " 'LRTI': 397,\n",
       " 'Asthma': 793}"
      ]
     },
     "execution_count": 13,
     "metadata": {},
     "output_type": "execute_result"
    }
   ],
   "source": [
    "class_distribution=count.to_dict()\n",
    "\n",
    "#target number of samples for each class\n",
    "target_samples=max(class_distribution.values())\n",
    "\n",
    "#calculate the number of samples to add for each class\n",
    "augmentation_multipliers={cls: int(np.ceil(target_samples / count)) for cls, count in class_distribution.items()}\n",
    "#augrmantation_factor={k:target_samples-v for k,v in class_distribution.items()}\n",
    "augmentation_multipliers"
   ]
  },
  {
   "cell_type": "code",
   "execution_count": 14,
   "metadata": {},
   "outputs": [],
   "source": [
    "#function to augment the data\n",
    "def augment_data(file_path,augmentations):\n",
    "    y,sr=librosa.load(file_path,sr=None)\n",
    "    augmented_data=y\n",
    "    for augmentation in augmentations:\n",
    "        if augmentation=='noise':\n",
    "            augmented_data=add_noise(augmented_data)\n",
    "        if augmentation=='stretch':\n",
    "            augmented_data=stretch(augmented_data)\n",
    "        if augmentation=='pitch':\n",
    "            augmented_data=change_pitch(augmented_data,sr)\n",
    "        if augmentation=='volume':\n",
    "            augmented_data=change_volume(augmented_data)\n",
    "    return augmented_data,sr"
   ]
  },
  {
   "cell_type": "code",
   "execution_count": 15,
   "metadata": {},
   "outputs": [
    {
     "data": {
      "text/html": [
       "<div>\n",
       "<style scoped>\n",
       "    .dataframe tbody tr th:only-of-type {\n",
       "        vertical-align: middle;\n",
       "    }\n",
       "\n",
       "    .dataframe tbody tr th {\n",
       "        vertical-align: top;\n",
       "    }\n",
       "\n",
       "    .dataframe thead th {\n",
       "        text-align: right;\n",
       "    }\n",
       "</style>\n",
       "<table border=\"1\" class=\"dataframe\">\n",
       "  <thead>\n",
       "    <tr style=\"text-align: right;\">\n",
       "      <th></th>\n",
       "      <th>patient_id</th>\n",
       "      <th>diagnosis</th>\n",
       "    </tr>\n",
       "  </thead>\n",
       "  <tbody>\n",
       "    <tr>\n",
       "      <th>0</th>\n",
       "      <td>101</td>\n",
       "      <td>URTI</td>\n",
       "    </tr>\n",
       "    <tr>\n",
       "      <th>1</th>\n",
       "      <td>102</td>\n",
       "      <td>Healthy</td>\n",
       "    </tr>\n",
       "    <tr>\n",
       "      <th>2</th>\n",
       "      <td>103</td>\n",
       "      <td>Asthma</td>\n",
       "    </tr>\n",
       "    <tr>\n",
       "      <th>3</th>\n",
       "      <td>104</td>\n",
       "      <td>COPD</td>\n",
       "    </tr>\n",
       "    <tr>\n",
       "      <th>4</th>\n",
       "      <td>105</td>\n",
       "      <td>URTI</td>\n",
       "    </tr>\n",
       "  </tbody>\n",
       "</table>\n",
       "</div>"
      ],
      "text/plain": [
       "   patient_id diagnosis\n",
       "0         101      URTI\n",
       "1         102   Healthy\n",
       "2         103    Asthma\n",
       "3         104      COPD\n",
       "4         105      URTI"
      ]
     },
     "execution_count": 15,
     "metadata": {},
     "output_type": "execute_result"
    }
   ],
   "source": [
    "df2=pd.read_csv(r'Respiratory_Sound_Database\\patient_diagnosis.csv',names=['patient_id','diagnosis'])\n",
    "df2.head()"
   ]
  },
  {
   "cell_type": "code",
   "execution_count": 16,
   "metadata": {},
   "outputs": [
    {
     "data": {
      "text/plain": [
       "(array([ 0.04259979,  0.04973283,  0.04669041, ..., -0.01506342,\n",
       "        -0.01344411, -0.01644927], dtype=float32),\n",
       " 44100)"
      ]
     },
     "execution_count": 16,
     "metadata": {},
     "output_type": "execute_result"
    }
   ],
   "source": [
    "new_data = augment_data(audio_files[0], ['pitch', 'volume'])\n",
    "new_data\n"
   ]
  },
  {
   "cell_type": "code",
   "execution_count": 17,
   "metadata": {},
   "outputs": [],
   "source": [
    "#creating new files with augmented data\n",
    "def augment_and_label_audio(file_path,df,augmentation_multipliers):\n",
    "    for f in audio_files:\n",
    "        patient_id=os.path.basename(f).split('_')[0]\n",
    "        diagnosis=df[df['patient_id']==int(patient_id)]['diagnosis'].values[0]\n",
    "        if(diagnosis!='COPD'):\n",
    "            multiplier=augmentation_multipliers[diagnosis]\n",
    "            \n",
    "            for i in range(multiplier):\n",
    "                augmentation=np.random.choice(['noise','stretch','pitch','volume'],size=2,replace=False)\n",
    "                new_data,sr=augment_data(f,augmentation)\n",
    "                new_file_name=f\"{os.path.splitext(f)[0]}_aug_{i}{os.path.splitext(f)[1]}\"\n",
    "                sf.write(new_file_name,new_data,sr)\n",
    "        "
   ]
  },
  {
   "cell_type": "code",
   "execution_count": 58,
   "metadata": {},
   "outputs": [],
   "source": [
    "#augment_and_label_audio(audio_files,df2,augmentation_multipliers)"
   ]
  },
  {
   "cell_type": "code",
   "execution_count": 20,
   "metadata": {},
   "outputs": [
    {
     "data": {
      "image/png": "[encoded data removed]",
      "text/plain": [
       "<Figure size 640x480 with 1 Axes>"
      ]
     },
     "metadata": {},
     "output_type": "display_data"
    }
   ],
   "source": [
    "#checking values in new data\n",
    "audio_files2=glob.glob(r'Respiratory_Sound_Database\\audio_and_txt_files\\*.wav')\n",
    "labels2=[]\n",
    "max_pad_len=926\n",
    "for i in audio_files2:\n",
    "    labels2.append(extract_label(i,df2))\n",
    "labels2_series = pd.Series(labels2)\n",
    "sns.countplot(x=labels2_series, order=labels2_series.value_counts().index)\n",
    "plt.xticks(rotation=45)\n",
    "plt.show()"
   ]
  },
  {
   "cell_type": "markdown",
   "metadata": {},
   "source": [
    "## Feature extraction"
   ]
  },
  {
   "cell_type": "code",
   "execution_count": 19,
   "metadata": {},
   "outputs": [],
   "source": [
    "#function for extracting class labels\n",
    "def extract_label(file,df):\n",
    "    id=os.path.basename(file).split('_')[0]\n",
    "    label=df[df['patient_id']==int(id)]['diagnosis'].values[0]\n",
    "    return label\n",
    "\n",
    "\n",
    "#function for extracting mfcc features\n",
    "def feature_extraction(file,max_pad_len,n_features):\n",
    "# Load the .wav file\n",
    "    audio, sample_rate = librosa.load(file)\n",
    "    # Extract the MFCC features\n",
    "    mfccs = librosa.feature.mfcc(y=audio, sr=sample_rate,n_mfcc=n_features)\n",
    "    \n",
    "    # If the array is shorter than max_pad_len, pad it with zeros\n",
    "    if (mfccs.shape[1] < max_pad_len):\n",
    "        pad_width = max_pad_len - mfccs.shape[1]\n",
    "        mfccs = np.pad(mfccs, pad_width=((0, 0), (0, pad_width)), mode='constant')\n",
    "    \n",
    "    # If the array is longer than max_pad_len, truncate it\n",
    "    elif (mfccs.shape[1] > max_pad_len):\n",
    "        mfccs = mfccs[:, :max_pad_len]\n",
    "        \n",
    "    return mfccs\n"
   ]
  },
  {
   "cell_type": "code",
   "execution_count": 21,
   "metadata": {},
   "outputs": [],
   "source": [
    "mfccs_features=[]\n",
    "length=[]\n",
    "labels=[]\n",
    "max_pad_len=926\n",
    "for i in audio_files2:\n",
    "    mfccs=feature_extraction(i,max_pad_len,52)\n",
    "    mfccs_features.append(mfccs)\n",
    "    labels.append(extract_label(i,df2))\n",
    "    length.append(mfccs.shape[1])"
   ]
  },
  {
   "cell_type": "code",
   "execution_count": 22,
   "metadata": {},
   "outputs": [
    {
     "name": "stdout",
     "output_type": "stream",
     "text": [
      "max length is 926 min length is 926 average length is 926.0\n"
     ]
    }
   ],
   "source": [
    "#check length size of mfccs_features\n",
    "print(f'max length is {max(length)} min length is {min(length)} average length is {np.mean(length)}')\n",
    "#max length is 3713 min length is 339 average length is 926.2423913043478\n",
    "#we will pad the mfccs_features to 926"
   ]
  },
  {
   "cell_type": "code",
   "execution_count": 22,
   "metadata": {},
   "outputs": [
    {
     "name": "stdout",
     "output_type": "stream",
     "text": [
      "(6524, 52, 926)\n",
      "(6524,)\n"
     ]
    }
   ],
   "source": [
    "#converting fatures and labels to numpy arrays\n",
    "mfccs_features=np.array(mfccs_features)\n",
    "labels=np.array(labels)\n",
    "print(mfccs_features.shape)\n",
    "print(labels.shape)\n"
   ]
  },
  {
   "cell_type": "markdown",
   "metadata": {},
   "source": [
    "### Model "
   ]
  },
  {
   "cell_type": "code",
   "execution_count": 23,
   "metadata": {},
   "outputs": [
    {
     "data": {
      "text/plain": [
       "array([[0., 0., 0., ..., 0., 0., 1.],\n",
       "       [0., 0., 0., ..., 0., 0., 1.],\n",
       "       [0., 0., 0., ..., 0., 0., 1.],\n",
       "       ...,\n",
       "       [0., 0., 0., ..., 0., 1., 0.],\n",
       "       [0., 0., 0., ..., 0., 1., 0.],\n",
       "       [0., 0., 0., ..., 0., 1., 0.]], dtype=float32)"
      ]
     },
     "execution_count": 23,
     "metadata": {},
     "output_type": "execute_result"
    }
   ],
   "source": [
    "#encoding the labels\n",
    "# label_encoder=LabelEncoder()\n",
    "# labels=label_encoder.fit_transform(labels)\n",
    "# one_hot_labels=to_categorical(labels,num_classes=8)\n",
    "# one_hot_labels\n"
   ]
  },
  {
   "cell_type": "code",
   "execution_count": 24,
   "metadata": {},
   "outputs": [
    {
     "name": "stdout",
     "output_type": "stream",
     "text": [
      "Model: \"sequential\"\n",
      "_________________________________________________________________\n",
      " Layer (type)                Output Shape              Param #   \n",
      "=================================================================\n",
      " conv1d (Conv1D)             (None, 52, 64)            296384    \n",
      "                                                                 \n",
      " batch_normalization (BatchN  (None, 52, 64)           256       \n",
      " ormalization)                                                   \n",
      "                                                                 \n",
      " max_pooling1d (MaxPooling1D  (None, 26, 64)           0         \n",
      " )                                                               \n",
      "                                                                 \n",
      " conv1d_1 (Conv1D)           (None, 26, 128)           24704     \n",
      "                                                                 \n",
      " batch_normalization_1 (Batc  (None, 26, 128)          512       \n",
      " hNormalization)                                                 \n",
      "                                                                 \n",
      " max_pooling1d_1 (MaxPooling  (None, 13, 128)          0         \n",
      " 1D)                                                             \n",
      "                                                                 \n",
      " lstm (LSTM)                 (None, 13, 128)           131584    \n",
      "                                                                 \n",
      " dropout (Dropout)           (None, 13, 128)           0         \n",
      "                                                                 \n",
      " seq_self_attention (SeqSelf  (None, 13, 128)          8257      \n",
      " Attention)                                                      \n",
      "                                                                 \n",
      " lstm_1 (LSTM)               (None, 128)               131584    \n",
      "                                                                 \n",
      " dropout_1 (Dropout)         (None, 128)               0         \n",
      "                                                                 \n",
      " dense (Dense)               (None, 128)               16512     \n",
      "                                                                 \n",
      " dropout_2 (Dropout)         (None, 128)               0         \n",
      "                                                                 \n",
      " dense_1 (Dense)             (None, 64)                8256      \n",
      "                                                                 \n",
      " dropout_3 (Dropout)         (None, 64)                0         \n",
      "                                                                 \n",
      " dense_2 (Dense)             (None, 8)                 520       \n",
      "                                                                 \n",
      "=================================================================\n",
      "Total params: 618,569\n",
      "Trainable params: 618,185\n",
      "Non-trainable params: 384\n",
      "_________________________________________________________________\n"
     ]
    }
   ],
   "source": [
    "#creating model usign LSTM and attention cnn\n",
    "model=Sequential([\n",
    "    Input(shape=(52,926)),\n",
    "    \n",
    "    Conv1D(64,5,padding='same',activation='relu'),\n",
    "    BatchNormalization(),\n",
    "    MaxPooling1D(pool_size=2),\n",
    "    \n",
    "    Conv1D(128,3,padding='same',activation='relu'),\n",
    "    BatchNormalization(),\n",
    "    MaxPooling1D(pool_size=2),\n",
    "    \n",
    "    # LSTM layers with return_sequences=True to keep temporal dimension\n",
    "    LSTM(128, return_sequences=True),\n",
    "    Dropout(0.5),\n",
    "    \n",
    "    # Attention Layer\n",
    "    SeqSelfAttention(attention_activation='sigmoid'),\n",
    "    \n",
    "    # Additional LSTM Layer\n",
    "    LSTM(128),\n",
    "    Dropout(0.5),\n",
    "    \n",
    "    # Dense Layers for Classification\n",
    "    Dense(128, activation='relu'),\n",
    "    Dropout(0.5),\n",
    "    Dense(64, activation='relu'),\n",
    "    Dropout(0.5),\n",
    "    Dense(8, activation='softmax')\n",
    "])\n",
    "\n",
    "model.compile(optimizer='adam', loss='categorical_crossentropy', metrics=['accuracy'])\n",
    "\n",
    "model.summary()"
   ]
  },
  {
   "cell_type": "code",
   "execution_count": 25,
   "metadata": {},
   "outputs": [],
   "source": [
    "# Split the dataset into training, validation, and test sets\n",
    "X_train,X_test,y_train,y_test=train_test_split(mfccs_features,labels,test_size=0.2,random_state=0)\n",
    "\n",
    "#early stopping to prevent overfitting\n",
    "early_stopping=EarlyStopping(monitor='val_loss',patience=10,restore_best_weights=True)"
   ]
  },
  {
   "cell_type": "code",
   "execution_count": 26,
   "metadata": {},
   "outputs": [],
   "source": [
    "#applying one_hot encoding\n",
    "encoder=OneHotEncoder(sparse=False,handle_unknown='ignore')\n",
    "y_train_encoded = encoder.fit_transform(y_train.reshape(-1, 1))\n",
    "y_test_encoded = encoder.transform(y_test.reshape(-1, 1))"
   ]
  },
  {
   "cell_type": "code",
   "execution_count": 27,
   "metadata": {},
   "outputs": [
    {
     "name": "stdout",
     "output_type": "stream",
     "text": [
      "Epoch 1/100\n",
      "131/131 [==============================] - 29s 117ms/step - loss: 1.7708 - accuracy: 0.2996 - val_loss: 1.2714 - val_accuracy: 0.5431\n",
      "Epoch 2/100\n",
      "131/131 [==============================] - 13s 100ms/step - loss: 1.3509 - accuracy: 0.4496 - val_loss: 1.2882 - val_accuracy: 0.4923\n",
      "Epoch 3/100\n",
      "131/131 [==============================] - 13s 103ms/step - loss: 1.0745 - accuracy: 0.5466 - val_loss: 1.1809 - val_accuracy: 0.5067\n",
      "Epoch 4/100\n",
      "131/131 [==============================] - 16s 122ms/step - loss: 0.9616 - accuracy: 0.6031 - val_loss: 0.8664 - val_accuracy: 0.6437\n",
      "Epoch 5/100\n",
      "131/131 [==============================] - 13s 96ms/step - loss: 0.7845 - accuracy: 0.6572 - val_loss: 0.5647 - val_accuracy: 0.7328\n",
      "Epoch 6/100\n",
      "131/131 [==============================] - 15s 113ms/step - loss: 0.6224 - accuracy: 0.7190 - val_loss: 1.3327 - val_accuracy: 0.5460\n",
      "Epoch 7/100\n",
      "131/131 [==============================] - 13s 102ms/step - loss: 0.5282 - accuracy: 0.7535 - val_loss: 0.7462 - val_accuracy: 0.7471\n",
      "Epoch 8/100\n",
      "131/131 [==============================] - 14s 106ms/step - loss: 0.5543 - accuracy: 0.7677 - val_loss: 0.5946 - val_accuracy: 0.7452\n",
      "Epoch 9/100\n",
      "131/131 [==============================] - 13s 101ms/step - loss: 0.4142 - accuracy: 0.8129 - val_loss: 0.5315 - val_accuracy: 0.8075\n",
      "Epoch 10/100\n",
      "131/131 [==============================] - 15s 114ms/step - loss: 0.4413 - accuracy: 0.8139 - val_loss: 0.8511 - val_accuracy: 0.6398\n",
      "Epoch 11/100\n",
      "131/131 [==============================] - 14s 104ms/step - loss: 0.3790 - accuracy: 0.8393 - val_loss: 0.4627 - val_accuracy: 0.8209\n",
      "Epoch 12/100\n",
      "131/131 [==============================] - 12s 94ms/step - loss: 0.2855 - accuracy: 0.8599 - val_loss: 0.3307 - val_accuracy: 0.8506\n",
      "Epoch 13/100\n",
      "131/131 [==============================] - 13s 98ms/step - loss: 0.3347 - accuracy: 0.8450 - val_loss: 0.5789 - val_accuracy: 0.7893\n",
      "Epoch 14/100\n",
      "131/131 [==============================] - 14s 105ms/step - loss: 0.2711 - accuracy: 0.8604 - val_loss: 0.2461 - val_accuracy: 0.8621\n",
      "Epoch 15/100\n",
      "131/131 [==============================] - 12s 94ms/step - loss: 0.2834 - accuracy: 0.8604 - val_loss: 1.1438 - val_accuracy: 0.7280\n",
      "Epoch 16/100\n",
      "131/131 [==============================] - 12s 93ms/step - loss: 0.2602 - accuracy: 0.8692 - val_loss: 0.2600 - val_accuracy: 0.8755\n",
      "Epoch 17/100\n",
      "131/131 [==============================] - 12s 91ms/step - loss: 0.2276 - accuracy: 0.8800 - val_loss: 0.2585 - val_accuracy: 0.8918\n",
      "Epoch 18/100\n",
      "131/131 [==============================] - 12s 91ms/step - loss: 0.2238 - accuracy: 0.8867 - val_loss: 1.2638 - val_accuracy: 0.6935\n",
      "Epoch 19/100\n",
      "131/131 [==============================] - 12s 95ms/step - loss: 0.2691 - accuracy: 0.8774 - val_loss: 0.8470 - val_accuracy: 0.8238\n",
      "Epoch 20/100\n",
      "131/131 [==============================] - 12s 92ms/step - loss: 0.1970 - accuracy: 0.8999 - val_loss: 0.2074 - val_accuracy: 0.9100\n",
      "Epoch 21/100\n",
      "131/131 [==============================] - 13s 98ms/step - loss: 0.2334 - accuracy: 0.9037 - val_loss: 0.2822 - val_accuracy: 0.9071\n",
      "Epoch 22/100\n",
      "131/131 [==============================] - 15s 116ms/step - loss: 0.2122 - accuracy: 0.9138 - val_loss: 0.1888 - val_accuracy: 0.9291\n",
      "Epoch 23/100\n",
      "131/131 [==============================] - 13s 101ms/step - loss: 0.1773 - accuracy: 0.9334 - val_loss: 0.2359 - val_accuracy: 0.9272\n",
      "Epoch 24/100\n",
      "131/131 [==============================] - 13s 102ms/step - loss: 0.1469 - accuracy: 0.9550 - val_loss: 0.7099 - val_accuracy: 0.8525\n",
      "Epoch 25/100\n",
      "131/131 [==============================] - 14s 105ms/step - loss: 0.1406 - accuracy: 0.9607 - val_loss: 0.1580 - val_accuracy: 0.9483\n",
      "Epoch 26/100\n",
      "131/131 [==============================] - 16s 121ms/step - loss: 0.1210 - accuracy: 0.9674 - val_loss: 0.1643 - val_accuracy: 0.9444\n",
      "Epoch 27/100\n",
      "131/131 [==============================] - 18s 141ms/step - loss: 0.0590 - accuracy: 0.9873 - val_loss: 0.1360 - val_accuracy: 0.9741\n",
      "Epoch 28/100\n",
      "131/131 [==============================] - 16s 123ms/step - loss: 0.0592 - accuracy: 0.9856 - val_loss: 0.2067 - val_accuracy: 0.9617\n",
      "Epoch 29/100\n",
      "131/131 [==============================] - 16s 121ms/step - loss: 0.0727 - accuracy: 0.9806 - val_loss: 0.1150 - val_accuracy: 0.9732\n",
      "Epoch 30/100\n",
      "131/131 [==============================] - 16s 123ms/step - loss: 0.0760 - accuracy: 0.9844 - val_loss: 0.1340 - val_accuracy: 0.9626\n",
      "Epoch 31/100\n",
      "131/131 [==============================] - 14s 109ms/step - loss: 0.0927 - accuracy: 0.9777 - val_loss: 0.1047 - val_accuracy: 0.9780\n",
      "Epoch 32/100\n",
      "131/131 [==============================] - 14s 107ms/step - loss: 0.1178 - accuracy: 0.9729 - val_loss: 0.1826 - val_accuracy: 0.9693\n",
      "Epoch 33/100\n",
      "131/131 [==============================] - 17s 131ms/step - loss: 0.0542 - accuracy: 0.9883 - val_loss: 0.3683 - val_accuracy: 0.9416\n",
      "Epoch 34/100\n",
      "131/131 [==============================] - 17s 131ms/step - loss: 0.0284 - accuracy: 0.9919 - val_loss: 0.1618 - val_accuracy: 0.9751\n",
      "Epoch 35/100\n",
      "131/131 [==============================] - 16s 120ms/step - loss: 0.0390 - accuracy: 0.9950 - val_loss: 0.6864 - val_accuracy: 0.8860\n",
      "Epoch 36/100\n",
      "131/131 [==============================] - 14s 104ms/step - loss: 0.0972 - accuracy: 0.9816 - val_loss: 0.4293 - val_accuracy: 0.9387\n",
      "Epoch 37/100\n",
      "131/131 [==============================] - 16s 123ms/step - loss: 0.0847 - accuracy: 0.9816 - val_loss: 1.9350 - val_accuracy: 0.7797\n",
      "Epoch 38/100\n",
      "131/131 [==============================] - 15s 116ms/step - loss: 0.0917 - accuracy: 0.9830 - val_loss: 0.1336 - val_accuracy: 0.9598\n",
      "Epoch 39/100\n",
      "131/131 [==============================] - 14s 104ms/step - loss: 0.0363 - accuracy: 0.9914 - val_loss: 0.8906 - val_accuracy: 0.8860\n",
      "Epoch 40/100\n",
      "131/131 [==============================] - 13s 100ms/step - loss: 0.0447 - accuracy: 0.9916 - val_loss: 0.1488 - val_accuracy: 0.9761\n",
      "Epoch 41/100\n",
      "131/131 [==============================] - 13s 102ms/step - loss: 0.0756 - accuracy: 0.9823 - val_loss: 0.2450 - val_accuracy: 0.9425\n"
     ]
    }
   ],
   "source": [
    "history=model.fit(\n",
    "    X_train,y_train_encoded,\n",
    "    epochs=100,\n",
    "    batch_size=32,\n",
    "    validation_split=0.2,\n",
    "    callbacks=[early_stopping]\n",
    "    )"
   ]
  },
  {
   "cell_type": "code",
   "execution_count": 29,
   "metadata": {},
   "outputs": [
    {
     "name": "stdout",
     "output_type": "stream",
     "text": [
      "41/41 [==============================] - 1s 30ms/step - loss: 0.1289 - accuracy: 0.9693\n",
      "Test Loss: 0.12888048589229584\n",
      "Test Accuracy: 0.969348669052124\n"
     ]
    }
   ],
   "source": [
    "# Evaluate the model on the test set\n",
    "test_loss, test_accuracy = model.evaluate(X_test, y_test_encoded)\n",
    "print(f\"Test Loss: {test_loss}\\nTest Accuracy: {test_accuracy}\")"
   ]
  },
  {
   "cell_type": "code",
   "execution_count": 32,
   "metadata": {},
   "outputs": [
    {
     "name": "stdout",
     "output_type": "stream",
     "text": [
      "41/41 [==============================] - 1s 25ms/step\n",
      "                precision    recall  f1-score   support\n",
      "\n",
      "        Asthma       1.00      1.00      1.00       160\n",
      "Bronchiectasis       1.00      0.98      0.99       166\n",
      " Bronchiolitis       1.00      0.98      0.99       148\n",
      "          COPD       0.89      1.00      0.94       138\n",
      "       Healthy       0.99      0.88      0.93       205\n",
      "          LRTI       1.00      1.00      1.00       147\n",
      "     Pneumonia       1.00      0.97      0.98       188\n",
      "          URTI       0.88      0.99      0.93       153\n",
      "\n",
      "      accuracy                           0.97      1305\n",
      "     macro avg       0.97      0.97      0.97      1305\n",
      "  weighted avg       0.97      0.97      0.97      1305\n",
      "\n"
     ]
    }
   ],
   "source": [
    "# Assuming model is your trained Keras model\n",
    "predictions = model.predict(X_test)\n",
    "predictions = np.argmax(predictions, axis=1)  # Convert one-hot encoded predictions to class labels\n",
    "\n",
    "# If y_test is one-hot encoded, convert it back to class labels\n",
    "y_test_labels = np.argmax(y_test_encoded, axis=1)\n",
    "\n",
    "# Get class names\n",
    "class_names = encoder.categories_[0]\n",
    "\n",
    "# Generate classification report\n",
    "print(classification_report(predictions, y_test_labels, target_names=class_names))"
   ]
  },
  {
   "cell_type": "code",
   "execution_count": 35,
   "metadata": {},
   "outputs": [
    {
     "name": "stdout",
     "output_type": "stream",
     "text": [
      "41/41 [==============================] - 2s 36ms/step\n"
     ]
    },
    {
     "data": {
      "image/png": "[encoded data removed]",
      "text/plain": [
       "<Figure size 1000x800 with 1 Axes>"
      ]
     },
     "metadata": {},
     "output_type": "display_data"
    }
   ],
   "source": [
    "probabilities = model.predict(X_test)\n",
    "\n",
    "\n",
    "y_test_binarized = label_binarize(y_test_labels, classes=[0,1,2,3,4,5,6,7])\n",
    "# Compute ROC curve and ROC area for each class\n",
    "n_classes = len(class_names)\n",
    "fpr = dict()\n",
    "tpr = dict()\n",
    "roc_auc = dict()\n",
    "for i in range(n_classes):\n",
    "    fpr[i], tpr[i], _ = roc_curve(y_test_binarized[:, i], probabilities[:, i])\n",
    "    roc_auc[i] = auc(fpr[i], tpr[i])\n",
    "\n",
    "# Plot all ROC curves\n",
    "plt.figure(figsize=(10, 8))\n",
    "\n",
    "colors = cycle(['aqua', 'darkorange', 'cornflowerblue', 'red', 'green', 'blue', 'pink', 'gray'])\n",
    "for i, color in zip(range(n_classes), colors):\n",
    "    plt.plot(fpr[i], tpr[i], color=color, lw=2,\n",
    "             label='ROC curve of class {0} (area = {1:0.2f})'.format(class_names[i], roc_auc[i]))\n",
    "\n",
    "plt.plot([0, 1], [0, 1], 'k--', lw=2)\n",
    "plt.xlim([0.0, 1.0])\n",
    "plt.ylim([0.0, 1.05])\n",
    "plt.xlabel('False Positive Rate')\n",
    "plt.ylabel('True Positive Rate')\n",
    "plt.title('Multi-class ROC curve')\n",
    "plt.legend(loc=\"lower right\")\n",
    "plt.show()"
   ]
  },
  {
   "cell_type": "code",
   "execution_count": 34,
   "metadata": {},
   "outputs": [
    {
     "data": {
      "text/plain": [
       "array([7, 6, 4, ..., 6, 5, 6], dtype=int64)"
      ]
     },
     "execution_count": 34,
     "metadata": {},
     "output_type": "execute_result"
    }
   ],
   "source": [
    "y_test_labels"
   ]
  }
 ],
 "metadata": {
  "kernelspec": {
   "display_name": "Python 3",
   "language": "python",
   "name": "python3"
  },
  "language_info": {
   "codemirror_mode": {
    "name": "ipython",
    "version": 3
   },
   "file_extension": ".py",
   "mimetype": "text/x-python",
   "name": "python",
   "nbconvert_exporter": "python",
   "pygments_lexer": "ipython3",
   "version": "3.11.1"
  }
 },
 "nbformat": 4,
 "nbformat_minor": 2
}
