{
 "cells": [
  {
   "cell_type": "code",
   "execution_count": 5,
   "metadata": {},
   "outputs": [],
   "source": [
    "import pandas as pd\n",
    "import numpy as np\n",
    "import matplotlib.pyplot as plt\n",
    "import seaborn as sns\n",
    "import glob\n",
    "import os\n",
    "import librosa\n"
   ]
  },
  {
   "cell_type": "code",
   "execution_count": 8,
   "metadata": {},
   "outputs": [],
   "source": [
    "import warnings\n",
    "warnings.filterwarnings('ignore')"
   ]
  },
  {
   "cell_type": "markdown",
   "metadata": {},
   "source": [
    "## Exploring Data"
   ]
  },
  {
   "cell_type": "code",
   "execution_count": 6,
   "metadata": {},
   "outputs": [
    {
     "data": {
      "text/html": [
       "<div>\n",
       "<style scoped>\n",
       "    .dataframe tbody tr th:only-of-type {\n",
       "        vertical-align: middle;\n",
       "    }\n",
       "\n",
       "    .dataframe tbody tr th {\n",
       "        vertical-align: top;\n",
       "    }\n",
       "\n",
       "    .dataframe thead th {\n",
       "        text-align: right;\n",
       "    }\n",
       "</style>\n",
       "<table border=\"1\" class=\"dataframe\">\n",
       "  <thead>\n",
       "    <tr style=\"text-align: right;\">\n",
       "      <th></th>\n",
       "      <th>patient_id</th>\n",
       "      <th>diagnosis</th>\n",
       "    </tr>\n",
       "  </thead>\n",
       "  <tbody>\n",
       "    <tr>\n",
       "      <th>0</th>\n",
       "      <td>101</td>\n",
       "      <td>URTI</td>\n",
       "    </tr>\n",
       "    <tr>\n",
       "      <th>1</th>\n",
       "      <td>102</td>\n",
       "      <td>Healthy</td>\n",
       "    </tr>\n",
       "    <tr>\n",
       "      <th>2</th>\n",
       "      <td>103</td>\n",
       "      <td>Asthma</td>\n",
       "    </tr>\n",
       "    <tr>\n",
       "      <th>3</th>\n",
       "      <td>104</td>\n",
       "      <td>COPD</td>\n",
       "    </tr>\n",
       "    <tr>\n",
       "      <th>4</th>\n",
       "      <td>105</td>\n",
       "      <td>URTI</td>\n",
       "    </tr>\n",
       "  </tbody>\n",
       "</table>\n",
       "</div>"
      ],
      "text/plain": [
       "   patient_id diagnosis\n",
       "0         101      URTI\n",
       "1         102   Healthy\n",
       "2         103    Asthma\n",
       "3         104      COPD\n",
       "4         105      URTI"
      ]
     },
     "execution_count": 6,
     "metadata": {},
     "output_type": "execute_result"
    }
   ],
   "source": [
    "df_diagnosis = pd.read_csv(r'Respiratory_Sound_Database\\patient_diagnosis.csv', names=['patient_id', 'diagnosis'])\n",
    "df_diagnosis.head()"
   ]
  },
  {
   "cell_type": "code",
   "execution_count": 13,
   "metadata": {},
   "outputs": [
    {
     "data": {
      "text/plain": [
       "COPD              64\n",
       "Healthy           26\n",
       "URTI              14\n",
       "Bronchiectasis     7\n",
       "Pneumonia          6\n",
       "Bronchiolitis      6\n",
       "LRTI               2\n",
       "Asthma             1\n",
       "Name: diagnosis, dtype: int64"
      ]
     },
     "execution_count": 13,
     "metadata": {},
     "output_type": "execute_result"
    }
   ],
   "source": [
    "df_diagnosis['diagnosis'].value_counts()#.plot(kind='bar', title='Number of patients per diagnosis')\n"
   ]
  },
  {
   "cell_type": "code",
   "execution_count": 17,
   "metadata": {},
   "outputs": [
    {
     "data": {
      "text/html": [
       "<div>\n",
       "<style scoped>\n",
       "    .dataframe tbody tr th:only-of-type {\n",
       "        vertical-align: middle;\n",
       "    }\n",
       "\n",
       "    .dataframe tbody tr th {\n",
       "        vertical-align: top;\n",
       "    }\n",
       "\n",
       "    .dataframe thead th {\n",
       "        text-align: right;\n",
       "    }\n",
       "</style>\n",
       "<table border=\"1\" class=\"dataframe\">\n",
       "  <thead>\n",
       "    <tr style=\"text-align: right;\">\n",
       "      <th></th>\n",
       "      <th>patient_id</th>\n",
       "      <th>age</th>\n",
       "      <th>sex</th>\n",
       "      <th>adult_bmi</th>\n",
       "      <th>child_weight</th>\n",
       "      <th>child_height</th>\n",
       "    </tr>\n",
       "  </thead>\n",
       "  <tbody>\n",
       "    <tr>\n",
       "      <th>0</th>\n",
       "      <td>101</td>\n",
       "      <td>3.00</td>\n",
       "      <td>F</td>\n",
       "      <td>NaN</td>\n",
       "      <td>19.0</td>\n",
       "      <td>99.0</td>\n",
       "    </tr>\n",
       "    <tr>\n",
       "      <th>1</th>\n",
       "      <td>102</td>\n",
       "      <td>0.75</td>\n",
       "      <td>F</td>\n",
       "      <td>NaN</td>\n",
       "      <td>9.8</td>\n",
       "      <td>73.0</td>\n",
       "    </tr>\n",
       "    <tr>\n",
       "      <th>2</th>\n",
       "      <td>103</td>\n",
       "      <td>70.00</td>\n",
       "      <td>F</td>\n",
       "      <td>33.00</td>\n",
       "      <td>NaN</td>\n",
       "      <td>NaN</td>\n",
       "    </tr>\n",
       "    <tr>\n",
       "      <th>3</th>\n",
       "      <td>104</td>\n",
       "      <td>70.00</td>\n",
       "      <td>F</td>\n",
       "      <td>28.47</td>\n",
       "      <td>NaN</td>\n",
       "      <td>NaN</td>\n",
       "    </tr>\n",
       "    <tr>\n",
       "      <th>4</th>\n",
       "      <td>105</td>\n",
       "      <td>7.00</td>\n",
       "      <td>F</td>\n",
       "      <td>NaN</td>\n",
       "      <td>32.0</td>\n",
       "      <td>135.0</td>\n",
       "    </tr>\n",
       "  </tbody>\n",
       "</table>\n",
       "</div>"
      ],
      "text/plain": [
       "   patient_id    age sex  adult_bmi  child_weight  child_height\n",
       "0         101   3.00   F        NaN          19.0          99.0\n",
       "1         102   0.75   F        NaN           9.8          73.0\n",
       "2         103  70.00   F      33.00           NaN           NaN\n",
       "3         104  70.00   F      28.47           NaN           NaN\n",
       "4         105   7.00   F        NaN          32.0         135.0"
      ]
     },
     "execution_count": 17,
     "metadata": {},
     "output_type": "execute_result"
    }
   ],
   "source": [
    "df_demo=pd.read_csv(r'Respiratory_Sound_Database\\demographic_info.txt',delimiter=' ',names=['patient_id','age','sex','adult_bmi','child_weight','child_height'])\n",
    "df_demo.head()"
   ]
  },
  {
   "cell_type": "code",
   "execution_count": 21,
   "metadata": {},
   "outputs": [],
   "source": [
    "# will use this data for future analysis\n",
    "df_merged = pd.merge(df_diagnosis, df_demo, on='patient_id')\n",
    "df_merged.to_csv(r'Respiratory_Sound_Database\\patient_detaila.csv', index=False)"
   ]
  },
  {
   "cell_type": "code",
   "execution_count": 38,
   "metadata": {},
   "outputs": [],
   "source": [
    "#creating dataframe for audio_text files\n",
    "text_files=glob.glob(r'Respiratory_Sound_Database\\audio_and_txt_files\\*.txt')\n",
    "text_files = [os.path.splitext(os.path.basename(i))[0] for i in text_files]\n"
   ]
  },
  {
   "cell_type": "code",
   "execution_count": 41,
   "metadata": {},
   "outputs": [],
   "source": [
    "df = pd.DataFrame([file.split('_') for file in text_files], \n",
    "                  columns=['patient_id', 'recording_index', 'chest_location', 'acquisition_mode', 'recording_equipment'])\n",
    "df.head()\n",
    "df['patient_id'] = df['patient_id'].astype(int)\n"
   ]
  },
  {
   "cell_type": "code",
   "execution_count": 45,
   "metadata": {},
   "outputs": [],
   "source": [
    "df_merged2 = pd.merge(df_diagnosis, df, on='patient_id')\n",
    "df_merged2.to_csv(r'Respiratory_Sound_Database\\diagnosis_details.csv', index=False)"
   ]
  },
  {
   "cell_type": "code",
   "execution_count": 46,
   "metadata": {},
   "outputs": [
    {
     "data": {
      "text/html": [
       "<div>\n",
       "<style scoped>\n",
       "    .dataframe tbody tr th:only-of-type {\n",
       "        vertical-align: middle;\n",
       "    }\n",
       "\n",
       "    .dataframe tbody tr th {\n",
       "        vertical-align: top;\n",
       "    }\n",
       "\n",
       "    .dataframe thead th {\n",
       "        text-align: right;\n",
       "    }\n",
       "</style>\n",
       "<table border=\"1\" class=\"dataframe\">\n",
       "  <thead>\n",
       "    <tr style=\"text-align: right;\">\n",
       "      <th></th>\n",
       "      <th>patient_id</th>\n",
       "      <th>diagnosis</th>\n",
       "      <th>recording_index</th>\n",
       "      <th>chest_location</th>\n",
       "      <th>acquisition_mode</th>\n",
       "      <th>recording_equipment</th>\n",
       "    </tr>\n",
       "  </thead>\n",
       "  <tbody>\n",
       "    <tr>\n",
       "      <th>0</th>\n",
       "      <td>101</td>\n",
       "      <td>URTI</td>\n",
       "      <td>1b1</td>\n",
       "      <td>Al</td>\n",
       "      <td>sc</td>\n",
       "      <td>Meditron</td>\n",
       "    </tr>\n",
       "    <tr>\n",
       "      <th>1</th>\n",
       "      <td>101</td>\n",
       "      <td>URTI</td>\n",
       "      <td>1b1</td>\n",
       "      <td>Pr</td>\n",
       "      <td>sc</td>\n",
       "      <td>Meditron</td>\n",
       "    </tr>\n",
       "    <tr>\n",
       "      <th>2</th>\n",
       "      <td>102</td>\n",
       "      <td>Healthy</td>\n",
       "      <td>1b1</td>\n",
       "      <td>Ar</td>\n",
       "      <td>sc</td>\n",
       "      <td>Meditron</td>\n",
       "    </tr>\n",
       "    <tr>\n",
       "      <th>3</th>\n",
       "      <td>103</td>\n",
       "      <td>Asthma</td>\n",
       "      <td>2b2</td>\n",
       "      <td>Ar</td>\n",
       "      <td>mc</td>\n",
       "      <td>LittC2SE</td>\n",
       "    </tr>\n",
       "    <tr>\n",
       "      <th>4</th>\n",
       "      <td>104</td>\n",
       "      <td>COPD</td>\n",
       "      <td>1b1</td>\n",
       "      <td>Al</td>\n",
       "      <td>sc</td>\n",
       "      <td>Litt3200</td>\n",
       "    </tr>\n",
       "  </tbody>\n",
       "</table>\n",
       "</div>"
      ],
      "text/plain": [
       "   patient_id diagnosis recording_index chest_location acquisition_mode  \\\n",
       "0         101      URTI             1b1             Al               sc   \n",
       "1         101      URTI             1b1             Pr               sc   \n",
       "2         102   Healthy             1b1             Ar               sc   \n",
       "3         103    Asthma             2b2             Ar               mc   \n",
       "4         104      COPD             1b1             Al               sc   \n",
       "\n",
       "  recording_equipment  \n",
       "0            Meditron  \n",
       "1            Meditron  \n",
       "2            Meditron  \n",
       "3            LittC2SE  \n",
       "4            Litt3200  "
      ]
     },
     "execution_count": 46,
     "metadata": {},
     "output_type": "execute_result"
    }
   ],
   "source": [
    "df_merged2.head()"
   ]
  },
  {
   "cell_type": "code",
   "execution_count": 48,
   "metadata": {},
   "outputs": [
    {
     "name": "stdout",
     "output_type": "stream",
     "text": [
      "<class 'pandas.core.frame.DataFrame'>\n",
      "Int64Index: 920 entries, 0 to 919\n",
      "Data columns (total 6 columns):\n",
      " #   Column               Non-Null Count  Dtype \n",
      "---  ------               --------------  ----- \n",
      " 0   patient_id           920 non-null    int64 \n",
      " 1   diagnosis            920 non-null    object\n",
      " 2   recording_index      920 non-null    object\n",
      " 3   chest_location       920 non-null    object\n",
      " 4   acquisition_mode     920 non-null    object\n",
      " 5   recording_equipment  920 non-null    object\n",
      "dtypes: int64(1), object(5)\n",
      "memory usage: 50.3+ KB\n"
     ]
    }
   ],
   "source": [
    "df_merged2.info()"
   ]
  },
  {
   "cell_type": "markdown",
   "metadata": {},
   "source": [
    "## Making random Dataset for our prescription model"
   ]
  },
  {
   "cell_type": "code",
   "execution_count": 34,
   "metadata": {},
   "outputs": [
    {
     "data": {
      "text/plain": [
       "(   Patient ID  Age  Gender Smoking Status         Disease  \\\n",
       " 0           1   83  Female  Active-smoker   Bronchiolitis   \n",
       " 1           2   72    Male     Non-smoker  Bronchiectasis   \n",
       " 2           3   35    Male      Ex-smoker       Pneumonia   \n",
       " 3           4   13    Male  Active-smoker            LRTI   \n",
       " 4           5   70    Male  Active-smoker            URTI   \n",
       " \n",
       "   Medication Prescribed Dosage         Frequencey  \n",
       " 0                Drug D   50mg        Twice daily  \n",
       " 1                Drug C   50mg         Once daily  \n",
       " 2                Drug C    5mg  Three times daily  \n",
       " 3                Drug C   20mg         Once daily  \n",
       " 4                Drug C    5mg  Three times daily  ,\n",
       " (3000, 8))"
      ]
     },
     "execution_count": 34,
     "metadata": {},
     "output_type": "execute_result"
    }
   ],
   "source": [
    "#creating random dataset for prescriotion model\n",
    "n_samples=3000\n",
    "\n",
    "data={\n",
    "    'Patient ID': np.arange(1,n_samples+1),\n",
    "    'Age':np.random.randint(1,100,n_samples),\n",
    "    'Gender':np.random.choice(['Male','Female'],n_samples),\n",
    "    'Smoking Status':np.random.choice(['Non-smoker','Ex-smoker','Active-smoker'],n_samples),\n",
    "    'Disease':np.random.choice(['COPD','Pneumonia','Healthy','URTI','Bronchiectasis','Bronchiolitis','LRTI','Asthma'],n_samples),\n",
    "    'Medication Prescribed':np.random.choice(['Drug A','Drug B','Drug C','Drug D'],n_samples),\n",
    "    'Dosage':np.random.choice(['5mg','10mg','20mg','50mg'],n_samples),\n",
    "    'Frequencey':np.random.choice(['Once daily','Twice daily','Three times daily'],n_samples)\n",
    "}\n",
    "df=pd.DataFrame(data)\n",
    "df.head(),df.shape"
   ]
  },
  {
   "cell_type": "code",
   "execution_count": 35,
   "metadata": {},
   "outputs": [],
   "source": [
    "#adjusting values for healthy patients\n",
    "df.loc[df['Disease'] == 'Healthy', ['Medication Prescribed', 'Dosage', 'Frequencey']] = 'No Medication', 'N/A', 'N/A'"
   ]
  },
  {
   "cell_type": "code",
   "execution_count": 36,
   "metadata": {},
   "outputs": [
    {
     "data": {
      "text/html": [
       "<div>\n",
       "<style scoped>\n",
       "    .dataframe tbody tr th:only-of-type {\n",
       "        vertical-align: middle;\n",
       "    }\n",
       "\n",
       "    .dataframe tbody tr th {\n",
       "        vertical-align: top;\n",
       "    }\n",
       "\n",
       "    .dataframe thead th {\n",
       "        text-align: right;\n",
       "    }\n",
       "</style>\n",
       "<table border=\"1\" class=\"dataframe\">\n",
       "  <thead>\n",
       "    <tr style=\"text-align: right;\">\n",
       "      <th></th>\n",
       "      <th>Dosage</th>\n",
       "      <th>Frequencey</th>\n",
       "      <th>Medication Prescribed</th>\n",
       "    </tr>\n",
       "  </thead>\n",
       "  <tbody>\n",
       "    <tr>\n",
       "      <th>5</th>\n",
       "      <td>N/A</td>\n",
       "      <td>N/A</td>\n",
       "      <td>No Medication</td>\n",
       "    </tr>\n",
       "    <tr>\n",
       "      <th>7</th>\n",
       "      <td>N/A</td>\n",
       "      <td>N/A</td>\n",
       "      <td>No Medication</td>\n",
       "    </tr>\n",
       "    <tr>\n",
       "      <th>27</th>\n",
       "      <td>N/A</td>\n",
       "      <td>N/A</td>\n",
       "      <td>No Medication</td>\n",
       "    </tr>\n",
       "    <tr>\n",
       "      <th>29</th>\n",
       "      <td>N/A</td>\n",
       "      <td>N/A</td>\n",
       "      <td>No Medication</td>\n",
       "    </tr>\n",
       "    <tr>\n",
       "      <th>36</th>\n",
       "      <td>N/A</td>\n",
       "      <td>N/A</td>\n",
       "      <td>No Medication</td>\n",
       "    </tr>\n",
       "  </tbody>\n",
       "</table>\n",
       "</div>"
      ],
      "text/plain": [
       "   Dosage Frequencey Medication Prescribed\n",
       "5     N/A        N/A         No Medication\n",
       "7     N/A        N/A         No Medication\n",
       "27    N/A        N/A         No Medication\n",
       "29    N/A        N/A         No Medication\n",
       "36    N/A        N/A         No Medication"
      ]
     },
     "execution_count": 36,
     "metadata": {},
     "output_type": "execute_result"
    }
   ],
   "source": [
    "df[df['Disease']=='Healthy'][['Dosage','Frequencey','Medication Prescribed']].head()"
   ]
  },
  {
   "cell_type": "code",
   "execution_count": 37,
   "metadata": {},
   "outputs": [],
   "source": [
    "#adjusting age of people with COPD and UTRI\n",
    "filter=df['Disease'].isin(['COPD','Bronchiectasis'])\n",
    "df.loc[filter,'Age']=np.random.randint(40,100,len(df[filter]))"
   ]
  },
  {
   "cell_type": "code",
   "execution_count": 39,
   "metadata": {},
   "outputs": [
    {
     "data": {
      "text/plain": [
       "1     41\n",
       "14    46\n",
       "18    96\n",
       "21    66\n",
       "22    66\n",
       "Name: Age, dtype: int32"
      ]
     },
     "execution_count": 39,
     "metadata": {},
     "output_type": "execute_result"
    }
   ],
   "source": [
    "df[filter]['Age'].head()"
   ]
  },
  {
   "cell_type": "code",
   "execution_count": 41,
   "metadata": {},
   "outputs": [],
   "source": [
    "df.to_csv('medicine_prescription.csv',index=False)"
   ]
  }
 ],
 "metadata": {
  "kernelspec": {
   "display_name": "Python 3",
   "language": "python",
   "name": "python3"
  },
  "language_info": {
   "codemirror_mode": {
    "name": "ipython",
    "version": 3
   },
   "file_extension": ".py",
   "mimetype": "text/x-python",
   "name": "python",
   "nbconvert_exporter": "python",
   "pygments_lexer": "ipython3",
   "version": "3.11.1"
  }
 },
 "nbformat": 4,
 "nbformat_minor": 2
}
