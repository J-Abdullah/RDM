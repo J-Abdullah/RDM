{
 "cells": [
  {
   "cell_type": "code",
   "execution_count": 1,
   "metadata": {},
   "outputs": [],
   "source": [
    "import pandas as pd\n",
    "import numpy as np\n",
    "import matplotlib.pyplot as plt\n",
    "from sklearn.model_selection import train_test_split\n",
    "from sklearn.preprocessing import OneHotEncoder\n",
    "from sklearn.metrics import accuracy_score,classification_report\n",
    "\n",
    " "
   ]
  },
  {
   "cell_type": "markdown",
   "metadata": {},
   "source": [
    "We have the the dataset for this task in making_dataset.csv you can modify it as your needs"
   ]
  },
  {
   "cell_type": "code",
   "execution_count": 18,
   "metadata": {},
   "outputs": [
    {
     "data": {
      "text/html": [
       "<div>\n",
       "<style scoped>\n",
       "    .dataframe tbody tr th:only-of-type {\n",
       "        vertical-align: middle;\n",
       "    }\n",
       "\n",
       "    .dataframe tbody tr th {\n",
       "        vertical-align: top;\n",
       "    }\n",
       "\n",
       "    .dataframe thead th {\n",
       "        text-align: right;\n",
       "    }\n",
       "</style>\n",
       "<table border=\"1\" class=\"dataframe\">\n",
       "  <thead>\n",
       "    <tr style=\"text-align: right;\">\n",
       "      <th></th>\n",
       "      <th>Patient ID</th>\n",
       "      <th>Age</th>\n",
       "      <th>Gender</th>\n",
       "      <th>Smoking Status</th>\n",
       "      <th>Disease</th>\n",
       "      <th>Medication Prescribed</th>\n",
       "      <th>Dosage</th>\n",
       "      <th>Frequencey</th>\n",
       "    </tr>\n",
       "  </thead>\n",
       "  <tbody>\n",
       "    <tr>\n",
       "      <th>0</th>\n",
       "      <td>1</td>\n",
       "      <td>83</td>\n",
       "      <td>Female</td>\n",
       "      <td>Active-smoker</td>\n",
       "      <td>Bronchiolitis</td>\n",
       "      <td>Drug D</td>\n",
       "      <td>50mg</td>\n",
       "      <td>Twice daily</td>\n",
       "    </tr>\n",
       "    <tr>\n",
       "      <th>1</th>\n",
       "      <td>2</td>\n",
       "      <td>41</td>\n",
       "      <td>Male</td>\n",
       "      <td>Non-smoker</td>\n",
       "      <td>Bronchiectasis</td>\n",
       "      <td>Drug C</td>\n",
       "      <td>50mg</td>\n",
       "      <td>Once daily</td>\n",
       "    </tr>\n",
       "    <tr>\n",
       "      <th>2</th>\n",
       "      <td>3</td>\n",
       "      <td>35</td>\n",
       "      <td>Male</td>\n",
       "      <td>Ex-smoker</td>\n",
       "      <td>Pneumonia</td>\n",
       "      <td>Drug C</td>\n",
       "      <td>5mg</td>\n",
       "      <td>Three times daily</td>\n",
       "    </tr>\n",
       "    <tr>\n",
       "      <th>3</th>\n",
       "      <td>4</td>\n",
       "      <td>13</td>\n",
       "      <td>Male</td>\n",
       "      <td>Active-smoker</td>\n",
       "      <td>LRTI</td>\n",
       "      <td>Drug C</td>\n",
       "      <td>20mg</td>\n",
       "      <td>Once daily</td>\n",
       "    </tr>\n",
       "    <tr>\n",
       "      <th>4</th>\n",
       "      <td>5</td>\n",
       "      <td>70</td>\n",
       "      <td>Male</td>\n",
       "      <td>Active-smoker</td>\n",
       "      <td>URTI</td>\n",
       "      <td>Drug C</td>\n",
       "      <td>5mg</td>\n",
       "      <td>Three times daily</td>\n",
       "    </tr>\n",
       "  </tbody>\n",
       "</table>\n",
       "</div>"
      ],
      "text/plain": [
       "   Patient ID  Age  Gender Smoking Status         Disease  \\\n",
       "0           1   83  Female  Active-smoker   Bronchiolitis   \n",
       "1           2   41    Male     Non-smoker  Bronchiectasis   \n",
       "2           3   35    Male      Ex-smoker       Pneumonia   \n",
       "3           4   13    Male  Active-smoker            LRTI   \n",
       "4           5   70    Male  Active-smoker            URTI   \n",
       "\n",
       "  Medication Prescribed Dosage         Frequencey  \n",
       "0                Drug D   50mg        Twice daily  \n",
       "1                Drug C   50mg         Once daily  \n",
       "2                Drug C    5mg  Three times daily  \n",
       "3                Drug C   20mg         Once daily  \n",
       "4                Drug C    5mg  Three times daily  "
      ]
     },
     "execution_count": 18,
     "metadata": {},
     "output_type": "execute_result"
    }
   ],
   "source": [
    "#We know that our data contains 'N/A' values for Dosage and frequency columns for healthy patients, \n",
    "#I am creating model that can predict those values for healthy patients so I will keep N/A as it is\n",
    "\n",
    "df=pd.read_csv(r'Respiratory_Sound_Database\\medicine_prescription.csv',keep_default_na=False)\n",
    "df.head()"
   ]
  },
  {
   "cell_type": "code",
   "execution_count": 21,
   "metadata": {},
   "outputs": [
    {
     "name": "stdout",
     "output_type": "stream",
     "text": [
      "<class 'pandas.core.frame.DataFrame'>\n",
      "RangeIndex: 3000 entries, 0 to 2999\n",
      "Data columns (total 8 columns):\n",
      " #   Column                 Non-Null Count  Dtype \n",
      "---  ------                 --------------  ----- \n",
      " 0   Patient ID             3000 non-null   int64 \n",
      " 1   Age                    3000 non-null   int64 \n",
      " 2   Gender                 3000 non-null   object\n",
      " 3   Smoking Status         3000 non-null   object\n",
      " 4   Disease                3000 non-null   object\n",
      " 5   Medication Prescribed  3000 non-null   object\n",
      " 6   Dosage                 3000 non-null   object\n",
      " 7   Frequencey             3000 non-null   object\n",
      "dtypes: int64(2), object(6)\n",
      "memory usage: 187.6+ KB\n"
     ]
    }
   ],
   "source": [
    "df.info()"
   ]
  },
  {
   "cell_type": "code",
   "execution_count": null,
   "metadata": {},
   "outputs": [],
   "source": []
  }
 ],
 "metadata": {
  "kernelspec": {
   "display_name": "Python 3",
   "language": "python",
   "name": "python3"
  },
  "language_info": {
   "codemirror_mode": {
    "name": "ipython",
    "version": 3
   },
   "file_extension": ".py",
   "mimetype": "text/x-python",
   "name": "python",
   "nbconvert_exporter": "python",
   "pygments_lexer": "ipython3",
   "version": "3.11.1"
  }
 },
 "nbformat": 4,
 "nbformat_minor": 2
}
