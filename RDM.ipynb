{
 "cells": [
  {
   "cell_type": "code",
   "execution_count": 1,
   "metadata": {},
   "outputs": [],
   "source": [
    "import pandas as pd\n",
    "import numpy as np\n",
    "import matplotlib.pyplot as plt\n",
    "import seaborn as sns\n",
    "import glob\n",
    "import os\n",
    "import librosa"
   ]
  },
  {
   "cell_type": "code",
   "execution_count": 2,
   "metadata": {},
   "outputs": [
    {
     "data": {
      "text/html": [
       "<div>\n",
       "<style scoped>\n",
       "    .dataframe tbody tr th:only-of-type {\n",
       "        vertical-align: middle;\n",
       "    }\n",
       "\n",
       "    .dataframe tbody tr th {\n",
       "        vertical-align: top;\n",
       "    }\n",
       "\n",
       "    .dataframe thead th {\n",
       "        text-align: right;\n",
       "    }\n",
       "</style>\n",
       "<table border=\"1\" class=\"dataframe\">\n",
       "  <thead>\n",
       "    <tr style=\"text-align: right;\">\n",
       "      <th></th>\n",
       "      <th>patient_id</th>\n",
       "      <th>diagnosis</th>\n",
       "      <th>recording_index</th>\n",
       "      <th>chest_location</th>\n",
       "      <th>acquisition_mode</th>\n",
       "      <th>recording_equipment</th>\n",
       "    </tr>\n",
       "  </thead>\n",
       "  <tbody>\n",
       "    <tr>\n",
       "      <th>0</th>\n",
       "      <td>101</td>\n",
       "      <td>URTI</td>\n",
       "      <td>1b1</td>\n",
       "      <td>Al</td>\n",
       "      <td>sc</td>\n",
       "      <td>Meditron</td>\n",
       "    </tr>\n",
       "    <tr>\n",
       "      <th>1</th>\n",
       "      <td>101</td>\n",
       "      <td>URTI</td>\n",
       "      <td>1b1</td>\n",
       "      <td>Pr</td>\n",
       "      <td>sc</td>\n",
       "      <td>Meditron</td>\n",
       "    </tr>\n",
       "    <tr>\n",
       "      <th>2</th>\n",
       "      <td>102</td>\n",
       "      <td>Healthy</td>\n",
       "      <td>1b1</td>\n",
       "      <td>Ar</td>\n",
       "      <td>sc</td>\n",
       "      <td>Meditron</td>\n",
       "    </tr>\n",
       "    <tr>\n",
       "      <th>3</th>\n",
       "      <td>103</td>\n",
       "      <td>Asthma</td>\n",
       "      <td>2b2</td>\n",
       "      <td>Ar</td>\n",
       "      <td>mc</td>\n",
       "      <td>LittC2SE</td>\n",
       "    </tr>\n",
       "    <tr>\n",
       "      <th>4</th>\n",
       "      <td>104</td>\n",
       "      <td>COPD</td>\n",
       "      <td>1b1</td>\n",
       "      <td>Al</td>\n",
       "      <td>sc</td>\n",
       "      <td>Litt3200</td>\n",
       "    </tr>\n",
       "  </tbody>\n",
       "</table>\n",
       "</div>"
      ],
      "text/plain": [
       "   patient_id diagnosis recording_index chest_location acquisition_mode  \\\n",
       "0         101      URTI             1b1             Al               sc   \n",
       "1         101      URTI             1b1             Pr               sc   \n",
       "2         102   Healthy             1b1             Ar               sc   \n",
       "3         103    Asthma             2b2             Ar               mc   \n",
       "4         104      COPD             1b1             Al               sc   \n",
       "\n",
       "  recording_equipment  \n",
       "0            Meditron  \n",
       "1            Meditron  \n",
       "2            Meditron  \n",
       "3            LittC2SE  \n",
       "4            Litt3200  "
      ]
     },
     "execution_count": 2,
     "metadata": {},
     "output_type": "execute_result"
    }
   ],
   "source": [
    "df=pd.read_csv(r'Respiratory_Sound_Database\\diagnosis_details.csv')\n",
    "df.head()"
   ]
  },
  {
   "cell_type": "code",
   "execution_count": 3,
   "metadata": {},
   "outputs": [
    {
     "data": {
      "text/plain": [
       "patient_id             0\n",
       "diagnosis              0\n",
       "recording_index        0\n",
       "chest_location         0\n",
       "acquisition_mode       0\n",
       "recording_equipment    0\n",
       "dtype: int64"
      ]
     },
     "execution_count": 3,
     "metadata": {},
     "output_type": "execute_result"
    }
   ],
   "source": [
    "df.isnull().sum()"
   ]
  },
  {
   "cell_type": "code",
   "execution_count": 5,
   "metadata": {},
   "outputs": [
    {
     "name": "stdout",
     "output_type": "stream",
     "text": [
      "<class 'pandas.core.frame.DataFrame'>\n",
      "RangeIndex: 920 entries, 0 to 919\n",
      "Data columns (total 6 columns):\n",
      " #   Column               Non-Null Count  Dtype \n",
      "---  ------               --------------  ----- \n",
      " 0   patient_id           920 non-null    int64 \n",
      " 1   diagnosis            920 non-null    object\n",
      " 2   recording_index      920 non-null    object\n",
      " 3   chest_location       920 non-null    object\n",
      " 4   acquisition_mode     920 non-null    object\n",
      " 5   recording_equipment  920 non-null    object\n",
      "dtypes: int64(1), object(5)\n",
      "memory usage: 43.2+ KB\n"
     ]
    }
   ],
   "source": [
    "df.info()"
   ]
  },
  {
   "cell_type": "code",
   "execution_count": 8,
   "metadata": {},
   "outputs": [
    {
     "data": {
      "text/html": [
       "<div>\n",
       "<style scoped>\n",
       "    .dataframe tbody tr th:only-of-type {\n",
       "        vertical-align: middle;\n",
       "    }\n",
       "\n",
       "    .dataframe tbody tr th {\n",
       "        vertical-align: top;\n",
       "    }\n",
       "\n",
       "    .dataframe thead th {\n",
       "        text-align: right;\n",
       "    }\n",
       "</style>\n",
       "<table border=\"1\" class=\"dataframe\">\n",
       "  <thead>\n",
       "    <tr style=\"text-align: right;\">\n",
       "      <th></th>\n",
       "      <th>patient_id</th>\n",
       "      <th>diagnosis</th>\n",
       "    </tr>\n",
       "  </thead>\n",
       "  <tbody>\n",
       "    <tr>\n",
       "      <th>0</th>\n",
       "      <td>101</td>\n",
       "      <td>URTI</td>\n",
       "    </tr>\n",
       "  </tbody>\n",
       "</table>\n",
       "</div>"
      ],
      "text/plain": [
       "   patient_id diagnosis\n",
       "0         101      URTI"
      ]
     },
     "execution_count": 8,
     "metadata": {},
     "output_type": "execute_result"
    }
   ],
   "source": [
    "#for prediction we only need first wo columns\n",
    "df=df.iloc[:,:2]\n",
    "df.head(1)"
   ]
  },
  {
   "cell_type": "code",
   "execution_count": 14,
   "metadata": {},
   "outputs": [
    {
     "data": {
      "text/plain": [
       "COPD              793\n",
       "Pneumonia          37\n",
       "Healthy            35\n",
       "URTI               23\n",
       "Bronchiectasis     16\n",
       "Bronchiolitis      13\n",
       "LRTI                2\n",
       "Asthma              1\n",
       "Name: diagnosis, dtype: int64"
      ]
     },
     "execution_count": 14,
     "metadata": {},
     "output_type": "execute_result"
    }
   ],
   "source": [
    "count=df['diagnosis'].value_counts()\n",
    "count"
   ]
  },
  {
   "cell_type": "code",
   "execution_count": 15,
   "metadata": {},
   "outputs": [
    {
     "data": {
      "text/plain": [
       "(array([0, 1, 2, 3, 4, 5, 6, 7]),\n",
       " [Text(0, 0, 'COPD'),\n",
       "  Text(1, 0, 'Pneumonia'),\n",
       "  Text(2, 0, 'Healthy'),\n",
       "  Text(3, 0, 'URTI'),\n",
       "  Text(4, 0, 'Bronchiectasis'),\n",
       "  Text(5, 0, 'Bronchiolitis'),\n",
       "  Text(6, 0, 'LRTI'),\n",
       "  Text(7, 0, 'Asthma')])"
      ]
     },
     "execution_count": 15,
     "metadata": {},
     "output_type": "execute_result"
    },
    {
     "data": {
      "image/png": "[encoded data removed]",
      "text/plain": [
       "<Figure size 640x480 with 1 Axes>"
      ]
     },
     "metadata": {},
     "output_type": "display_data"
    }
   ],
   "source": [
    "#we have to deal with the imbalance in our dataset\n",
    "sns.countplot(x='diagnosis',data=df,order=count.index)\n",
    "plt.xticks(rotation=45)"
   ]
  },
  {
   "cell_type": "code",
   "execution_count": 28,
   "metadata": {},
   "outputs": [
    {
     "data": {
      "text/plain": [
       "['Respiratory_Sound_Database\\\\audio_and_txt_files\\\\101_1b1_Al_sc_Meditron.wav',\n",
       " 'Respiratory_Sound_Database\\\\audio_and_txt_files\\\\101_1b1_Pr_sc_Meditron.wav',\n",
       " 'Respiratory_Sound_Database\\\\audio_and_txt_files\\\\102_1b1_Ar_sc_Meditron.wav',\n",
       " 'Respiratory_Sound_Database\\\\audio_and_txt_files\\\\103_2b2_Ar_mc_LittC2SE.wav',\n",
       " 'Respiratory_Sound_Database\\\\audio_and_txt_files\\\\104_1b1_Al_sc_Litt3200.wav']"
      ]
     },
     "execution_count": 28,
     "metadata": {},
     "output_type": "execute_result"
    }
   ],
   "source": [
    "audio_files=glob.glob(r'Respiratory_Sound_Database\\audio_and_txt_files\\*.wav')\n",
    "audio_files[:5]"
   ]
  },
  {
   "cell_type": "code",
   "execution_count": 39,
   "metadata": {},
   "outputs": [],
   "source": [
    "mfccs_features=[]\n",
    "length=[]\n",
    "max_pad_len=926\n",
    "def feature_extraction(file):\n",
    "# Load the .wav file\n",
    "    audio, sample_rate = librosa.load(file)\n",
    "    # Extract the MFCC features\n",
    "    mfccs = librosa.feature.mfcc(y=audio, sr=sample_rate,n_mfcc=52)\n",
    "    \n",
    "    # If the array is shorter than max_pad_len, pad it with zeros\n",
    "    if (mfccs.shape[1] < max_pad_len):\n",
    "        pad_width = max_pad_len - mfccs.shape[1]\n",
    "        mfccs = np.pad(mfccs, pad_width=((0, 0), (0, pad_width)), mode='constant')\n",
    "    \n",
    "    # If the array is longer than max_pad_len, truncate it\n",
    "    elif (mfccs.shape[1] > max_pad_len):\n",
    "        mfccs = mfccs[:, :max_pad_len]\n",
    "        \n",
    "    \n",
    "    return mfccs\n",
    "for i in audio_files:\n",
    "    mfccs=feature_extraction(i)\n",
    "    mfccs_features.append(mfccs)\n",
    "    # length.append(mfccs.shape[1])\n",
    "    \n"
   ]
  },
  {
   "cell_type": "code",
   "execution_count": 38,
   "metadata": {},
   "outputs": [
    {
     "name": "stdout",
     "output_type": "stream",
     "text": [
      "max length is 3713 min length is 339 average length is 926.2423913043478\n"
     ]
    }
   ],
   "source": [
    "#check length size of mfccs_features\n",
    "print(f'max length is {max(length)} min length is {min(length)} average length is {np.mean(length)}')\n",
    "#max length is 3713 min length is 339 average length is 926.2423913043478\n",
    "#we will pad the mfccs_features to 926"
   ]
  },
  {
   "cell_type": "code",
   "execution_count": 40,
   "metadata": {},
   "outputs": [
    {
     "data": {
      "text/plain": [
       "(920, 52, 926)"
      ]
     },
     "execution_count": 40,
     "metadata": {},
     "output_type": "execute_result"
    }
   ],
   "source": [
    "mfccs_features=np.array(mfccs_features)\n",
    "mfccs_features.shape\n"
   ]
  }
 ],
 "metadata": {
  "kernelspec": {
   "display_name": "Python 3",
   "language": "python",
   "name": "python3"
  },
  "language_info": {
   "codemirror_mode": {
    "name": "ipython",
    "version": 3
   },
   "file_extension": ".py",
   "mimetype": "text/x-python",
   "name": "python",
   "nbconvert_exporter": "python",
   "pygments_lexer": "ipython3",
   "version": "3.11.1"
  }
 },
 "nbformat": 4,
 "nbformat_minor": 2
}
