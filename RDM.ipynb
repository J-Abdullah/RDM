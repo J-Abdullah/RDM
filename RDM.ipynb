{
 "cells": [
  {
   "cell_type": "code",
   "execution_count": 102,
   "metadata": {},
   "outputs": [],
   "source": [
    "import pandas as pd\n",
    "import numpy as np\n",
    "import matplotlib.pyplot as plt\n",
    "import seaborn as sns\n",
    "import glob\n",
    "import os\n",
    "import librosa\n",
    "import soundfile as sf\n",
    "from sklearn.model_selection import train_test_split\n",
    "from sklearn.preprocessing import LabelEncoder\n",
    "from tensorflow.keras.models import Sequential\n",
    "from tensorflow.keras.layers import LSTM, Dense, Dropout, Conv1D, MaxPooling1D, Input, BatchNormalization\n",
    "from tensorflow.keras.utils import to_categorical\n",
    "from keras_self_attention import SeqSelfAttention "
   ]
  },
  {
   "cell_type": "code",
   "execution_count": 2,
   "metadata": {},
   "outputs": [
    {
     "data": {
      "text/html": [
       "<div>\n",
       "<style scoped>\n",
       "    .dataframe tbody tr th:only-of-type {\n",
       "        vertical-align: middle;\n",
       "    }\n",
       "\n",
       "    .dataframe tbody tr th {\n",
       "        vertical-align: top;\n",
       "    }\n",
       "\n",
       "    .dataframe thead th {\n",
       "        text-align: right;\n",
       "    }\n",
       "</style>\n",
       "<table border=\"1\" class=\"dataframe\">\n",
       "  <thead>\n",
       "    <tr style=\"text-align: right;\">\n",
       "      <th></th>\n",
       "      <th>patient_id</th>\n",
       "      <th>diagnosis</th>\n",
       "      <th>recording_index</th>\n",
       "      <th>chest_location</th>\n",
       "      <th>acquisition_mode</th>\n",
       "      <th>recording_equipment</th>\n",
       "    </tr>\n",
       "  </thead>\n",
       "  <tbody>\n",
       "    <tr>\n",
       "      <th>0</th>\n",
       "      <td>101</td>\n",
       "      <td>URTI</td>\n",
       "      <td>1b1</td>\n",
       "      <td>Al</td>\n",
       "      <td>sc</td>\n",
       "      <td>Meditron</td>\n",
       "    </tr>\n",
       "    <tr>\n",
       "      <th>1</th>\n",
       "      <td>101</td>\n",
       "      <td>URTI</td>\n",
       "      <td>1b1</td>\n",
       "      <td>Pr</td>\n",
       "      <td>sc</td>\n",
       "      <td>Meditron</td>\n",
       "    </tr>\n",
       "    <tr>\n",
       "      <th>2</th>\n",
       "      <td>102</td>\n",
       "      <td>Healthy</td>\n",
       "      <td>1b1</td>\n",
       "      <td>Ar</td>\n",
       "      <td>sc</td>\n",
       "      <td>Meditron</td>\n",
       "    </tr>\n",
       "    <tr>\n",
       "      <th>3</th>\n",
       "      <td>103</td>\n",
       "      <td>Asthma</td>\n",
       "      <td>2b2</td>\n",
       "      <td>Ar</td>\n",
       "      <td>mc</td>\n",
       "      <td>LittC2SE</td>\n",
       "    </tr>\n",
       "    <tr>\n",
       "      <th>4</th>\n",
       "      <td>104</td>\n",
       "      <td>COPD</td>\n",
       "      <td>1b1</td>\n",
       "      <td>Al</td>\n",
       "      <td>sc</td>\n",
       "      <td>Litt3200</td>\n",
       "    </tr>\n",
       "  </tbody>\n",
       "</table>\n",
       "</div>"
      ],
      "text/plain": [
       "   patient_id diagnosis recording_index chest_location acquisition_mode  \\\n",
       "0         101      URTI             1b1             Al               sc   \n",
       "1         101      URTI             1b1             Pr               sc   \n",
       "2         102   Healthy             1b1             Ar               sc   \n",
       "3         103    Asthma             2b2             Ar               mc   \n",
       "4         104      COPD             1b1             Al               sc   \n",
       "\n",
       "  recording_equipment  \n",
       "0            Meditron  \n",
       "1            Meditron  \n",
       "2            Meditron  \n",
       "3            LittC2SE  \n",
       "4            Litt3200  "
      ]
     },
     "execution_count": 2,
     "metadata": {},
     "output_type": "execute_result"
    }
   ],
   "source": [
    "df=pd.read_csv(r'Respiratory_Sound_Database\\diagnosis_details.csv')\n",
    "df.head()"
   ]
  },
  {
   "cell_type": "code",
   "execution_count": 3,
   "metadata": {},
   "outputs": [
    {
     "data": {
      "text/plain": [
       "patient_id             0\n",
       "diagnosis              0\n",
       "recording_index        0\n",
       "chest_location         0\n",
       "acquisition_mode       0\n",
       "recording_equipment    0\n",
       "dtype: int64"
      ]
     },
     "execution_count": 3,
     "metadata": {},
     "output_type": "execute_result"
    }
   ],
   "source": [
    "df.isnull().sum()"
   ]
  },
  {
   "cell_type": "code",
   "execution_count": 4,
   "metadata": {},
   "outputs": [
    {
     "name": "stdout",
     "output_type": "stream",
     "text": [
      "<class 'pandas.core.frame.DataFrame'>\n",
      "RangeIndex: 920 entries, 0 to 919\n",
      "Data columns (total 6 columns):\n",
      " #   Column               Non-Null Count  Dtype \n",
      "---  ------               --------------  ----- \n",
      " 0   patient_id           920 non-null    int64 \n",
      " 1   diagnosis            920 non-null    object\n",
      " 2   recording_index      920 non-null    object\n",
      " 3   chest_location       920 non-null    object\n",
      " 4   acquisition_mode     920 non-null    object\n",
      " 5   recording_equipment  920 non-null    object\n",
      "dtypes: int64(1), object(5)\n",
      "memory usage: 43.2+ KB\n"
     ]
    }
   ],
   "source": [
    "df.info()"
   ]
  },
  {
   "cell_type": "code",
   "execution_count": 5,
   "metadata": {},
   "outputs": [
    {
     "data": {
      "text/html": [
       "<div>\n",
       "<style scoped>\n",
       "    .dataframe tbody tr th:only-of-type {\n",
       "        vertical-align: middle;\n",
       "    }\n",
       "\n",
       "    .dataframe tbody tr th {\n",
       "        vertical-align: top;\n",
       "    }\n",
       "\n",
       "    .dataframe thead th {\n",
       "        text-align: right;\n",
       "    }\n",
       "</style>\n",
       "<table border=\"1\" class=\"dataframe\">\n",
       "  <thead>\n",
       "    <tr style=\"text-align: right;\">\n",
       "      <th></th>\n",
       "      <th>patient_id</th>\n",
       "      <th>diagnosis</th>\n",
       "    </tr>\n",
       "  </thead>\n",
       "  <tbody>\n",
       "    <tr>\n",
       "      <th>0</th>\n",
       "      <td>101</td>\n",
       "      <td>URTI</td>\n",
       "    </tr>\n",
       "  </tbody>\n",
       "</table>\n",
       "</div>"
      ],
      "text/plain": [
       "   patient_id diagnosis\n",
       "0         101      URTI"
      ]
     },
     "execution_count": 5,
     "metadata": {},
     "output_type": "execute_result"
    }
   ],
   "source": [
    "#for prediction we only need first wo columns\n",
    "df=df.iloc[:,:2]\n",
    "df.head(1)"
   ]
  },
  {
   "cell_type": "code",
   "execution_count": 6,
   "metadata": {},
   "outputs": [
    {
     "data": {
      "text/plain": [
       "COPD              793\n",
       "Pneumonia          37\n",
       "Healthy            35\n",
       "URTI               23\n",
       "Bronchiectasis     16\n",
       "Bronchiolitis      13\n",
       "LRTI                2\n",
       "Asthma              1\n",
       "Name: diagnosis, dtype: int64"
      ]
     },
     "execution_count": 6,
     "metadata": {},
     "output_type": "execute_result"
    }
   ],
   "source": [
    "count=df['diagnosis'].value_counts()\n",
    "count"
   ]
  },
  {
   "cell_type": "code",
   "execution_count": 7,
   "metadata": {},
   "outputs": [
    {
     "data": {
      "text/plain": [
       "(array([0, 1, 2, 3, 4, 5, 6, 7]),\n",
       " [Text(0, 0, 'COPD'),\n",
       "  Text(1, 0, 'Pneumonia'),\n",
       "  Text(2, 0, 'Healthy'),\n",
       "  Text(3, 0, 'URTI'),\n",
       "  Text(4, 0, 'Bronchiectasis'),\n",
       "  Text(5, 0, 'Bronchiolitis'),\n",
       "  Text(6, 0, 'LRTI'),\n",
       "  Text(7, 0, 'Asthma')])"
      ]
     },
     "execution_count": 7,
     "metadata": {},
     "output_type": "execute_result"
    },
    {
     "data": {
      "image/png": "[encoded data removed]",
      "text/plain": [
       "<Figure size 640x480 with 1 Axes>"
      ]
     },
     "metadata": {},
     "output_type": "display_data"
    }
   ],
   "source": [
    "#we have to deal with the imbalance in our dataset\n",
    "sns.countplot(x='diagnosis',data=df,order=count.index)\n",
    "plt.xticks(rotation=45)"
   ]
  },
  {
   "cell_type": "code",
   "execution_count": 8,
   "metadata": {},
   "outputs": [
    {
     "name": "stdout",
     "output_type": "stream",
     "text": [
      "101\n"
     ]
    }
   ],
   "source": [
    "audio_files=glob.glob(r'Respiratory_Sound_Database\\audio_and_txt_files\\*.wav')\n",
    "print(os.path.basename(audio_files[0]).split('_')[0])"
   ]
  },
  {
   "cell_type": "code",
   "execution_count": 26,
   "metadata": {},
   "outputs": [
    {
     "name": "stdout",
     "output_type": "stream",
     "text": [
      "Respiratory_Sound_Database\\audio_and_txt_files\\101_1b1_Al_sc_Meditron_aug_4.wav\n"
     ]
    }
   ],
   "source": [
    "#new_file_name = f\"{os.path.splitext(audio_files[0])[0]}_aug_{np.random.randint(1000)}{os.path.splitext(audio_files[0])[1]}\"\n",
    "new_file_name=f\"{os.path.splitext(audio_files[0])[0]}_aug_{4}{os.path.splitext(audio_files[0])[1]}\"\n",
    "print(new_file_name)"
   ]
  },
  {
   "cell_type": "markdown",
   "metadata": {},
   "source": [
    "## Data Augmantation"
   ]
  },
  {
   "cell_type": "code",
   "execution_count": 54,
   "metadata": {},
   "outputs": [],
   "source": [
    "# we will apply four types of augmentation techniques\n",
    "def add_noise(data,noise_level=0.005):\n",
    "    noise=np.random.random(len(data))\n",
    "    augmented_data=data+noise*noise_level\n",
    "    #Cast baskc data to the same data type\n",
    "    augmented_data=augmented_data.astype(type(data[0]))\n",
    "    return augmented_data\n",
    "\n",
    "\n",
    "def stretch(data,r=1.5):\n",
    "    return librosa.effects.time_stretch(data,rate=r)\n",
    "\n",
    "\n",
    "def change_pitch(data,sample_rate,semitones=2):\n",
    "    return librosa.effects.pitch_shift(data,sr=sample_rate,n_steps=semitones)\n",
    "\n",
    "def change_volume(data,factor=0.5):\n",
    "    return data*factor"
   ]
  },
  {
   "cell_type": "code",
   "execution_count": null,
   "metadata": {},
   "outputs": [],
   "source": [
    "# augmentations = np.random.choice(['noise', 'stretch', 'pitch', 'volume'], size=2, replace=False)\n",
    "# augmentations\n",
    "augmentation_multipliers = {cls: int(np.ceil(target_samples / count)) for cls, count in class_distribution.items()}\n",
    "augmentation_multipliers"
   ]
  },
  {
   "cell_type": "code",
   "execution_count": 12,
   "metadata": {},
   "outputs": [
    {
     "data": {
      "text/plain": [
       "{'COPD': 1,\n",
       " 'Pneumonia': 22,\n",
       " 'Healthy': 23,\n",
       " 'URTI': 35,\n",
       " 'Bronchiectasis': 50,\n",
       " 'Bronchiolitis': 61,\n",
       " 'LRTI': 397,\n",
       " 'Asthma': 793}"
      ]
     },
     "execution_count": 12,
     "metadata": {},
     "output_type": "execute_result"
    }
   ],
   "source": [
    "class_distribution=count.to_dict()\n",
    "\n",
    "#target number of samples for each class\n",
    "target_samples=max(class_distribution.values())\n",
    "\n",
    "#calculate the number of samples to add for each class\n",
    "augmentation_multipliers={cls: int(np.ceil(target_samples / count)) for cls, count in class_distribution.items()}\n",
    "#augrmantation_factor={k:target_samples-v for k,v in class_distribution.items()}\n",
    "augmentation_multipliers"
   ]
  },
  {
   "cell_type": "code",
   "execution_count": 52,
   "metadata": {},
   "outputs": [],
   "source": [
    "#function to augment the data\n",
    "def augment_data(file_path,augmentations):\n",
    "    y,sr=librosa.load(file_path,sr=None)\n",
    "    augmented_data=y\n",
    "    for augmentation in augmentations:\n",
    "        if augmentation=='noise':\n",
    "            augmented_data=add_noise(augmented_data)\n",
    "        if augmentation=='stretch':\n",
    "            augmented_data=stretch(augmented_data)\n",
    "        if augmentation=='pitch':\n",
    "            augmented_data=change_pitch(augmented_data,sr)\n",
    "        if augmentation=='volume':\n",
    "            augmented_data=change_volume(augmented_data)\n",
    "    return augmented_data,sr"
   ]
  },
  {
   "cell_type": "code",
   "execution_count": 15,
   "metadata": {},
   "outputs": [
    {
     "data": {
      "text/html": [
       "<div>\n",
       "<style scoped>\n",
       "    .dataframe tbody tr th:only-of-type {\n",
       "        vertical-align: middle;\n",
       "    }\n",
       "\n",
       "    .dataframe tbody tr th {\n",
       "        vertical-align: top;\n",
       "    }\n",
       "\n",
       "    .dataframe thead th {\n",
       "        text-align: right;\n",
       "    }\n",
       "</style>\n",
       "<table border=\"1\" class=\"dataframe\">\n",
       "  <thead>\n",
       "    <tr style=\"text-align: right;\">\n",
       "      <th></th>\n",
       "      <th>patient_id</th>\n",
       "      <th>diagnosis</th>\n",
       "    </tr>\n",
       "  </thead>\n",
       "  <tbody>\n",
       "    <tr>\n",
       "      <th>0</th>\n",
       "      <td>101</td>\n",
       "      <td>URTI</td>\n",
       "    </tr>\n",
       "    <tr>\n",
       "      <th>1</th>\n",
       "      <td>102</td>\n",
       "      <td>Healthy</td>\n",
       "    </tr>\n",
       "    <tr>\n",
       "      <th>2</th>\n",
       "      <td>103</td>\n",
       "      <td>Asthma</td>\n",
       "    </tr>\n",
       "    <tr>\n",
       "      <th>3</th>\n",
       "      <td>104</td>\n",
       "      <td>COPD</td>\n",
       "    </tr>\n",
       "    <tr>\n",
       "      <th>4</th>\n",
       "      <td>105</td>\n",
       "      <td>URTI</td>\n",
       "    </tr>\n",
       "  </tbody>\n",
       "</table>\n",
       "</div>"
      ],
      "text/plain": [
       "   patient_id diagnosis\n",
       "0         101      URTI\n",
       "1         102   Healthy\n",
       "2         103    Asthma\n",
       "3         104      COPD\n",
       "4         105      URTI"
      ]
     },
     "execution_count": 15,
     "metadata": {},
     "output_type": "execute_result"
    }
   ],
   "source": [
    "df2=pd.read_csv(r'Respiratory_Sound_Database\\patient_diagnosis.csv',names=['patient_id','diagnosis'])\n",
    "df2.head()"
   ]
  },
  {
   "cell_type": "code",
   "execution_count": 57,
   "metadata": {},
   "outputs": [
    {
     "data": {
      "text/plain": [
       "(array([ 0.04259979,  0.04973283,  0.04669041, ..., -0.01506342,\n",
       "        -0.01344411, -0.01644927], dtype=float32),\n",
       " 44100)"
      ]
     },
     "execution_count": 57,
     "metadata": {},
     "output_type": "execute_result"
    }
   ],
   "source": [
    "new_data = augment_data(audio_files[0], ['pitch', 'volume'])\n",
    "new_data\n"
   ]
  },
  {
   "cell_type": "code",
   "execution_count": 38,
   "metadata": {},
   "outputs": [],
   "source": [
    "#creating new files with augmented data\n",
    "def augment_and_label_audio(file_path,df,augmentation_multipliers):\n",
    "    for f in audio_files:\n",
    "        patient_id=os.path.basename(f).split('_')[0]\n",
    "        diagnosis=df[df['patient_id']==int(patient_id)]['diagnosis'].values[0]\n",
    "        if(diagnosis!='COPD'):\n",
    "            multiplier=augmentation_multipliers[diagnosis]\n",
    "            \n",
    "            for i in range(multiplier):\n",
    "                augmentation=np.random.choice(['noise','stretch','pitch','volume'],size=2,replace=False)\n",
    "                new_data,sr=augment_data(f,augmentation)\n",
    "                new_file_name=f\"{os.path.splitext(f)[0]}_aug_{i}{os.path.splitext(f)[1]}\"\n",
    "                sf.write(new_file_name,new_data,sr)\n",
    "        "
   ]
  },
  {
   "cell_type": "code",
   "execution_count": 58,
   "metadata": {},
   "outputs": [],
   "source": [
    "#augment_and_label_audio(audio_files,df2,augmentation_multipliers)"
   ]
  },
  {
   "cell_type": "code",
   "execution_count": 79,
   "metadata": {},
   "outputs": [
    {
     "data": {
      "image/png": "[encoded data removed]",
      "text/plain": [
       "<Figure size 640x480 with 1 Axes>"
      ]
     },
     "metadata": {},
     "output_type": "display_data"
    }
   ],
   "source": [
    "#checking values in new data\n",
    "audio_files2=glob.glob(r'Respiratory_Sound_Database\\audio_and_txt_files\\*.wav')\n",
    "labels2=[]\n",
    "max_pad_len=926\n",
    "for i in audio_files2:\n",
    "    labels2.append(extract_label(i,df2))\n",
    "labels2_series = pd.Series(labels2)\n",
    "sns.countplot(x=labels2_series, order=labels2_series.value_counts().index)\n",
    "plt.xticks(rotation=45)\n",
    "plt.show()"
   ]
  },
  {
   "cell_type": "markdown",
   "metadata": {},
   "source": [
    "## Feature extraction"
   ]
  },
  {
   "cell_type": "code",
   "execution_count": 90,
   "metadata": {},
   "outputs": [],
   "source": [
    "#function for extracting class labels\n",
    "def extract_label(file,df):\n",
    "    id=os.path.basename(file).split('_')[0]\n",
    "    label=df[df['patient_id']==int(id)]['diagnosis'].values[0]\n",
    "    return label\n",
    "\n",
    "\n",
    "#function for extracting mfcc features\n",
    "def feature_extraction(file,max_pad_len,n_features):\n",
    "# Load the .wav file\n",
    "    audio, sample_rate = librosa.load(file)\n",
    "    # Extract the MFCC features\n",
    "    mfccs = librosa.feature.mfcc(y=audio, sr=sample_rate,n_mfcc=n_features)\n",
    "    \n",
    "    # If the array is shorter than max_pad_len, pad it with zeros\n",
    "    if (mfccs.shape[1] < max_pad_len):\n",
    "        pad_width = max_pad_len - mfccs.shape[1]\n",
    "        mfccs = np.pad(mfccs, pad_width=((0, 0), (0, pad_width)), mode='constant')\n",
    "    \n",
    "    # If the array is longer than max_pad_len, truncate it\n",
    "    elif (mfccs.shape[1] > max_pad_len):\n",
    "        mfccs = mfccs[:, :max_pad_len]\n",
    "        \n",
    "    return mfccs\n"
   ]
  },
  {
   "cell_type": "code",
   "execution_count": 91,
   "metadata": {},
   "outputs": [],
   "source": [
    "mfccs_features=[]\n",
    "length=[]\n",
    "labels=[]\n",
    "max_pad_len=926\n",
    "for i in audio_files2:\n",
    "    mfccs=feature_extraction(i,max_pad_len,52)\n",
    "    mfccs_features.append(mfccs)\n",
    "    labels.append(extract_label(i,df2))\n",
    "    length.append(mfccs.shape[1])"
   ]
  },
  {
   "cell_type": "code",
   "execution_count": 92,
   "metadata": {},
   "outputs": [
    {
     "name": "stdout",
     "output_type": "stream",
     "text": [
      "max length is 926 min length is 926 average length is 926.0\n"
     ]
    }
   ],
   "source": [
    "#check length size of mfccs_features\n",
    "print(f'max length is {max(length)} min length is {min(length)} average length is {np.mean(length)}')\n",
    "#max length is 3713 min length is 339 average length is 926.2423913043478\n",
    "#we will pad the mfccs_features to 926"
   ]
  },
  {
   "cell_type": "code",
   "execution_count": 95,
   "metadata": {},
   "outputs": [
    {
     "name": "stdout",
     "output_type": "stream",
     "text": [
      "(6524, 52, 926)\n",
      "(6524,)\n"
     ]
    }
   ],
   "source": [
    "#converting fatures and labels to numpy arrays\n",
    "mfccs_features=np.array(mfccs_features)\n",
    "labels=np.array(labels)\n",
    "print(mfccs_features.shape)\n",
    "print(labels.shape)\n"
   ]
  },
  {
   "cell_type": "markdown",
   "metadata": {},
   "source": [
    "### Model "
   ]
  },
  {
   "cell_type": "code",
   "execution_count": 106,
   "metadata": {},
   "outputs": [
    {
     "data": {
      "text/plain": [
       "array([[0., 0., 0., ..., 0., 0., 1.],\n",
       "       [0., 0., 0., ..., 0., 0., 1.],\n",
       "       [0., 0., 0., ..., 0., 0., 1.],\n",
       "       ...,\n",
       "       [0., 0., 0., ..., 0., 1., 0.],\n",
       "       [0., 0., 0., ..., 0., 1., 0.],\n",
       "       [0., 0., 0., ..., 0., 1., 0.]], dtype=float32)"
      ]
     },
     "execution_count": 106,
     "metadata": {},
     "output_type": "execute_result"
    }
   ],
   "source": [
    "#encoding the labels\n",
    "# label_encoder=LabelEncoder()\n",
    "# labels=label_encoder.fit_transform(labels)\n",
    "one_hot_labels=to_categorical(labels,num_classes=8)\n",
    "one_hot_labels\n"
   ]
  },
  {
   "cell_type": "code",
   "execution_count": 104,
   "metadata": {},
   "outputs": [],
   "source": [
    "# Split the dataset into training, validation, and test sets\n",
    "X_train,X_test,y_train,y_test=train_test_split(mfccs_features,one_hot_labels,test_size=0.2,random_state=0)\n"
   ]
  },
  {
   "cell_type": "code",
   "execution_count": 107,
   "metadata": {},
   "outputs": [
    {
     "name": "stderr",
     "output_type": "stream",
     "text": [
      "c:\\Users\\J.Abdullah\\AppData\\Local\\Programs\\Python\\Python311\\Lib\\site-packages\\keras\\initializers\\initializers.py:120: UserWarning: The initializer GlorotNormal is unseeded and being called multiple times, which will return identical values each time (even if the initializer is unseeded). Please update your code to provide a seed to the initializer, or avoid using the same initalizer instance more than once.\n",
      "  warnings.warn(\n"
     ]
    },
    {
     "name": "stdout",
     "output_type": "stream",
     "text": [
      "Model: \"sequential\"\n",
      "_________________________________________________________________\n",
      " Layer (type)                Output Shape              Param #   \n",
      "=================================================================\n",
      " conv1d (Conv1D)             (None, 52, 64)            296384    \n",
      "                                                                 \n",
      " batch_normalization (BatchN  (None, 52, 64)           256       \n",
      " ormalization)                                                   \n",
      "                                                                 \n",
      " max_pooling1d (MaxPooling1D  (None, 26, 64)           0         \n",
      " )                                                               \n",
      "                                                                 \n",
      " conv1d_1 (Conv1D)           (None, 26, 128)           24704     \n",
      "                                                                 \n",
      " batch_normalization_1 (Batc  (None, 26, 128)          512       \n",
      " hNormalization)                                                 \n",
      "                                                                 \n",
      " max_pooling1d_1 (MaxPooling  (None, 13, 128)          0         \n",
      " 1D)                                                             \n",
      "                                                                 \n",
      " lstm (LSTM)                 (None, 13, 128)           131584    \n",
      "                                                                 \n",
      " dropout (Dropout)           (None, 13, 128)           0         \n",
      "                                                                 \n",
      " seq_self_attention (SeqSelf  (None, 13, 128)          8257      \n",
      " Attention)                                                      \n",
      "                                                                 \n",
      " lstm_1 (LSTM)               (None, 128)               131584    \n",
      "                                                                 \n",
      " dropout_1 (Dropout)         (None, 128)               0         \n",
      "                                                                 \n",
      " dense (Dense)               (None, 128)               16512     \n",
      "                                                                 \n",
      " dropout_2 (Dropout)         (None, 128)               0         \n",
      "                                                                 \n",
      " dense_1 (Dense)             (None, 64)                8256      \n",
      "                                                                 \n",
      " dropout_3 (Dropout)         (None, 64)                0         \n",
      "                                                                 \n",
      " dense_2 (Dense)             (None, 8)                 520       \n",
      "                                                                 \n",
      "=================================================================\n",
      "Total params: 618,569\n",
      "Trainable params: 618,185\n",
      "Non-trainable params: 384\n",
      "_________________________________________________________________\n"
     ]
    }
   ],
   "source": [
    "#creating model usign LSTM and attention cnn\n",
    "model=Sequential([\n",
    "    Input(shape=(52,926)),\n",
    "    \n",
    "    Conv1D(64,5,padding='same',activation='relu'),\n",
    "    BatchNormalization(),\n",
    "    MaxPooling1D(pool_size=2),\n",
    "    \n",
    "    Conv1D(128,3,padding='same',activation='relu'),\n",
    "    BatchNormalization(),\n",
    "    MaxPooling1D(pool_size=2),\n",
    "    \n",
    "    # LSTM layers with return_sequences=True to keep temporal dimension\n",
    "    LSTM(128, return_sequences=True),\n",
    "    Dropout(0.5),\n",
    "    \n",
    "    # Attention Layer\n",
    "    SeqSelfAttention(attention_activation='sigmoid'),\n",
    "    \n",
    "    # Additional LSTM Layer\n",
    "    LSTM(128),\n",
    "    Dropout(0.5),\n",
    "    \n",
    "    # Dense Layers for Classification\n",
    "    Dense(128, activation='relu'),\n",
    "    Dropout(0.5),\n",
    "    Dense(64, activation='relu'),\n",
    "    Dropout(0.5),\n",
    "    Dense(8, activation='softmax')\n",
    "])\n",
    "\n",
    "model.compile(optimizer='adam', loss='categorical_crossentropy', metrics=['accuracy'])\n",
    "\n",
    "model.summary()"
   ]
  }
 ],
 "metadata": {
  "kernelspec": {
   "display_name": "Python 3",
   "language": "python",
   "name": "python3"
  },
  "language_info": {
   "codemirror_mode": {
    "name": "ipython",
    "version": 3
   },
   "file_extension": ".py",
   "mimetype": "text/x-python",
   "name": "python",
   "nbconvert_exporter": "python",
   "pygments_lexer": "ipython3",
   "version": "3.11.1"
  }
 },
 "nbformat": 4,
 "nbformat_minor": 2
}
