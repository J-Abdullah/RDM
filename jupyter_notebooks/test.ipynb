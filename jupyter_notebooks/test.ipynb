{
 "cells": [
  {
   "cell_type": "code",
   "execution_count": 83,
   "metadata": {},
   "outputs": [],
   "source": [
    "import pandas as pd\n",
    "import numpy as np\n",
    "import matplotlib.pyplot as plt\n",
    "import seaborn as sns\n",
    "import glob\n",
    "import os\n",
    "import librosa\n",
    "import soundfile as sf\n",
    "from sklearn.model_selection import train_test_split\n",
    "from sklearn.preprocessing import LabelEncoder\n",
    "import tensorflow as tf\n",
    "from tensorflow.keras.models import Sequential,load_model\n",
    "from tensorflow.keras.layers import LSTM, Dense, Dropout, Conv1D, MaxPooling1D, Input, BatchNormalization\n",
    "from tensorflow.keras.utils import to_categorical\n",
    "from keras_self_attention import SeqSelfAttention \n",
    "from tensorflow.keras.callbacks import EarlyStopping\n",
    "from sklearn.metrics import classification_report,confusion_matrix\n",
    "from sklearn.metrics import roc_curve, auc\n",
    "from sklearn.preprocessing import label_binarize\n",
    "from itertools import cycle\n",
    "import pickle\n",
    "from keras.models import load_model"
   ]
  },
  {
   "cell_type": "code",
   "execution_count": 29,
   "metadata": {},
   "outputs": [],
   "source": [
    "import warnings\n",
    "warnings.filterwarnings('ignore')"
   ]
  },
  {
   "cell_type": "code",
   "execution_count": 84,
   "metadata": {},
   "outputs": [],
   "source": [
    "model=load_model(r'..\\Serialized_objects\\RDM_Diagnose.h5',custom_objects={'SeqSelfAttention': SeqSelfAttention})\n",
    "LabelEncoder = pickle.load(open(r'..\\Serialized_objects\\disease_encoder.pkl', 'rb'))"
   ]
  },
  {
   "cell_type": "code",
   "execution_count": 2,
   "metadata": {},
   "outputs": [],
   "source": [
    "#function for extracting class labels\n",
    "def extract_label(file,df):\n",
    "    id=os.path.basename(file).split('_')[0]\n",
    "    label=df[df['patient_id']==int(id)]['diagnosis'].values[0]\n",
    "    return label\n",
    "\n",
    "\n",
    "#function for extracting mfcc features\n",
    "def feature_extraction(file,max_pad_len=926,n_features=52):\n",
    "# Load the .wav file\n",
    "    audio, sample_rate = librosa.load(file)\n",
    "    # Extract the MFCC features\n",
    "    mfccs = librosa.feature.mfcc(y=audio, sr=sample_rate,n_mfcc=n_features)\n",
    "    \n",
    "    # If the array is shorter than max_pad_len, pad it with zeros\n",
    "    if (mfccs.shape[1] < max_pad_len):\n",
    "        pad_width = max_pad_len - mfccs.shape[1]\n",
    "        mfccs = np.pad(mfccs, pad_width=((0, 0), (0, pad_width)), mode='constant')\n",
    "    \n",
    "    # If the array is longer than max_pad_len, truncate it\n",
    "    elif (mfccs.shape[1] > max_pad_len):\n",
    "        mfccs = mfccs[:, :max_pad_len]\n",
    "        \n",
    "    return mfccs\n"
   ]
  },
  {
   "cell_type": "code",
   "execution_count": 23,
   "metadata": {},
   "outputs": [],
   "source": [
    "audio_files=glob.glob(r'..\\Respiratory_Sound_Database\\audio_and_txt_files\\*.wav')"
   ]
  },
  {
   "cell_type": "code",
   "execution_count": 24,
   "metadata": {},
   "outputs": [
    {
     "data": {
      "text/plain": [
       "['..\\\\Respiratory_Sound_Database\\\\audio_and_txt_files\\\\101_1b1_Al_sc_Meditron.wav',\n",
       " '..\\\\Respiratory_Sound_Database\\\\audio_and_txt_files\\\\101_1b1_Al_sc_Meditron_aug_0.wav',\n",
       " '..\\\\Respiratory_Sound_Database\\\\audio_and_txt_files\\\\101_1b1_Al_sc_Meditron_aug_1.wav',\n",
       " '..\\\\Respiratory_Sound_Database\\\\audio_and_txt_files\\\\101_1b1_Al_sc_Meditron_aug_10.wav',\n",
       " '..\\\\Respiratory_Sound_Database\\\\audio_and_txt_files\\\\101_1b1_Al_sc_Meditron_aug_11.wav']"
      ]
     },
     "execution_count": 24,
     "metadata": {},
     "output_type": "execute_result"
    }
   ],
   "source": [
    "audio_files[0:5]\n",
    "#Respiratory_Sound_Database\\audio_and_txt_files\\101_1b1_Al_sc_Meditron_aug_3.wav\n",
    "#E:\\Lea!n\\RDM\\Respiratory_Sound_Database\\audio_and_txt_files\\101_1b1_Al_sc_Meditron_aug_1.wav"
   ]
  },
  {
   "cell_type": "code",
   "execution_count": 22,
   "metadata": {},
   "outputs": [
    {
     "data": {
      "text/html": [
       "<div>\n",
       "<style scoped>\n",
       "    .dataframe tbody tr th:only-of-type {\n",
       "        vertical-align: middle;\n",
       "    }\n",
       "\n",
       "    .dataframe tbody tr th {\n",
       "        vertical-align: top;\n",
       "    }\n",
       "\n",
       "    .dataframe thead th {\n",
       "        text-align: right;\n",
       "    }\n",
       "</style>\n",
       "<table border=\"1\" class=\"dataframe\">\n",
       "  <thead>\n",
       "    <tr style=\"text-align: right;\">\n",
       "      <th></th>\n",
       "      <th>patient_id</th>\n",
       "      <th>diagnosis</th>\n",
       "    </tr>\n",
       "  </thead>\n",
       "  <tbody>\n",
       "    <tr>\n",
       "      <th>0</th>\n",
       "      <td>101</td>\n",
       "      <td>URTI</td>\n",
       "    </tr>\n",
       "    <tr>\n",
       "      <th>1</th>\n",
       "      <td>102</td>\n",
       "      <td>Healthy</td>\n",
       "    </tr>\n",
       "    <tr>\n",
       "      <th>2</th>\n",
       "      <td>103</td>\n",
       "      <td>Asthma</td>\n",
       "    </tr>\n",
       "    <tr>\n",
       "      <th>3</th>\n",
       "      <td>104</td>\n",
       "      <td>COPD</td>\n",
       "    </tr>\n",
       "    <tr>\n",
       "      <th>4</th>\n",
       "      <td>105</td>\n",
       "      <td>URTI</td>\n",
       "    </tr>\n",
       "  </tbody>\n",
       "</table>\n",
       "</div>"
      ],
      "text/plain": [
       "   patient_id diagnosis\n",
       "0         101      URTI\n",
       "1         102   Healthy\n",
       "2         103    Asthma\n",
       "3         104      COPD\n",
       "4         105      URTI"
      ]
     },
     "execution_count": 22,
     "metadata": {},
     "output_type": "execute_result"
    }
   ],
   "source": [
    "df=pd.read_csv(r'..\\Respiratory_Sound_Database\\patient_diagnosis.csv',names=['patient_id','diagnosis'])\n",
    "df.head()"
   ]
  },
  {
   "cell_type": "code",
   "execution_count": 42,
   "metadata": {},
   "outputs": [],
   "source": [
    "mfccs_features=[]\n",
    "length=[]\n",
    "labels=[]\n",
    "max_pad_len=926\n",
    "for i in audio_files:\n",
    "    mfccs=feature_extraction(i,max_pad_len,52)\n",
    "    mfccs_features.append(mfccs)\n",
    "    labels.append(extract_label(i,df))\n",
    "    length.append(mfccs.shape[1])"
   ]
  },
  {
   "cell_type": "code",
   "execution_count": 45,
   "metadata": {},
   "outputs": [
    {
     "data": {
      "text/plain": [
       "(6524,)"
      ]
     },
     "execution_count": 45,
     "metadata": {},
     "output_type": "execute_result"
    }
   ],
   "source": [
    "np.array(labels).shape"
   ]
  },
  {
   "cell_type": "code",
   "execution_count": 46,
   "metadata": {},
   "outputs": [
    {
     "data": {
      "text/plain": [
       "array([[0., 0., 0., ..., 0., 0., 1.],\n",
       "       [0., 0., 0., ..., 0., 0., 1.],\n",
       "       [0., 0., 0., ..., 0., 0., 1.],\n",
       "       ...,\n",
       "       [0., 0., 0., ..., 0., 1., 0.],\n",
       "       [0., 0., 0., ..., 0., 1., 0.],\n",
       "       [0., 0., 0., ..., 0., 1., 0.]], dtype=float32)"
      ]
     },
     "execution_count": 46,
     "metadata": {},
     "output_type": "execute_result"
    }
   ],
   "source": [
    "\n",
    "labels=np.array(labels)\n",
    "labels=LabelEncoder.transform(labels)\n",
    "one_hot_labels=to_categorical(labels,num_classes=8)\n",
    "one_hot_labels"
   ]
  },
  {
   "cell_type": "code",
   "execution_count": 50,
   "metadata": {},
   "outputs": [],
   "source": [
    "X_train,X_test,y_train,y_test=train_test_split(mfccs_features,one_hot_labels,test_size=0.2,random_state=28)"
   ]
  },
  {
   "cell_type": "code",
   "execution_count": 52,
   "metadata": {},
   "outputs": [
    {
     "data": {
      "text/plain": [
       "(1305, 52, 926)"
      ]
     },
     "execution_count": 52,
     "metadata": {},
     "output_type": "execute_result"
    }
   ],
   "source": [
    "np.array(X_test).shape"
   ]
  },
  {
   "cell_type": "code",
   "execution_count": 53,
   "metadata": {},
   "outputs": [
    {
     "name": "stdout",
     "output_type": "stream",
     "text": [
      "41/41 [==============================] - 5s 46ms/step\n"
     ]
    }
   ],
   "source": [
    "predictions=model.predict(np.array(X_test))\n",
    "predictions=np.argmax(predictions,axis=1)\n",
    "y_test=np.argmax(y_test,axis=1)\n",
    "class_labels=list(LabelEncoder.classes_)\n",
    "cm=confusion_matrix(y_test,predictions)"
   ]
  },
  {
   "cell_type": "code",
   "execution_count": 54,
   "metadata": {},
   "outputs": [
    {
     "data": {
      "text/plain": [
       "array([[167,   0,   0,   0,   0,   0,   0,   0],\n",
       "       [  0, 148,   0,   0,   0,   0,   0,   0],\n",
       "       [  0,   0, 166,   0,   0,   0,   0,   0],\n",
       "       [  0,   1,   0, 171,   0,   0,   4,   0],\n",
       "       [  0,   0,   0,   0, 170,   0,   1,   0],\n",
       "       [  0,   0,   0,   0,   0, 147,   0,   0],\n",
       "       [  0,   0,   0,   0,   0,   0, 162,   0],\n",
       "       [  0,   0,   0,   0,   1,   0,   0, 167]], dtype=int64)"
      ]
     },
     "execution_count": 54,
     "metadata": {},
     "output_type": "execute_result"
    }
   ],
   "source": [
    "cm"
   ]
  },
  {
   "cell_type": "code",
   "execution_count": 57,
   "metadata": {},
   "outputs": [
    {
     "data": {
      "text/plain": [
       "0.9946360153256705"
      ]
     },
     "execution_count": 57,
     "metadata": {},
     "output_type": "execute_result"
    }
   ],
   "source": [
    "accuracy = np.sum(np.diag(cm)) / np.sum(cm)\n",
    "accuracy"
   ]
  },
  {
   "cell_type": "code",
   "execution_count": 55,
   "metadata": {},
   "outputs": [
    {
     "data": {
      "image/png": "[encoded data removed]",
      "text/plain": [
       "<Figure size 1000x700 with 2 Axes>"
      ]
     },
     "metadata": {},
     "output_type": "display_data"
    }
   ],
   "source": [
    "plt.figure(figsize=(10, 7))\n",
    "sns.heatmap(cm, annot=True, fmt='d', xticklabels=class_labels, yticklabels=class_labels)\n",
    "plt.xlabel('Predicted')\n",
    "plt.ylabel('Truth')\n",
    "plt.show()"
   ]
  },
  {
   "cell_type": "code",
   "execution_count": 90,
   "metadata": {},
   "outputs": [],
   "source": [
    "def predictor(file):\n",
    "    mfcc=feature_extraction(file)\n",
    "    mfcc=np.expand_dims(mfcc,axis=0)\n",
    "    predict=model.predict(mfcc,verbose=0)\n",
    "    label=LabelEncoder.inverse_transform(np.argmax(predict,axis=1))[0]\n",
    "    return label"
   ]
  },
  {
   "cell_type": "code",
   "execution_count": 68,
   "metadata": {},
   "outputs": [],
   "source": [
    "files=[r'..\\Respiratory_Sound_Database\\audio_and_txt_files\\101_1b1_Al_sc_Meditron_aug_3.wav',\n",
    "       r'..\\Respiratory_Sound_Database\\audio_and_txt_files\\108_1b1_Al_sc_Meditron.wav',\n",
    "       r'..\\Respiratory_Sound_Database\\audio_and_txt_files\\111_1b2_Tc_sc_Meditron.wav',\n",
    "       r'..\\Respiratory_Sound_Database\\audio_and_txt_files\\122_2b2_Al_mc_LittC2SE.wav',\n",
    "       r'..\\Respiratory_Sound_Database\\audio_and_txt_files\\121_1b1_Tc_sc_Meditron.wav']"
   ]
  },
  {
   "cell_type": "code",
   "execution_count": 94,
   "metadata": {},
   "outputs": [],
   "source": [
    "def tester(files, df):\n",
    "    print(f'{\"Actual Label\":<20} {\"Predicted Label\"}')\n",
    "    print('-' * 90)\n",
    "    match_count = 0\n",
    "    for file in files:\n",
    "        label = extract_label(file, df)\n",
    "        predicted_label = predictor(file)\n",
    "        print(f'{label:<20} {predicted_label}')\n",
    "        if label == predicted_label:\n",
    "            match_count += 1\n",
    "    print(f'\\nTotal matches: {match_count} out of {len(files)}')\n"
   ]
  },
  {
   "cell_type": "code",
   "execution_count": 95,
   "metadata": {},
   "outputs": [
    {
     "name": "stdout",
     "output_type": "stream",
     "text": [
      "Actual Label         Predicted Label\n",
      "------------------------------------------------------------------------------------------\n",
      "URTI                 URTI\n",
      "LRTI                 LRTI\n",
      "Bronchiectasis       Bronchiectasis\n",
      "Pneumonia            Pneumonia\n",
      "Healthy              Healthy\n",
      "\n",
      "Total matches: 5 out of 5\n"
     ]
    }
   ],
   "source": [
    "tester(files,df)"
   ]
  }
 ],
 "metadata": {
  "kernelspec": {
   "display_name": "Python 3",
   "language": "python",
   "name": "python3"
  },
  "language_info": {
   "codemirror_mode": {
    "name": "ipython",
    "version": 3
   },
   "file_extension": ".py",
   "mimetype": "text/x-python",
   "name": "python",
   "nbconvert_exporter": "python",
   "pygments_lexer": "ipython3",
   "version": "3.11.1"
  }
 },
 "nbformat": 4,
 "nbformat_minor": 2
}
