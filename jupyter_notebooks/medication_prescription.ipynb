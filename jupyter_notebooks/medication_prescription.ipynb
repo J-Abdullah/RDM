{
 "cells": [
  {
   "cell_type": "code",
   "execution_count": 8,
   "metadata": {},
   "outputs": [],
   "source": [
    "import pandas as pd\n",
    "import numpy as np\n",
    "import matplotlib.pyplot as plt\n",
    "from sklearn.model_selection import train_test_split\n",
    "from sklearn.preprocessing import OneHotEncoder\n",
    "from sklearn.metrics import accuracy_score,classification_report\n",
    "from sklearn.ensemble import RandomForestClassifier\n",
    "from sklearn.model_selection import KFold\n",
    "import pickle\n",
    " "
   ]
  },
  {
   "cell_type": "markdown",
   "metadata": {},
   "source": [
    "## [Disclaimer!](Disclaimer.md) the datasets used in this file in entirely fictional and are not based on any real data. \n",
    "### You the see dataset creation process in the [making_df](making_df.ipynb) file."
   ]
  },
  {
   "cell_type": "code",
   "execution_count": 3,
   "metadata": {},
   "outputs": [
    {
     "data": {
      "text/html": [
       "<div>\n",
       "<style scoped>\n",
       "    .dataframe tbody tr th:only-of-type {\n",
       "        vertical-align: middle;\n",
       "    }\n",
       "\n",
       "    .dataframe tbody tr th {\n",
       "        vertical-align: top;\n",
       "    }\n",
       "\n",
       "    .dataframe thead th {\n",
       "        text-align: right;\n",
       "    }\n",
       "</style>\n",
       "<table border=\"1\" class=\"dataframe\">\n",
       "  <thead>\n",
       "    <tr style=\"text-align: right;\">\n",
       "      <th></th>\n",
       "      <th>Patient ID</th>\n",
       "      <th>Age</th>\n",
       "      <th>Gender</th>\n",
       "      <th>Smoking Status</th>\n",
       "      <th>Disease</th>\n",
       "      <th>Medication Prescribed</th>\n",
       "      <th>Dosage</th>\n",
       "      <th>Frequency</th>\n",
       "    </tr>\n",
       "  </thead>\n",
       "  <tbody>\n",
       "    <tr>\n",
       "      <th>0</th>\n",
       "      <td>1861</td>\n",
       "      <td>89</td>\n",
       "      <td>Female</td>\n",
       "      <td>Non-smoker</td>\n",
       "      <td>URTI</td>\n",
       "      <td>Ibuprofen</td>\n",
       "      <td>400 mg</td>\n",
       "      <td>Every 6 to 8 hours as needed</td>\n",
       "    </tr>\n",
       "    <tr>\n",
       "      <th>1</th>\n",
       "      <td>354</td>\n",
       "      <td>96</td>\n",
       "      <td>Female</td>\n",
       "      <td>Non-smoker</td>\n",
       "      <td>LRTI</td>\n",
       "      <td>Doxycycline</td>\n",
       "      <td>100 mg</td>\n",
       "      <td>Twice daily for 7-14 days</td>\n",
       "    </tr>\n",
       "    <tr>\n",
       "      <th>2</th>\n",
       "      <td>1334</td>\n",
       "      <td>15</td>\n",
       "      <td>Female</td>\n",
       "      <td>Active-smoker</td>\n",
       "      <td>URTI</td>\n",
       "      <td>Ibuprofen</td>\n",
       "      <td>400 mg</td>\n",
       "      <td>Every 6 to 8 hours as needed</td>\n",
       "    </tr>\n",
       "    <tr>\n",
       "      <th>3</th>\n",
       "      <td>906</td>\n",
       "      <td>15</td>\n",
       "      <td>Male</td>\n",
       "      <td>Ex-smoker</td>\n",
       "      <td>URTI</td>\n",
       "      <td>Ibuprofen</td>\n",
       "      <td>400 mg</td>\n",
       "      <td>Every 6 to 8 hours as needed</td>\n",
       "    </tr>\n",
       "    <tr>\n",
       "      <th>4</th>\n",
       "      <td>1290</td>\n",
       "      <td>50</td>\n",
       "      <td>Male</td>\n",
       "      <td>Ex-smoker</td>\n",
       "      <td>COPD</td>\n",
       "      <td>Tiotropium</td>\n",
       "      <td>1 puff (18 mcg)</td>\n",
       "      <td>Once daily</td>\n",
       "    </tr>\n",
       "  </tbody>\n",
       "</table>\n",
       "</div>"
      ],
      "text/plain": [
       "   Patient ID  Age  Gender Smoking Status Disease Medication Prescribed  \\\n",
       "0        1861   89  Female     Non-smoker    URTI             Ibuprofen   \n",
       "1         354   96  Female     Non-smoker    LRTI           Doxycycline   \n",
       "2        1334   15  Female  Active-smoker    URTI             Ibuprofen   \n",
       "3         906   15    Male      Ex-smoker    URTI             Ibuprofen   \n",
       "4        1290   50    Male      Ex-smoker    COPD            Tiotropium   \n",
       "\n",
       "            Dosage                     Frequency  \n",
       "0           400 mg  Every 6 to 8 hours as needed  \n",
       "1           100 mg     Twice daily for 7-14 days  \n",
       "2           400 mg  Every 6 to 8 hours as needed  \n",
       "3           400 mg  Every 6 to 8 hours as needed  \n",
       "4  1 puff (18 mcg)                    Once daily  "
      ]
     },
     "execution_count": 3,
     "metadata": {},
     "output_type": "execute_result"
    }
   ],
   "source": [
    "#We know that our data contains 'N/A' values for Dosage and frequency columns for Bronchiolitis patients, \n",
    "#For our model we will use these values as it is\n",
    "\n",
    "df=pd.read_csv(r'\\Lea!n\\RDM\\Respiratory_Sound_Database\\medicine_prescription.csv',keep_default_na=False)\n",
    "df.head()"
   ]
  },
  {
   "cell_type": "code",
   "execution_count": 4,
   "metadata": {},
   "outputs": [],
   "source": [
    "#create a one hot encoder object\n",
    "encoder=OneHotEncoder()\n",
    "\n",
    "#separate categirical and numerical features\n",
    "categorical_data=df[['Gender','Smoking Status','Disease']]\n",
    "numeric_data=df[['Age']]\n",
    "\n",
    "#encode the categorical data and convert to array\n",
    "categorical_data=encoder.fit_transform(categorical_data).toarray()\n",
    "\n",
    "#combine the numerical and categorical data\n",
    "features = np.hstack([numeric_data, categorical_data])\n",
    "\n",
    "\n",
    "labels=df[['Medication Prescribed','Dosage','Frequency']].values"
   ]
  },
  {
   "cell_type": "code",
   "execution_count": 5,
   "metadata": {},
   "outputs": [
    {
     "data": {
      "text/plain": [
       "array([[89.,  1.,  0., ...,  0.,  0.,  1.],\n",
       "       [96.,  1.,  0., ...,  1.,  0.,  0.],\n",
       "       [15.,  1.,  0., ...,  0.,  0.,  1.],\n",
       "       ...,\n",
       "       [50.,  1.,  0., ...,  0.,  0.,  1.],\n",
       "       [37.,  1.,  0., ...,  0.,  0.,  1.],\n",
       "       [34.,  0.,  1., ...,  0.,  0.,  1.]])"
      ]
     },
     "execution_count": 5,
     "metadata": {},
     "output_type": "execute_result"
    }
   ],
   "source": [
    "features"
   ]
  },
  {
   "cell_type": "code",
   "execution_count": 6,
   "metadata": {},
   "outputs": [],
   "source": [
    "#split the data into training and testing sets\n",
    "X_train, X_test, y_train, y_test = train_test_split(features, labels, test_size=0.2, random_state=28)"
   ]
  },
  {
   "cell_type": "code",
   "execution_count": 7,
   "metadata": {},
   "outputs": [
    {
     "data": {
      "text/plain": [
       "array([['Doxycycline', '100 mg', 'Twice daily for 7-14 days'],\n",
       "       ['Doxycycline', '100 mg', 'Twice daily for 7-14 days'],\n",
       "       ['Fluticasone', '88 mcg', 'Twice daily'],\n",
       "       ...,\n",
       "       ['Amoxicillin', '90 mg/kg/day', 'Divided in 2 doses'],\n",
       "       ['Doxycycline', '100 mg', 'Twice daily for 7-14 days'],\n",
       "       ['Amoxicillin', '500 mg', 'Every 8 hours']], dtype=object)"
      ]
     },
     "execution_count": 7,
     "metadata": {},
     "output_type": "execute_result"
    }
   ],
   "source": [
    "y_test"
   ]
  },
  {
   "cell_type": "code",
   "execution_count": 40,
   "metadata": {},
   "outputs": [],
   "source": [
    "#initialize the model\n",
    "model=RandomForestClassifier(random_state=28)"
   ]
  },
  {
   "cell_type": "code",
   "execution_count": 41,
   "metadata": {},
   "outputs": [
    {
     "data": {
      "text/html": [
       "<style>#sk-container-id-5 {color: black;background-color: white;}#sk-container-id-5 pre{padding: 0;}#sk-container-id-5 div.sk-toggleable {background-color: white;}#sk-container-id-5 label.sk-toggleable__label {cursor: pointer;display: block;width: 100%;margin-bottom: 0;padding: 0.3em;box-sizing: border-box;text-align: center;}#sk-container-id-5 label.sk-toggleable__label-arrow:before {content: \"▸\";float: left;margin-right: 0.25em;color: #696969;}#sk-container-id-5 label.sk-toggleable__label-arrow:hover:before {color: black;}#sk-container-id-5 div.sk-estimator:hover label.sk-toggleable__label-arrow:before {color: black;}#sk-container-id-5 div.sk-toggleable__content {max-height: 0;max-width: 0;overflow: hidden;text-align: left;background-color: #f0f8ff;}#sk-container-id-5 div.sk-toggleable__content pre {margin: 0.2em;color: black;border-radius: 0.25em;background-color: #f0f8ff;}#sk-container-id-5 input.sk-toggleable__control:checked~div.sk-toggleable__content {max-height: 200px;max-width: 100%;overflow: auto;}#sk-container-id-5 input.sk-toggleable__control:checked~label.sk-toggleable__label-arrow:before {content: \"▾\";}#sk-container-id-5 div.sk-estimator input.sk-toggleable__control:checked~label.sk-toggleable__label {background-color: #d4ebff;}#sk-container-id-5 div.sk-label input.sk-toggleable__control:checked~label.sk-toggleable__label {background-color: #d4ebff;}#sk-container-id-5 input.sk-hidden--visually {border: 0;clip: rect(1px 1px 1px 1px);clip: rect(1px, 1px, 1px, 1px);height: 1px;margin: -1px;overflow: hidden;padding: 0;position: absolute;width: 1px;}#sk-container-id-5 div.sk-estimator {font-family: monospace;background-color: #f0f8ff;border: 1px dotted black;border-radius: 0.25em;box-sizing: border-box;margin-bottom: 0.5em;}#sk-container-id-5 div.sk-estimator:hover {background-color: #d4ebff;}#sk-container-id-5 div.sk-parallel-item::after {content: \"\";width: 100%;border-bottom: 1px solid gray;flex-grow: 1;}#sk-container-id-5 div.sk-label:hover label.sk-toggleable__label {background-color: #d4ebff;}#sk-container-id-5 div.sk-serial::before {content: \"\";position: absolute;border-left: 1px solid gray;box-sizing: border-box;top: 0;bottom: 0;left: 50%;z-index: 0;}#sk-container-id-5 div.sk-serial {display: flex;flex-direction: column;align-items: center;background-color: white;padding-right: 0.2em;padding-left: 0.2em;position: relative;}#sk-container-id-5 div.sk-item {position: relative;z-index: 1;}#sk-container-id-5 div.sk-parallel {display: flex;align-items: stretch;justify-content: center;background-color: white;position: relative;}#sk-container-id-5 div.sk-item::before, #sk-container-id-5 div.sk-parallel-item::before {content: \"\";position: absolute;border-left: 1px solid gray;box-sizing: border-box;top: 0;bottom: 0;left: 50%;z-index: -1;}#sk-container-id-5 div.sk-parallel-item {display: flex;flex-direction: column;z-index: 1;position: relative;background-color: white;}#sk-container-id-5 div.sk-parallel-item:first-child::after {align-self: flex-end;width: 50%;}#sk-container-id-5 div.sk-parallel-item:last-child::after {align-self: flex-start;width: 50%;}#sk-container-id-5 div.sk-parallel-item:only-child::after {width: 0;}#sk-container-id-5 div.sk-dashed-wrapped {border: 1px dashed gray;margin: 0 0.4em 0.5em 0.4em;box-sizing: border-box;padding-bottom: 0.4em;background-color: white;}#sk-container-id-5 div.sk-label label {font-family: monospace;font-weight: bold;display: inline-block;line-height: 1.2em;}#sk-container-id-5 div.sk-label-container {text-align: center;}#sk-container-id-5 div.sk-container {/* jupyter's `normalize.less` sets `[hidden] { display: none; }` but bootstrap.min.css set `[hidden] { display: none !important; }` so we also need the `!important` here to be able to override the default hidden behavior on the sphinx rendered scikit-learn.org. See: https://github.com/scikit-learn/scikit-learn/issues/21755 */display: inline-block !important;position: relative;}#sk-container-id-5 div.sk-text-repr-fallback {display: none;}</style><div id=\"sk-container-id-5\" class=\"sk-top-container\"><div class=\"sk-text-repr-fallback\"><pre>RandomForestClassifier(random_state=28)</pre><b>In a Jupyter environment, please rerun this cell to show the HTML representation or trust the notebook. <br />On GitHub, the HTML representation is unable to render, please try loading this page with nbviewer.org.</b></div><div class=\"sk-container\" hidden><div class=\"sk-item\"><div class=\"sk-estimator sk-toggleable\"><input class=\"sk-toggleable__control sk-hidden--visually\" id=\"sk-estimator-id-5\" type=\"checkbox\" checked><label for=\"sk-estimator-id-5\" class=\"sk-toggleable__label sk-toggleable__label-arrow\">RandomForestClassifier</label><div class=\"sk-toggleable__content\"><pre>RandomForestClassifier(random_state=28)</pre></div></div></div></div></div>"
      ],
      "text/plain": [
       "RandomForestClassifier(random_state=28)"
      ]
     },
     "execution_count": 41,
     "metadata": {},
     "output_type": "execute_result"
    }
   ],
   "source": [
    "model.fit(X_train,y_train)"
   ]
  },
  {
   "cell_type": "code",
   "execution_count": 42,
   "metadata": {},
   "outputs": [
    {
     "name": "stdout",
     "output_type": "stream",
     "text": [
      "Accuracy for output 0: 0.995\n",
      "Accuracy for output 1: 0.9775\n",
      "Accuracy for output 2: 0.995\n"
     ]
    }
   ],
   "source": [
    "#evaluate the model\n",
    "y_pred=model.predict(X_test)\n",
    "\n",
    "accuracies = [accuracy_score(y_test[:, i], y_pred[:, i]) for i in range(y_test.shape[1])]\n",
    "\n",
    "for i, accuracy in enumerate(accuracies):\n",
    "    print(f\"Accuracy for output {i}: {accuracy}\")"
   ]
  },
  {
   "cell_type": "markdown",
   "metadata": {},
   "source": [
    "### K_fold validation"
   ]
  },
  {
   "cell_type": "code",
   "execution_count": 9,
   "metadata": {},
   "outputs": [
    {
     "name": "stdout",
     "output_type": "stream",
     "text": [
      "Fold 1:\n",
      "  Accuracy for output 0: 0.9975\n",
      "  Accuracy for output 1: 0.9775\n",
      "  Accuracy for output 2: 0.9925\n",
      "Fold 2:\n",
      "  Accuracy for output 0: 1.0\n",
      "  Accuracy for output 1: 0.9975\n",
      "  Accuracy for output 2: 1.0\n",
      "Fold 3:\n",
      "  Accuracy for output 0: 1.0\n",
      "  Accuracy for output 1: 0.9775\n",
      "  Accuracy for output 2: 0.9825\n",
      "Fold 4:\n",
      "  Accuracy for output 0: 0.9975\n",
      "  Accuracy for output 1: 0.99\n",
      "  Accuracy for output 2: 0.9925\n",
      "Fold 5:\n",
      "  Accuracy for output 0: 0.995\n",
      "  Accuracy for output 1: 0.99\n",
      "  Accuracy for output 2: 0.99\n",
      "Average accuracy for output 0: 0.998\n",
      "Average accuracy for output 1: 0.9865\n",
      "Average accuracy for output 2: 0.9915\n"
     ]
    }
   ],
   "source": [
    "# Initialize the KFold class\n",
    "kfold = KFold(n_splits=5, shuffle=True, random_state=28)\n",
    "\n",
    "# Initialize a list to hold the accuracies for each output and each fold\n",
    "all_accuracies = []\n",
    "\n",
    "# Loop over each split\n",
    "for train_index, val_index in kfold.split(features):\n",
    "    # Split the data into training and validation sets\n",
    "    X_train, X_val = features[train_index], features[val_index]\n",
    "    y_train, y_val = labels[train_index], labels[val_index]\n",
    "\n",
    "    # Initialize and train the model\n",
    "    kmodel = RandomForestClassifier()\n",
    "    kmodel.fit(X_train, y_train)\n",
    "\n",
    "    # Make predictions on the validation set\n",
    "    y_pred = kmodel.predict(X_val)\n",
    "\n",
    "    # Calculate the accuracy for each output\n",
    "    accuracies = [accuracy_score(y_val[:, i], y_pred[:, i]) for i in range(y_val.shape[1])]\n",
    "    all_accuracies.append(accuracies)\n",
    "\n",
    "# Print the accuracy for each output and each fold\n",
    "for i, fold_accuracies in enumerate(all_accuracies):\n",
    "    print(f'Fold {i+1}:')\n",
    "    for j, accuracy in enumerate(fold_accuracies):\n",
    "        print(f'  Accuracy for output {j}: {accuracy}')\n",
    "\n",
    "# Calculate and print the average accuracy for each output\n",
    "avg_accuracies = np.mean(all_accuracies, axis=0)\n",
    "for i, avg_accuracy in enumerate(avg_accuracies):\n",
    "    print(f'Average accuracy for output {i}: {avg_accuracy}')"
   ]
  },
  {
   "cell_type": "code",
   "execution_count": 15,
   "metadata": {},
   "outputs": [
    {
     "data": {
      "image/png": "[encoded data removed]",
      "text/plain": [
       "<Figure size 1200x600 with 1 Axes>"
      ]
     },
     "metadata": {},
     "output_type": "display_data"
    }
   ],
   "source": [
    "# Define the labels for the outputs\n",
    "output_labels = ['Medicine', 'Dosage', 'Frequency']\n",
    "\n",
    "# Define colors for the average accuracy lines\n",
    "colors = ['purple', 'cyan', 'gold']\n",
    "\n",
    "# Create an array with the positions of each bar on the x-axis\n",
    "x = np.arange(len(all_accuracies))\n",
    "\n",
    "# Create a bar chart for each output\n",
    "plt.figure(figsize=(12, 6))\n",
    "for i in range(len(output_labels)):\n",
    "    plt.bar(x - 0.2 + i * 0.2, [acc[i] for acc in all_accuracies], 0.2, label=output_labels[i])\n",
    "    plt.axhline(avg_accuracies[i], color=colors[i], linestyle='dashed', label=f'Average {output_labels[i]}: {avg_accuracies[i]:.2f}')\n",
    "\n",
    "# Add labels and title\n",
    "plt.xlabel('Fold')\n",
    "plt.ylabel('Accuracy')\n",
    "plt.title('Accuracy for Each Output and Fold')\n",
    "plt.xticks(x, [f'Fold {i+1}' for i in range(len(all_accuracies))])\n",
    "\n",
    "# Add a legend\n",
    "plt.legend()\n",
    "\n",
    "# Show the chart\n",
    "plt.show()"
   ]
  },
  {
   "cell_type": "code",
   "execution_count": 44,
   "metadata": {},
   "outputs": [
    {
     "name": "stdout",
     "output_type": "stream",
     "text": [
      "                      precision    recall  f1-score   support\n",
      "\n",
      "           Albuterol       1.00      1.00      1.00        14\n",
      "         Amoxicillin       1.00      1.00      1.00        26\n",
      "        Azithromycin       1.00      1.00      1.00        69\n",
      "          Budesonide       0.92      0.92      0.92        12\n",
      "         Doxycycline       1.00      1.00      1.00        53\n",
      "         Fluticasone       0.98      0.98      0.98        55\n",
      "   Hypertonic saline       1.00      1.00      1.00        14\n",
      "           Ibuprofen       1.00      1.00      1.00        55\n",
      "Supportive care only       1.00      1.00      1.00        53\n",
      "          Tiotropium       1.00      1.00      1.00        49\n",
      "\n",
      "            accuracy                           0.99       400\n",
      "           macro avg       0.99      0.99      0.99       400\n",
      "        weighted avg       0.99      0.99      0.99       400\n",
      "\n",
      "                 precision    recall  f1-score   support\n",
      "\n",
      "         0.5 mg       0.92      0.92      0.92        12\n",
      "0.63 to 1.25 mg       0.83      1.00      0.91         5\n",
      "1 puff (18 mcg)       1.00      1.00      1.00        49\n",
      "       10 mg/kg       0.64      1.00      0.78         7\n",
      "         100 mg       1.00      1.00      1.00        53\n",
      "        2 puffs       1.00      0.89      0.94         9\n",
      "         250 mg       1.00      1.00      1.00        35\n",
      "     4 mL of 7%       1.00      1.00      1.00        14\n",
      "         400 mg       1.00      0.85      0.92        34\n",
      "     400-600 mg       0.93      1.00      0.97        14\n",
      "         500 mg       1.00      0.98      0.99        45\n",
      "         88 mcg       0.98      0.98      0.98        55\n",
      "   90 mg/kg/day       0.94      1.00      0.97        15\n",
      "            N/A       1.00      1.00      1.00        53\n",
      "\n",
      "       accuracy                           0.98       400\n",
      "      macro avg       0.95      0.97      0.95       400\n",
      "   weighted avg       0.98      0.98      0.98       400\n",
      "\n",
      "                              precision    recall  f1-score   support\n",
      "\n",
      "                3 to 4 times       0.83      1.00      0.91         5\n",
      "          Divided in 2 doses       0.94      1.00      0.97        15\n",
      "Every 4 to 6 hours as needed       1.00      0.89      0.94         9\n",
      "Every 6 to 8 hours as needed       1.00      1.00      1.00        55\n",
      "               Every 8 hours       1.00      0.91      0.95        11\n",
      "                         N/A       1.00      1.00      1.00        53\n",
      "                  Once daily       1.00      1.00      1.00        84\n",
      "     Once daily for 3-5 days       1.00      1.00      1.00        34\n",
      "                 Twice daily       1.00      1.00      1.00        81\n",
      "   Twice daily for 7-14 days       1.00      1.00      1.00        53\n",
      "\n",
      "                    accuracy                           0.99       400\n",
      "                   macro avg       0.98      0.98      0.98       400\n",
      "                weighted avg       1.00      0.99      1.00       400\n",
      "\n"
     ]
    }
   ],
   "source": [
    "classification_reports=[classification_report(y_test[:, i], y_pred[:, i]) for i in range(y_test.shape[1])]\n",
    "\n",
    "for report in classification_reports:\n",
    "    print(report)"
   ]
  },
  {
   "cell_type": "code",
   "execution_count": 51,
   "metadata": {},
   "outputs": [],
   "source": [
    "#save the model\n",
    "with open('medication_prescription.pkl', 'wb') as file:\n",
    "    pickle.dump(model, file)"
   ]
  },
  {
   "cell_type": "code",
   "execution_count": 65,
   "metadata": {},
   "outputs": [],
   "source": [
    "with open('medication_prescription.pkl', 'rb') as file:\n",
    "    s_model = pickle.load(file)"
   ]
  },
  {
   "cell_type": "code",
   "execution_count": 67,
   "metadata": {},
   "outputs": [],
   "source": [
    "def predict_medication(user_data):\n",
    "    #convert the user data to a dataframe\n",
    "    user_df=pd.DataFrame([user_data])\n",
    "\n",
    "    #encode the user data\n",
    "    categorical_data=user_df[['Gender','Smoking Status','Disease']]\n",
    "    numeric_data=user_df[['Age']]\n",
    "\n",
    "    categorical_data=encoder.transform(categorical_data).toarray()\n",
    "    features = np.hstack([numeric_data, categorical_data])\n",
    "    prediction=s_model.predict(features)\n",
    "    return prediction"
   ]
  },
  {
   "cell_type": "code",
   "execution_count": 68,
   "metadata": {},
   "outputs": [
    {
     "data": {
      "text/plain": [
       "array([['Tiotropium', '1 puff (18 mcg)', 'Once daily']], dtype=object)"
      ]
     },
     "execution_count": 68,
     "metadata": {},
     "output_type": "execute_result"
    }
   ],
   "source": [
    "user_data={}\n",
    "user_data['Age']=input('Enter the age of the patient: ')\n",
    "user_data['Gender']=input('Enter Gender of the patient: ')\n",
    "user_data['Smoking Status']=input('Enter Smoking Status of the patient: ')\n",
    "user_data['Disease']=input('Enter the Disease of the patient: ')\n",
    "\n",
    "pred=predict_medication(user_data)\n",
    "pred\n"
   ]
  },
  {
   "cell_type": "code",
   "execution_count": 70,
   "metadata": {},
   "outputs": [
    {
     "data": {
      "text/plain": [
       "'Tiotropium'"
      ]
     },
     "execution_count": 70,
     "metadata": {},
     "output_type": "execute_result"
    }
   ],
   "source": [
    "pred[0][0]"
   ]
  }
 ],
 "metadata": {
  "kernelspec": {
   "display_name": "Python 3",
   "language": "python",
   "name": "python3"
  },
  "language_info": {
   "codemirror_mode": {
    "name": "ipython",
    "version": 3
   },
   "file_extension": ".py",
   "mimetype": "text/x-python",
   "name": "python",
   "nbconvert_exporter": "python",
   "pygments_lexer": "ipython3",
   "version": "3.11.1"
  }
 },
 "nbformat": 4,
 "nbformat_minor": 2
}
