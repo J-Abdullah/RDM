{
 "cells": [
  {
   "cell_type": "code",
   "execution_count": 3,
   "metadata": {},
   "outputs": [],
   "source": [
    "import pandas as pd\n",
    "import numpy as np\n",
    "import matplotlib.pyplot as plt\n",
    "import seaborn as sns\n",
    "import glob\n",
    "import os\n",
    "import librosa\n",
    "import soundfile as sf\n",
    "from sklearn.model_selection import train_test_split\n",
    "from sklearn.preprocessing import LabelEncoder\n",
    "from tensorflow.keras.models import Sequential,load_model\n",
    "from tensorflow.keras.layers import LSTM, Dense, Dropout, Conv1D, MaxPooling1D, Input, BatchNormalization\n",
    "from tensorflow.keras.utils import to_categorical\n",
    "from keras_self_attention import SeqSelfAttention \n",
    "from tensorflow.keras.callbacks import EarlyStopping\n",
    "from sklearn.metrics import classification_report\n",
    "from sklearn.metrics import roc_curve, auc\n",
    "from sklearn.preprocessing import label_binarize\n",
    "from itertools import cycle\n",
    "import pickle"
   ]
  },
  {
   "cell_type": "code",
   "execution_count": 2,
   "metadata": {},
   "outputs": [],
   "source": [
    "import warnings\n",
    "warnings.filterwarnings('ignore')"
   ]
  },
  {
   "cell_type": "code",
   "execution_count": 2,
   "metadata": {},
   "outputs": [
    {
     "data": {
      "text/html": [
       "<div>\n",
       "<style scoped>\n",
       "    .dataframe tbody tr th:only-of-type {\n",
       "        vertical-align: middle;\n",
       "    }\n",
       "\n",
       "    .dataframe tbody tr th {\n",
       "        vertical-align: top;\n",
       "    }\n",
       "\n",
       "    .dataframe thead th {\n",
       "        text-align: right;\n",
       "    }\n",
       "</style>\n",
       "<table border=\"1\" class=\"dataframe\">\n",
       "  <thead>\n",
       "    <tr style=\"text-align: right;\">\n",
       "      <th></th>\n",
       "      <th>patient_id</th>\n",
       "      <th>diagnosis</th>\n",
       "      <th>recording_index</th>\n",
       "      <th>chest_location</th>\n",
       "      <th>acquisition_mode</th>\n",
       "      <th>recording_equipment</th>\n",
       "    </tr>\n",
       "  </thead>\n",
       "  <tbody>\n",
       "    <tr>\n",
       "      <th>0</th>\n",
       "      <td>101</td>\n",
       "      <td>URTI</td>\n",
       "      <td>1b1</td>\n",
       "      <td>Al</td>\n",
       "      <td>sc</td>\n",
       "      <td>Meditron</td>\n",
       "    </tr>\n",
       "    <tr>\n",
       "      <th>1</th>\n",
       "      <td>101</td>\n",
       "      <td>URTI</td>\n",
       "      <td>1b1</td>\n",
       "      <td>Pr</td>\n",
       "      <td>sc</td>\n",
       "      <td>Meditron</td>\n",
       "    </tr>\n",
       "    <tr>\n",
       "      <th>2</th>\n",
       "      <td>102</td>\n",
       "      <td>Healthy</td>\n",
       "      <td>1b1</td>\n",
       "      <td>Ar</td>\n",
       "      <td>sc</td>\n",
       "      <td>Meditron</td>\n",
       "    </tr>\n",
       "    <tr>\n",
       "      <th>3</th>\n",
       "      <td>103</td>\n",
       "      <td>Asthma</td>\n",
       "      <td>2b2</td>\n",
       "      <td>Ar</td>\n",
       "      <td>mc</td>\n",
       "      <td>LittC2SE</td>\n",
       "    </tr>\n",
       "    <tr>\n",
       "      <th>4</th>\n",
       "      <td>104</td>\n",
       "      <td>COPD</td>\n",
       "      <td>1b1</td>\n",
       "      <td>Al</td>\n",
       "      <td>sc</td>\n",
       "      <td>Litt3200</td>\n",
       "    </tr>\n",
       "  </tbody>\n",
       "</table>\n",
       "</div>"
      ],
      "text/plain": [
       "   patient_id diagnosis recording_index chest_location acquisition_mode  \\\n",
       "0         101      URTI             1b1             Al               sc   \n",
       "1         101      URTI             1b1             Pr               sc   \n",
       "2         102   Healthy             1b1             Ar               sc   \n",
       "3         103    Asthma             2b2             Ar               mc   \n",
       "4         104      COPD             1b1             Al               sc   \n",
       "\n",
       "  recording_equipment  \n",
       "0            Meditron  \n",
       "1            Meditron  \n",
       "2            Meditron  \n",
       "3            LittC2SE  \n",
       "4            Litt3200  "
      ]
     },
     "execution_count": 2,
     "metadata": {},
     "output_type": "execute_result"
    }
   ],
   "source": [
    "df=pd.read_csv(r'Respiratory_Sound_Database\\diagnosis_details.csv')\n",
    "df.head()"
   ]
  },
  {
   "cell_type": "code",
   "execution_count": 3,
   "metadata": {},
   "outputs": [
    {
     "data": {
      "text/plain": [
       "patient_id             0\n",
       "diagnosis              0\n",
       "recording_index        0\n",
       "chest_location         0\n",
       "acquisition_mode       0\n",
       "recording_equipment    0\n",
       "dtype: int64"
      ]
     },
     "execution_count": 3,
     "metadata": {},
     "output_type": "execute_result"
    }
   ],
   "source": [
    "df.isnull().sum()"
   ]
  },
  {
   "cell_type": "code",
   "execution_count": 4,
   "metadata": {},
   "outputs": [
    {
     "name": "stdout",
     "output_type": "stream",
     "text": [
      "<class 'pandas.core.frame.DataFrame'>\n",
      "RangeIndex: 920 entries, 0 to 919\n",
      "Data columns (total 6 columns):\n",
      " #   Column               Non-Null Count  Dtype \n",
      "---  ------               --------------  ----- \n",
      " 0   patient_id           920 non-null    int64 \n",
      " 1   diagnosis            920 non-null    object\n",
      " 2   recording_index      920 non-null    object\n",
      " 3   chest_location       920 non-null    object\n",
      " 4   acquisition_mode     920 non-null    object\n",
      " 5   recording_equipment  920 non-null    object\n",
      "dtypes: int64(1), object(5)\n",
      "memory usage: 43.2+ KB\n"
     ]
    }
   ],
   "source": [
    "df.info()"
   ]
  },
  {
   "cell_type": "code",
   "execution_count": 6,
   "metadata": {},
   "outputs": [
    {
     "data": {
      "text/html": [
       "<div>\n",
       "<style scoped>\n",
       "    .dataframe tbody tr th:only-of-type {\n",
       "        vertical-align: middle;\n",
       "    }\n",
       "\n",
       "    .dataframe tbody tr th {\n",
       "        vertical-align: top;\n",
       "    }\n",
       "\n",
       "    .dataframe thead th {\n",
       "        text-align: right;\n",
       "    }\n",
       "</style>\n",
       "<table border=\"1\" class=\"dataframe\">\n",
       "  <thead>\n",
       "    <tr style=\"text-align: right;\">\n",
       "      <th></th>\n",
       "      <th>patient_id</th>\n",
       "      <th>diagnosis</th>\n",
       "    </tr>\n",
       "  </thead>\n",
       "  <tbody>\n",
       "    <tr>\n",
       "      <th>0</th>\n",
       "      <td>101</td>\n",
       "      <td>URTI</td>\n",
       "    </tr>\n",
       "  </tbody>\n",
       "</table>\n",
       "</div>"
      ],
      "text/plain": [
       "   patient_id diagnosis\n",
       "0         101      URTI"
      ]
     },
     "execution_count": 6,
     "metadata": {},
     "output_type": "execute_result"
    }
   ],
   "source": [
    "#for prediction we only need first wo columns\n",
    "df=df.iloc[:,:2]\n",
    "df.head(1)"
   ]
  },
  {
   "cell_type": "code",
   "execution_count": 7,
   "metadata": {},
   "outputs": [
    {
     "data": {
      "text/plain": [
       "COPD              793\n",
       "Pneumonia          37\n",
       "Healthy            35\n",
       "URTI               23\n",
       "Bronchiectasis     16\n",
       "Bronchiolitis      13\n",
       "LRTI                2\n",
       "Asthma              1\n",
       "Name: diagnosis, dtype: int64"
      ]
     },
     "execution_count": 7,
     "metadata": {},
     "output_type": "execute_result"
    }
   ],
   "source": [
    "count=df['diagnosis'].value_counts()\n",
    "count"
   ]
  },
  {
   "cell_type": "code",
   "execution_count": 8,
   "metadata": {},
   "outputs": [
    {
     "data": {
      "text/plain": [
       "(array([0, 1, 2, 3, 4, 5, 6, 7]),\n",
       " [Text(0, 0, 'COPD'),\n",
       "  Text(1, 0, 'Pneumonia'),\n",
       "  Text(2, 0, 'Healthy'),\n",
       "  Text(3, 0, 'URTI'),\n",
       "  Text(4, 0, 'Bronchiectasis'),\n",
       "  Text(5, 0, 'Bronchiolitis'),\n",
       "  Text(6, 0, 'LRTI'),\n",
       "  Text(7, 0, 'Asthma')])"
      ]
     },
     "execution_count": 8,
     "metadata": {},
     "output_type": "execute_result"
    },
    {
     "data": {
      "image/png": "[encoded data removed]",
      "text/plain": [
       "<Figure size 640x480 with 1 Axes>"
      ]
     },
     "metadata": {},
     "output_type": "display_data"
    }
   ],
   "source": [
    "#we have to deal with the imbalance in our dataset\n",
    "sns.countplot(x='diagnosis',data=df,order=count.index)\n",
    "plt.xticks(rotation=45)"
   ]
  },
  {
   "cell_type": "code",
   "execution_count": 5,
   "metadata": {},
   "outputs": [
    {
     "name": "stdout",
     "output_type": "stream",
     "text": [
      "101\n"
     ]
    }
   ],
   "source": [
    "audio_files=glob.glob(r'Respiratory_Sound_Database\\audio_and_txt_files\\*.wav')\n",
    "print(os.path.basename(audio_files[0]).split('_')[0])"
   ]
  },
  {
   "cell_type": "code",
   "execution_count": 10,
   "metadata": {},
   "outputs": [
    {
     "name": "stdout",
     "output_type": "stream",
     "text": [
      "Respiratory_Sound_Database\\audio_and_txt_files\\101_1b1_Al_sc_Meditron_aug_4.wav\n"
     ]
    }
   ],
   "source": [
    "#new_file_name = f\"{os.path.splitext(audio_files[0])[0]}_aug_{np.random.randint(1000)}{os.path.splitext(audio_files[0])[1]}\"\n",
    "new_file_name=f\"{os.path.splitext(audio_files[0])[0]}_aug_{4}{os.path.splitext(audio_files[0])[1]}\"\n",
    "print(new_file_name)"
   ]
  },
  {
   "cell_type": "markdown",
   "metadata": {},
   "source": [
    "## Data Augmantation"
   ]
  },
  {
   "cell_type": "code",
   "execution_count": 11,
   "metadata": {},
   "outputs": [],
   "source": [
    "# we will apply four types of augmentation techniques\n",
    "def add_noise(data,noise_level=0.005):\n",
    "    noise=np.random.random(len(data))\n",
    "    augmented_data=data+noise*noise_level\n",
    "    #Cast baskc data to the same data type\n",
    "    augmented_data=augmented_data.astype(type(data[0]))\n",
    "    return augmented_data\n",
    "\n",
    "\n",
    "def stretch(data,r=1.5):\n",
    "    return librosa.effects.time_stretch(data,rate=r)\n",
    "\n",
    "\n",
    "def change_pitch(data,sample_rate,semitones=2):\n",
    "    return librosa.effects.pitch_shift(data,sr=sample_rate,n_steps=semitones)\n",
    "\n",
    "def change_volume(data,factor=0.5):\n",
    "    return data*factor"
   ]
  },
  {
   "cell_type": "code",
   "execution_count": null,
   "metadata": {},
   "outputs": [],
   "source": [
    "# augmentations = np.random.choice(['noise', 'stretch', 'pitch', 'volume'], size=2, replace=False)\n",
    "# augmentations\n",
    "augmentation_multipliers = {cls: int(np.ceil(target_samples / count)) for cls, count in class_distribution.items()}\n",
    "augmentation_multipliers"
   ]
  },
  {
   "cell_type": "code",
   "execution_count": 12,
   "metadata": {},
   "outputs": [
    {
     "data": {
      "text/plain": [
       "{'COPD': 1,\n",
       " 'Pneumonia': 22,\n",
       " 'Healthy': 23,\n",
       " 'URTI': 35,\n",
       " 'Bronchiectasis': 50,\n",
       " 'Bronchiolitis': 61,\n",
       " 'LRTI': 397,\n",
       " 'Asthma': 793}"
      ]
     },
     "execution_count": 12,
     "metadata": {},
     "output_type": "execute_result"
    }
   ],
   "source": [
    "class_distribution=count.to_dict()\n",
    "\n",
    "#target number of samples for each class\n",
    "target_samples=max(class_distribution.values())\n",
    "\n",
    "#calculate the number of samples to add for each class\n",
    "augmentation_multipliers={cls: int(np.ceil(target_samples / count)) for cls, count in class_distribution.items()}\n",
    "#augrmantation_factor={k:target_samples-v for k,v in class_distribution.items()}\n",
    "augmentation_multipliers"
   ]
  },
  {
   "cell_type": "code",
   "execution_count": 13,
   "metadata": {},
   "outputs": [],
   "source": [
    "#function to augment the data\n",
    "def augment_data(file_path,augmentations):\n",
    "    y,sr=librosa.load(file_path,sr=None)\n",
    "    augmented_data=y\n",
    "    for augmentation in augmentations:\n",
    "        if augmentation=='noise':\n",
    "            augmented_data=add_noise(augmented_data)\n",
    "        if augmentation=='stretch':\n",
    "            augmented_data=stretch(augmented_data)\n",
    "        if augmentation=='pitch':\n",
    "            augmented_data=change_pitch(augmented_data,sr)\n",
    "        if augmentation=='volume':\n",
    "            augmented_data=change_volume(augmented_data)\n",
    "    return augmented_data,sr"
   ]
  },
  {
   "cell_type": "code",
   "execution_count": 2,
   "metadata": {},
   "outputs": [
    {
     "ename": "NameError",
     "evalue": "name 'pd' is not defined",
     "output_type": "error",
     "traceback": [
      "\u001b[1;31m---------------------------------------------------------------------------\u001b[0m",
      "\u001b[1;31mNameError\u001b[0m                                 Traceback (most recent call last)",
      "Cell \u001b[1;32mIn[2], line 1\u001b[0m\n\u001b[1;32m----> 1\u001b[0m df2\u001b[38;5;241m=\u001b[39m\u001b[43mpd\u001b[49m\u001b[38;5;241m.\u001b[39mread_csv(\u001b[38;5;124mr\u001b[39m\u001b[38;5;124m'\u001b[39m\u001b[38;5;124mRespiratory_Sound_Database\u001b[39m\u001b[38;5;124m\\\u001b[39m\u001b[38;5;124mpatient_diagnosis.csv\u001b[39m\u001b[38;5;124m'\u001b[39m,names\u001b[38;5;241m=\u001b[39m[\u001b[38;5;124m'\u001b[39m\u001b[38;5;124mpatient_id\u001b[39m\u001b[38;5;124m'\u001b[39m,\u001b[38;5;124m'\u001b[39m\u001b[38;5;124mdiagnosis\u001b[39m\u001b[38;5;124m'\u001b[39m])\n\u001b[0;32m      2\u001b[0m df2\u001b[38;5;241m.\u001b[39mhead()\n",
      "\u001b[1;31mNameError\u001b[0m: name 'pd' is not defined"
     ]
    }
   ],
   "source": [
    "df2=pd.read_csv(r'Respiratory_Sound_Database\\patient_diagnosis.csv',names=['patient_id','diagnosis'])\n",
    "df2.head()"
   ]
  },
  {
   "cell_type": "code",
   "execution_count": 15,
   "metadata": {},
   "outputs": [
    {
     "data": {
      "text/plain": [
       "(array([ 0.04259979,  0.04973283,  0.04669041, ..., -0.01506342,\n",
       "        -0.01344411, -0.01644927], dtype=float32),\n",
       " 44100)"
      ]
     },
     "execution_count": 15,
     "metadata": {},
     "output_type": "execute_result"
    }
   ],
   "source": [
    "new_data = augment_data(audio_files[0], ['pitch', 'volume'])\n",
    "new_data\n"
   ]
  },
  {
   "cell_type": "code",
   "execution_count": 16,
   "metadata": {},
   "outputs": [],
   "source": [
    "#creating new files with augmented data\n",
    "def augment_and_label_audio(file_path,df,augmentation_multipliers):\n",
    "    for f in audio_files:\n",
    "        patient_id=os.path.basename(f).split('_')[0]\n",
    "        diagnosis=df[df['patient_id']==int(patient_id)]['diagnosis'].values[0]\n",
    "        if(diagnosis!='COPD'):\n",
    "            multiplier=augmentation_multipliers[diagnosis]\n",
    "            \n",
    "            for i in range(multiplier):\n",
    "                augmentation=np.random.choice(['noise','stretch','pitch','volume'],size=2,replace=False)\n",
    "                new_data,sr=augment_data(f,augmentation)\n",
    "                new_file_name=f\"{os.path.splitext(f)[0]}_aug_{i}{os.path.splitext(f)[1]}\"\n",
    "                sf.write(new_file_name,new_data,sr)\n",
    "        "
   ]
  },
  {
   "cell_type": "code",
   "execution_count": 58,
   "metadata": {},
   "outputs": [],
   "source": [
    "#augment_and_label_audio(audio_files,df2,augmentation_multipliers)"
   ]
  },
  {
   "cell_type": "code",
   "execution_count": 19,
   "metadata": {},
   "outputs": [
    {
     "data": {
      "image/png": "[encoded data removed]",
      "text/plain": [
       "<Figure size 640x480 with 1 Axes>"
      ]
     },
     "metadata": {},
     "output_type": "display_data"
    }
   ],
   "source": [
    "#checking values in new data\n",
    "audio_files2=glob.glob(r'Respiratory_Sound_Database\\audio_and_txt_files\\*.wav')\n",
    "labels2=[]\n",
    "max_pad_len=926\n",
    "for i in audio_files2:\n",
    "    labels2.append(extract_label(i,df2))\n",
    "labels2_series = pd.Series(labels2)\n",
    "sns.countplot(x=labels2_series, order=labels2_series.value_counts().index)\n",
    "plt.xticks(rotation=45)\n",
    "plt.show()"
   ]
  },
  {
   "cell_type": "markdown",
   "metadata": {},
   "source": [
    "## Feature extraction"
   ]
  },
  {
   "cell_type": "code",
   "execution_count": 1,
   "metadata": {},
   "outputs": [],
   "source": [
    "#function for extracting class labels\n",
    "def extract_label(file,df):\n",
    "    id=os.path.basename(file).split('_')[0]\n",
    "    label=df[df['patient_id']==int(id)]['diagnosis'].values[0]\n",
    "    return label\n",
    "\n",
    "\n",
    "#function for extracting mfcc features\n",
    "def feature_extraction(file,max_pad_len=926,n_features=52):\n",
    "# Load the .wav file\n",
    "    audio, sample_rate = librosa.load(file)\n",
    "    # Extract the MFCC features\n",
    "    mfccs = librosa.feature.mfcc(y=audio, sr=sample_rate,n_mfcc=n_features)\n",
    "    \n",
    "    # If the array is shorter than max_pad_len, pad it with zeros\n",
    "    if (mfccs.shape[1] < max_pad_len):\n",
    "        pad_width = max_pad_len - mfccs.shape[1]\n",
    "        mfccs = np.pad(mfccs, pad_width=((0, 0), (0, pad_width)), mode='constant')\n",
    "    \n",
    "    # If the array is longer than max_pad_len, truncate it\n",
    "    elif (mfccs.shape[1] > max_pad_len):\n",
    "        mfccs = mfccs[:, :max_pad_len]\n",
    "        \n",
    "    return mfccs\n"
   ]
  },
  {
   "cell_type": "code",
   "execution_count": 30,
   "metadata": {},
   "outputs": [],
   "source": [
    "mfccs_features=[]\n",
    "length=[]\n",
    "labels=[]\n",
    "max_pad_len=926\n",
    "for i in audio_files2:\n",
    "    mfccs=feature_extraction(i,max_pad_len,52)\n",
    "    mfccs_features.append(mfccs)\n",
    "    labels.append(extract_label(i,df2))\n",
    "    length.append(mfccs.shape[1])"
   ]
  },
  {
   "cell_type": "code",
   "execution_count": 22,
   "metadata": {},
   "outputs": [
    {
     "name": "stdout",
     "output_type": "stream",
     "text": [
      "max length is 926 min length is 926 average length is 926.0\n"
     ]
    }
   ],
   "source": [
    "#check length size of mfccs_features\n",
    "print(f'max length is {max(length)} min length is {min(length)} average length is {np.mean(length)}')\n",
    "#max length is 3713 min length is 339 average length is 926.2423913043478\n",
    "#we will pad the mfccs_features to 926"
   ]
  },
  {
   "cell_type": "code",
   "execution_count": 34,
   "metadata": {},
   "outputs": [
    {
     "data": {
      "text/plain": [
       "array(['URTI', 'URTI', 'URTI', ..., 'Pneumonia', 'Pneumonia', 'Pneumonia'],\n",
       "      dtype='<U14')"
      ]
     },
     "execution_count": 34,
     "metadata": {},
     "output_type": "execute_result"
    }
   ],
   "source": [
    "labels "
   ]
  },
  {
   "cell_type": "code",
   "execution_count": 33,
   "metadata": {},
   "outputs": [
    {
     "name": "stdout",
     "output_type": "stream",
     "text": [
      "(6524,)\n"
     ]
    }
   ],
   "source": [
    "#converting fatures and labels to numpy arrays\n",
    "mfccs_features=np.array(mfccs_features)\n",
    "labels=np.array(labels)\n",
    "#print(mfccs_features.shape)\n",
    "print(labels.shape)\n"
   ]
  },
  {
   "cell_type": "code",
   "execution_count": 35,
   "metadata": {},
   "outputs": [
    {
     "data": {
      "text/plain": [
       "array([7, 7, 7, ..., 6, 6, 6], dtype=int64)"
      ]
     },
     "execution_count": 35,
     "metadata": {},
     "output_type": "execute_result"
    }
   ],
   "source": [
    "label_encoder=LabelEncoder()\n",
    "label_encoder.fit_transform(labels)"
   ]
  },
  {
   "cell_type": "markdown",
   "metadata": {},
   "source": [
    "### Model "
   ]
  },
  {
   "cell_type": "code",
   "execution_count": 24,
   "metadata": {},
   "outputs": [
    {
     "data": {
      "text/plain": [
       "array([[0., 0., 0., ..., 0., 0., 1.],\n",
       "       [0., 0., 0., ..., 0., 0., 1.],\n",
       "       [0., 0., 0., ..., 0., 0., 1.],\n",
       "       ...,\n",
       "       [0., 0., 0., ..., 0., 1., 0.],\n",
       "       [0., 0., 0., ..., 0., 1., 0.],\n",
       "       [0., 0., 0., ..., 0., 1., 0.]], dtype=float32)"
      ]
     },
     "execution_count": 24,
     "metadata": {},
     "output_type": "execute_result"
    }
   ],
   "source": [
    "#encoding the labels\n",
    "label_encoder=LabelEncoder()\n",
    "labels=label_encoder.fit_transform(labels)\n",
    "one_hot_labels=to_categorical(labels,num_classes=8)\n",
    "one_hot_labels\n"
   ]
  },
  {
   "cell_type": "code",
   "execution_count": 24,
   "metadata": {},
   "outputs": [
    {
     "name": "stdout",
     "output_type": "stream",
     "text": [
      "Model: \"sequential\"\n",
      "_________________________________________________________________\n",
      " Layer (type)                Output Shape              Param #   \n",
      "=================================================================\n",
      " conv1d (Conv1D)             (None, 52, 64)            296384    \n",
      "                                                                 \n",
      " batch_normalization (BatchN  (None, 52, 64)           256       \n",
      " ormalization)                                                   \n",
      "                                                                 \n",
      " max_pooling1d (MaxPooling1D  (None, 26, 64)           0         \n",
      " )                                                               \n",
      "                                                                 \n",
      " conv1d_1 (Conv1D)           (None, 26, 128)           24704     \n",
      "                                                                 \n",
      " batch_normalization_1 (Batc  (None, 26, 128)          512       \n",
      " hNormalization)                                                 \n",
      "                                                                 \n",
      " max_pooling1d_1 (MaxPooling  (None, 13, 128)          0         \n",
      " 1D)                                                             \n",
      "                                                                 \n",
      " lstm (LSTM)                 (None, 13, 128)           131584    \n",
      "                                                                 \n",
      " dropout (Dropout)           (None, 13, 128)           0         \n",
      "                                                                 \n",
      " seq_self_attention (SeqSelf  (None, 13, 128)          8257      \n",
      " Attention)                                                      \n",
      "                                                                 \n",
      " lstm_1 (LSTM)               (None, 128)               131584    \n",
      "                                                                 \n",
      " dropout_1 (Dropout)         (None, 128)               0         \n",
      "                                                                 \n",
      " dense (Dense)               (None, 128)               16512     \n",
      "                                                                 \n",
      " dropout_2 (Dropout)         (None, 128)               0         \n",
      "                                                                 \n",
      " dense_1 (Dense)             (None, 64)                8256      \n",
      "                                                                 \n",
      " dropout_3 (Dropout)         (None, 64)                0         \n",
      "                                                                 \n",
      " dense_2 (Dense)             (None, 8)                 520       \n",
      "                                                                 \n",
      "=================================================================\n",
      "Total params: 618,569\n",
      "Trainable params: 618,185\n",
      "Non-trainable params: 384\n",
      "_________________________________________________________________\n"
     ]
    }
   ],
   "source": [
    "#creating model usign LSTM and attention cnn\n",
    "model=Sequential([\n",
    "    Input(shape=(52,926)),\n",
    "    \n",
    "    Conv1D(64,5,padding='same',activation='relu'),\n",
    "    BatchNormalization(),\n",
    "    MaxPooling1D(pool_size=2),\n",
    "    \n",
    "    Conv1D(128,3,padding='same',activation='relu'),\n",
    "    BatchNormalization(),\n",
    "    MaxPooling1D(pool_size=2),\n",
    "    \n",
    "    # LSTM layers with return_sequences=True to keep temporal dimension\n",
    "    LSTM(128, return_sequences=True),\n",
    "    Dropout(0.5),\n",
    "    \n",
    "    # Attention Layer\n",
    "    SeqSelfAttention(attention_activation='sigmoid'),\n",
    "    \n",
    "    # Additional LSTM Layer\n",
    "    LSTM(128),\n",
    "    Dropout(0.5),\n",
    "    \n",
    "    # Dense Layers for Classification\n",
    "    Dense(128, activation='relu'),\n",
    "    Dropout(0.5),\n",
    "    Dense(64, activation='relu'),\n",
    "    Dropout(0.5),\n",
    "    Dense(8, activation='softmax')\n",
    "])\n",
    "\n",
    "model.compile(optimizer='adam', loss='categorical_crossentropy', metrics=['accuracy'])\n",
    "\n",
    "model.summary()"
   ]
  },
  {
   "cell_type": "code",
   "execution_count": 28,
   "metadata": {},
   "outputs": [],
   "source": [
    "# Split the dataset into training, validation, and test sets\n",
    "X_train,X_test,y_train,y_test=train_test_split(mfccs_features,one_hot_labels,test_size=0.2,random_state=28)\n",
    "\n",
    "#early stopping to prevent overfitting\n",
    "early_stopping=EarlyStopping(monitor='val_loss',patience=10,restore_best_weights=True)"
   ]
  },
  {
   "cell_type": "code",
   "execution_count": 29,
   "metadata": {},
   "outputs": [
    {
     "name": "stdout",
     "output_type": "stream",
     "text": [
      "Epoch 1/100\n",
      "131/131 [==============================] - 29s 117ms/step - loss: 1.8033 - accuracy: 0.2862 - val_loss: 1.5516 - val_accuracy: 0.3333\n",
      "Epoch 2/100\n",
      "131/131 [==============================] - 12s 93ms/step - loss: 1.2776 - accuracy: 0.4929 - val_loss: 1.5184 - val_accuracy: 0.4406\n",
      "Epoch 3/100\n",
      "131/131 [==============================] - 13s 99ms/step - loss: 1.0611 - accuracy: 0.5837 - val_loss: 1.2230 - val_accuracy: 0.5326\n",
      "Epoch 4/100\n",
      "131/131 [==============================] - 14s 105ms/step - loss: 0.8378 - accuracy: 0.6649 - val_loss: 1.4197 - val_accuracy: 0.5354\n",
      "Epoch 5/100\n",
      "131/131 [==============================] - 16s 119ms/step - loss: 0.6672 - accuracy: 0.7368 - val_loss: 1.7946 - val_accuracy: 0.5517\n",
      "Epoch 6/100\n",
      "131/131 [==============================] - 17s 131ms/step - loss: 0.5067 - accuracy: 0.7976 - val_loss: 2.6088 - val_accuracy: 0.4713\n",
      "Epoch 7/100\n",
      "131/131 [==============================] - 21s 157ms/step - loss: 0.4124 - accuracy: 0.8237 - val_loss: 0.8976 - val_accuracy: 0.7031\n",
      "Epoch 8/100\n",
      "131/131 [==============================] - 21s 162ms/step - loss: 0.3651 - accuracy: 0.8302 - val_loss: 0.3343 - val_accuracy: 0.8352\n",
      "Epoch 9/100\n",
      "131/131 [==============================] - 26s 202ms/step - loss: 0.3150 - accuracy: 0.8472 - val_loss: 0.3216 - val_accuracy: 0.8410\n",
      "Epoch 10/100\n",
      "131/131 [==============================] - 27s 209ms/step - loss: 0.2806 - accuracy: 0.8522 - val_loss: 1.2730 - val_accuracy: 0.6954\n",
      "Epoch 11/100\n",
      "131/131 [==============================] - 26s 201ms/step - loss: 0.3026 - accuracy: 0.8465 - val_loss: 0.2601 - val_accuracy: 0.8621\n",
      "Epoch 12/100\n",
      "131/131 [==============================] - 34s 256ms/step - loss: 0.3809 - accuracy: 0.8366 - val_loss: 0.6936 - val_accuracy: 0.7854\n",
      "Epoch 13/100\n",
      "131/131 [==============================] - 20s 152ms/step - loss: 0.2659 - accuracy: 0.8522 - val_loss: 0.5367 - val_accuracy: 0.7835\n",
      "Epoch 14/100\n",
      "131/131 [==============================] - 25s 192ms/step - loss: 0.2838 - accuracy: 0.8541 - val_loss: 0.2261 - val_accuracy: 0.8630\n",
      "Epoch 15/100\n",
      "131/131 [==============================] - 23s 172ms/step - loss: 0.2320 - accuracy: 0.8577 - val_loss: 0.3983 - val_accuracy: 0.8391\n",
      "Epoch 16/100\n",
      "131/131 [==============================] - 22s 166ms/step - loss: 0.2222 - accuracy: 0.8699 - val_loss: 0.2382 - val_accuracy: 0.8534\n",
      "Epoch 17/100\n",
      "131/131 [==============================] - 22s 164ms/step - loss: 0.2778 - accuracy: 0.8620 - val_loss: 0.4716 - val_accuracy: 0.8132\n",
      "Epoch 18/100\n",
      "131/131 [==============================] - 23s 172ms/step - loss: 0.2411 - accuracy: 0.8663 - val_loss: 0.6329 - val_accuracy: 0.8362\n",
      "Epoch 19/100\n",
      "131/131 [==============================] - 22s 168ms/step - loss: 0.2334 - accuracy: 0.8685 - val_loss: 0.6201 - val_accuracy: 0.8477\n",
      "Epoch 20/100\n",
      "131/131 [==============================] - 21s 160ms/step - loss: 0.2317 - accuracy: 0.8637 - val_loss: 0.2124 - val_accuracy: 0.8678\n",
      "Epoch 21/100\n",
      "131/131 [==============================] - 22s 165ms/step - loss: 0.2193 - accuracy: 0.8695 - val_loss: 0.2062 - val_accuracy: 0.8898\n",
      "Epoch 22/100\n",
      "131/131 [==============================] - 24s 182ms/step - loss: 0.1949 - accuracy: 0.8762 - val_loss: 0.1918 - val_accuracy: 0.9100\n",
      "Epoch 23/100\n",
      "131/131 [==============================] - 21s 160ms/step - loss: 0.1994 - accuracy: 0.8896 - val_loss: 6.3271 - val_accuracy: 0.5172\n",
      "Epoch 24/100\n",
      "131/131 [==============================] - 21s 159ms/step - loss: 0.2286 - accuracy: 0.8857 - val_loss: 1.6843 - val_accuracy: 0.7222\n",
      "Epoch 25/100\n",
      "131/131 [==============================] - 22s 167ms/step - loss: 0.2359 - accuracy: 0.8968 - val_loss: 1.9731 - val_accuracy: 0.6408\n",
      "Epoch 26/100\n",
      "131/131 [==============================] - 21s 159ms/step - loss: 0.2847 - accuracy: 0.8944 - val_loss: 0.2597 - val_accuracy: 0.9100\n",
      "Epoch 27/100\n",
      "131/131 [==============================] - 21s 157ms/step - loss: 0.2223 - accuracy: 0.9037 - val_loss: 0.2050 - val_accuracy: 0.9157\n",
      "Epoch 28/100\n",
      "131/131 [==============================] - 20s 156ms/step - loss: 0.1637 - accuracy: 0.9442 - val_loss: 0.2344 - val_accuracy: 0.9128\n",
      "Epoch 29/100\n",
      "131/131 [==============================] - 21s 161ms/step - loss: 0.2050 - accuracy: 0.9358 - val_loss: 0.5063 - val_accuracy: 0.8420\n",
      "Epoch 30/100\n",
      "131/131 [==============================] - 21s 157ms/step - loss: 0.0969 - accuracy: 0.9751 - val_loss: 0.3249 - val_accuracy: 0.9080\n",
      "Epoch 31/100\n",
      "131/131 [==============================] - 21s 160ms/step - loss: 0.0871 - accuracy: 0.9794 - val_loss: 0.1797 - val_accuracy: 0.9464\n",
      "Epoch 32/100\n",
      "131/131 [==============================] - 22s 165ms/step - loss: 0.0706 - accuracy: 0.9828 - val_loss: 0.3229 - val_accuracy: 0.9042\n",
      "Epoch 33/100\n",
      "131/131 [==============================] - 25s 190ms/step - loss: 0.0837 - accuracy: 0.9765 - val_loss: 0.0973 - val_accuracy: 0.9780\n",
      "Epoch 34/100\n",
      "131/131 [==============================] - 21s 159ms/step - loss: 0.0379 - accuracy: 0.9907 - val_loss: 0.0272 - val_accuracy: 0.9933\n",
      "Epoch 35/100\n",
      "131/131 [==============================] - 20s 155ms/step - loss: 0.0286 - accuracy: 0.9923 - val_loss: 0.0623 - val_accuracy: 0.9885\n",
      "Epoch 36/100\n",
      "131/131 [==============================] - 23s 172ms/step - loss: 0.1084 - accuracy: 0.9777 - val_loss: 1.4114 - val_accuracy: 0.7682\n",
      "Epoch 37/100\n",
      "131/131 [==============================] - 20s 153ms/step - loss: 0.0462 - accuracy: 0.9904 - val_loss: 0.1129 - val_accuracy: 0.9789\n",
      "Epoch 38/100\n",
      "131/131 [==============================] - 19s 142ms/step - loss: 0.0391 - accuracy: 0.9911 - val_loss: 0.2876 - val_accuracy: 0.9416\n",
      "Epoch 39/100\n",
      "131/131 [==============================] - 15s 111ms/step - loss: 0.2971 - accuracy: 0.9325 - val_loss: 0.3719 - val_accuracy: 0.8918\n",
      "Epoch 40/100\n",
      "131/131 [==============================] - 17s 126ms/step - loss: 0.0843 - accuracy: 0.9808 - val_loss: 0.2436 - val_accuracy: 0.9157\n",
      "Epoch 41/100\n",
      "131/131 [==============================] - 15s 115ms/step - loss: 0.0735 - accuracy: 0.9832 - val_loss: 0.0594 - val_accuracy: 0.9837\n",
      "Epoch 42/100\n",
      "131/131 [==============================] - 15s 113ms/step - loss: 0.0343 - accuracy: 0.9911 - val_loss: 0.0301 - val_accuracy: 0.9943\n",
      "Epoch 43/100\n",
      "131/131 [==============================] - 15s 113ms/step - loss: 0.0331 - accuracy: 0.9935 - val_loss: 0.1041 - val_accuracy: 0.9799\n",
      "Epoch 44/100\n",
      "131/131 [==============================] - 20s 150ms/step - loss: 0.0487 - accuracy: 0.9904 - val_loss: 0.0473 - val_accuracy: 0.9847\n"
     ]
    }
   ],
   "source": [
    "history=model.fit(\n",
    "    X_train,y_train,\n",
    "    epochs=100,\n",
    "    batch_size=32,\n",
    "    validation_split=0.2,\n",
    "    callbacks=[early_stopping]\n",
    "    )"
   ]
  },
  {
   "cell_type": "code",
   "execution_count": 30,
   "metadata": {},
   "outputs": [
    {
     "name": "stdout",
     "output_type": "stream",
     "text": [
      "41/41 [==============================] - 1s 30ms/step - loss: 0.0444 - accuracy: 0.9908\n",
      "Test Loss: 0.044394876807928085\n",
      "Test Accuracy: 0.9908046126365662\n"
     ]
    }
   ],
   "source": [
    "# Evaluate the model on the test set\n",
    "test_loss, test_accuracy = model.evaluate(X_test, y_test)\n",
    "print(f\"Test Loss: {test_loss}\\nTest Accuracy: {test_accuracy}\")"
   ]
  },
  {
   "cell_type": "code",
   "execution_count": 48,
   "metadata": {},
   "outputs": [
    {
     "name": "stdout",
     "output_type": "stream",
     "text": [
      "41/41 [==============================] - 1s 29ms/step\n",
      "                precision    recall  f1-score   support\n",
      "\n",
      "        Asthma       1.00      1.00      1.00       160\n",
      "Bronchiectasis       0.99      0.99      0.99       162\n",
      " Bronchiolitis       1.00      1.00      1.00       145\n",
      "          COPD       0.99      0.95      0.97       155\n",
      "       Healthy       0.99      0.99      0.99       182\n",
      "          LRTI       1.00      1.00      1.00       147\n",
      "     Pneumonia       0.96      1.00      0.98       182\n",
      "          URTI       1.00      0.99      1.00       172\n",
      "\n",
      "      accuracy                           0.99      1305\n",
      "     macro avg       0.99      0.99      0.99      1305\n",
      "  weighted avg       0.99      0.99      0.99      1305\n",
      "\n"
     ]
    }
   ],
   "source": [
    "# Assuming model is your trained Keras model\n",
    "predictions = model.predict(X_test)\n",
    "predictions = np.argmax(predictions, axis=1)  # Convert one-hot encoded predictions to class labels\n",
    "\n",
    "# If y_test is one-hot encoded, convert it back to class labels\n",
    "y_test_labels = np.argmax(y_test, axis=1)\n",
    "class_names = label_encoder.classes_\n",
    "print(classification_report(y_test_labels, predictions,target_names=class_names)) "
   ]
  },
  {
   "cell_type": "code",
   "execution_count": null,
   "metadata": {},
   "outputs": [],
   "source": [
    "#predictions = label_encoder.inverse_transform(np.argmax(predictions, axis=1))"
   ]
  },
  {
   "cell_type": "code",
   "execution_count": 58,
   "metadata": {},
   "outputs": [
    {
     "name": "stdout",
     "output_type": "stream",
     "text": [
      "41/41 [==============================] - 2s 37ms/step\n"
     ]
    },
    {
     "data": {
      "image/png": "[encoded data removed]",
      "text/plain": [
       "<Figure size 1000x800 with 1 Axes>"
      ]
     },
     "metadata": {},
     "output_type": "display_data"
    }
   ],
   "source": [
    "probabilities = model.predict(X_test)\n",
    "\n",
    "y_test_labels2=label_encoder.inverse_transform(y_test_labels)\n",
    "y_test_binarized = label_binarize(y_test_labels2, classes=class_names)\n",
    "# Compute ROC curve and ROC area for each class\n",
    "n_classes = len(class_names)\n",
    "fpr = dict()\n",
    "tpr = dict()\n",
    "roc_auc = dict()\n",
    "for i in range(n_classes):\n",
    "    fpr[i], tpr[i], _ = roc_curve(y_test_binarized[:, i], probabilities[:, i])\n",
    "    roc_auc[i] = auc(fpr[i], tpr[i])\n",
    "\n",
    "# Plot all ROC curves\n",
    "plt.figure(figsize=(10, 8))\n",
    "\n",
    "colors = cycle(['aqua', 'darkorange', 'cornflowerblue', 'red', 'green', 'blue', 'pink', 'gray'])\n",
    "for i, color in zip(range(n_classes), colors):\n",
    "    plt.plot(fpr[i], tpr[i], color=color, lw=2,\n",
    "             label='ROC curve of class {0} (area = {1:0.2f})'.format(class_names[i], roc_auc[i]))\n",
    "\n",
    "plt.plot([0, 1], [0, 1], 'k--', lw=2)\n",
    "plt.xlim([0.0, 1.0])\n",
    "plt.ylim([0.0, 1.05])\n",
    "plt.xlabel('False Positive Rate')\n",
    "plt.ylabel('True Positive Rate')\n",
    "plt.title('Multi-class ROC curve')\n",
    "plt.legend(loc=\"lower right\")\n",
    "plt.show()\n"
   ]
  },
  {
   "cell_type": "code",
   "execution_count": 57,
   "metadata": {},
   "outputs": [
    {
     "data": {
      "text/plain": [
       "array([[0, 0, 0, ..., 0, 0, 1],\n",
       "       [0, 0, 0, ..., 0, 1, 0],\n",
       "       [0, 0, 0, ..., 0, 0, 0],\n",
       "       ...,\n",
       "       [0, 0, 0, ..., 0, 1, 0],\n",
       "       [0, 0, 0, ..., 1, 0, 0],\n",
       "       [0, 0, 0, ..., 0, 1, 0]])"
      ]
     },
     "execution_count": 57,
     "metadata": {},
     "output_type": "execute_result"
    }
   ],
   "source": [
    "y_test_labels2=label_encoder.inverse_transform(y_test_labels)\n",
    "y_test_binarized2 = label_binarize(y_test_labels2, classes=class_names)\n",
    "y_test_binarized2"
   ]
  },
  {
   "cell_type": "code",
   "execution_count": 92,
   "metadata": {},
   "outputs": [
    {
     "name": "stdout",
     "output_type": "stream",
     "text": [
      "1/1 [==============================] - 0s 28ms/step\n",
      "Asthma\n"
     ]
    }
   ],
   "source": [
    "file=audio_files[155]\n",
    "mfcc=feature_extraction(file)\n",
    "mfcc = np.expand_dims(mfcc, axis=0) \n",
    "predict=model.predict(mfcc)\n",
    "print(label_encoder.inverse_transform(np.argmax(predict,axis=1))[0])"
   ]
  },
  {
   "cell_type": "code",
   "execution_count": 14,
   "metadata": {},
   "outputs": [
    {
     "data": {
      "text/plain": [
       "'E:\\\\Lea!n\\\\RDM\\\\Respiratory_Sound_Database\\\\audio_and_txt_files\\\\107_2b4_Al_mc_AKGC417L.wav'"
      ]
     },
     "execution_count": 14,
     "metadata": {},
     "output_type": "execute_result"
    }
   ],
   "source": [
    "file=r'E:\\Lea!n\\RDM\\Respiratory_Sound_Database\\audio_and_txt_files\\107_2b4_Al_mc_AKGC417L.wav'\n",
    "file"
   ]
  },
  {
   "cell_type": "code",
   "execution_count": 86,
   "metadata": {},
   "outputs": [],
   "source": [
    "model.save('RDM_Diagnose.h5')"
   ]
  },
  {
   "cell_type": "markdown",
   "metadata": {},
   "source": [
    "## Extra work releated to reuse of the model"
   ]
  },
  {
   "cell_type": "code",
   "execution_count": 15,
   "metadata": {},
   "outputs": [],
   "source": [
    "def feature_extraction(file,max_pad_len=926,n_features=52):\n",
    "    \n",
    "    audio, sample_rate = librosa.load(file)\n",
    "    mfccs = librosa.feature.mfcc(y=audio, sr=sample_rate,n_mfcc=n_features)\n",
    "    \n",
    "    if (mfccs.shape[1] < max_pad_len):\n",
    "        pad_width = max_pad_len - mfccs.shape[1]\n",
    "        mfccs = np.pad(mfccs, pad_width=((0, 0), (0, pad_width)), mode='constant')\n",
    "        \n",
    "    elif (mfccs.shape[1] > max_pad_len):\n",
    "        mfccs = mfccs[:, :max_pad_len]\n",
    "      \n",
    "    #adding one more dimension(1,52,926) to the mfccs needed for the model when working with single file\n",
    "    mfccs=np.expand_dims(mfccs,axis=0)\n",
    "      \n",
    "    return mfccs"
   ]
  },
  {
   "cell_type": "code",
   "execution_count": 13,
   "metadata": {},
   "outputs": [
    {
     "data": {
      "text/plain": [
       "array(['Asthma', 'Bronchiectasis', 'Bronchiolitis', 'COPD', 'Healthy',\n",
       "       'LRTI', 'Pneumonia', 'URTI'], dtype='<U14')"
      ]
     },
     "execution_count": 13,
     "metadata": {},
     "output_type": "execute_result"
    }
   ],
   "source": [
    "label_encoder.classes_"
   ]
  },
  {
   "cell_type": "code",
   "execution_count": 18,
   "metadata": {},
   "outputs": [],
   "source": [
    "s_model = load_model('RDM_Diagnose.h5', custom_objects={'SeqSelfAttention': SeqSelfAttention})"
   ]
  },
  {
   "cell_type": "code",
   "execution_count": 36,
   "metadata": {},
   "outputs": [
    {
     "name": "stdout",
     "output_type": "stream",
     "text": [
      "1/1 [==============================] - 0s 34ms/step\n",
      "COPD\n"
     ]
    }
   ],
   "source": [
    "mfcc=feature_extraction(file)\n",
    "predict=s_model.predict(mfcc)\n",
    "print(label_encoder.inverse_transform(np.argmax(predict,axis=1))[0])"
   ]
  },
  {
   "cell_type": "code",
   "execution_count": 42,
   "metadata": {},
   "outputs": [],
   "source": [
    "#saving the label encoder and feature extraction function\n",
    "pickle.dump(label_encoder, open(r'Serialized_objects\\disease_encoder.pkl', 'wb'))\n",
    "\n",
    "#pickle.dump(feature_extraction, open(r'Serialized_objects\\mfcc_feature_extraction.pkl', 'wb'))"
   ]
  }
 ],
 "metadata": {
  "kernelspec": {
   "display_name": "Python 3",
   "language": "python",
   "name": "python3"
  },
  "language_info": {
   "codemirror_mode": {
    "name": "ipython",
    "version": 3
   },
   "file_extension": ".py",
   "mimetype": "text/x-python",
   "name": "python",
   "nbconvert_exporter": "python",
   "pygments_lexer": "ipython3",
   "version": "3.11.1"
  }
 },
 "nbformat": 4,
 "nbformat_minor": 2
}
